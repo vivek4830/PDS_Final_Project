{
 "cells": [
  {
   "cell_type": "code",
   "execution_count": 1,
   "metadata": {
    "collapsed": true
   },
   "outputs": [],
   "source": [
    "import csv\n",
    "import nltk\n",
    "import string\n",
    "import pandas as pd\n",
    "from collections import Counter\n",
    "import sklearn\n",
    "from itertools import dropwhile\n",
    "lemmatizer=nltk.stem.wordnet.WordNetLemmatizer()\n",
    "stopwords=nltk.corpus.stopwords.words('english')"
   ]
  },
  {
   "cell_type": "markdown",
   "metadata": {},
   "source": [
    "## Read CSV file "
   ]
  },
  {
   "cell_type": "code",
   "execution_count": 104,
   "metadata": {
    "collapsed": true
   },
   "outputs": [],
   "source": [
    "def csv_to_df(path):\n",
    "    df = pd.read_csv(path)\n",
    "    df = df[[df.columns[-1]]]\n",
    "    df = df.dropna(axis=0)\n",
    "    return df\n",
    "\n",
    "def sort_by_rating_count_csv(path):\n",
    "    df = pd.read_csv(path)\n",
    "    df = df[[df.columns[-4],df.columns[-1]]]\n",
    "    df = df.dropna(axis=0)\n",
    "    df = df.sort_values(\"rating_count\", ascending=False)\n",
    "    return df\n",
    "\n",
    "def sort_by_date_csv(path):\n",
    "    df = pd.read_csv(path)\n",
    "    df = df[[df.columns[-7],df.columns[-1]]]\n",
    "    df = df.dropna(axis = 0)\n",
    "    df = df[df.publication_date != '//']\n",
    "    df[\"publication_date\"] = df[\"publication_date\"].apply(lambda x: x[-4:])\n",
    "    df = df.sort_values(\"publication_date\", ascending=False)\n",
    "    # remove rows without date\n",
    "    return df"
   ]
  },
  {
   "cell_type": "markdown",
   "metadata": {},
   "source": [
    "## Functions for processing df description -> list of lemmatized words"
   ]
  },
  {
   "cell_type": "code",
   "execution_count": 36,
   "metadata": {
    "collapsed": true
   },
   "outputs": [],
   "source": [
    "def process(text, lemmatizer=nltk.stem.wordnet.WordNetLemmatizer()):\n",
    "    text = text.lower()\n",
    "    text = text.replace(\"'s\", \"\")\n",
    "    text = text.replace(\"'\", \"\")\n",
    "    for char in text: \n",
    "        if (char in string.punctuation): text = text.replace(char, \" \")\n",
    "    words = nltk.word_tokenize(text)\n",
    "    words = [lemmatizer.lemmatize(word) for word in words]\n",
    "    filtered_words = [word for word in words if word not in stopwords]\n",
    "    return filtered_words\n",
    "\n",
    "def process_all(df, lemmatizer=nltk.stem.wordnet.WordNetLemmatizer()):\n",
    "    for i, row in df.iterrows():\n",
    "        original = row['description']\n",
    "        df.at[i, 'description'] = process(original)\n",
    "    return df"
   ]
  },
  {
   "cell_type": "markdown",
   "metadata": {},
   "source": [
    "## Most poular words in general, and 20 most common words below"
   ]
  },
  {
   "cell_type": "code",
   "execution_count": 109,
   "metadata": {},
   "outputs": [],
   "source": [
    "def get_rare_words(processed):\n",
    "    fin = []\n",
    "    for i, row in processed.iterrows():\n",
    "        fin.extend(row['description'])\n",
    "    count = Counter(fin)\n",
    "    return count\n",
    "\n",
    "counter_all = Counter()\n",
    "for i in range(1,11):\n",
    "    df = csv_to_df('metadata/metadata%d.csv'%(i))\n",
    "    processed = process_all(df)\n",
    "    rare = get_rare_words(processed)\n",
    "    counter_all += rare"
   ]
  },
  {
   "cell_type": "code",
   "execution_count": 42,
   "metadata": {},
   "outputs": [
    {
     "name": "stdout",
     "output_type": "stream",
     "text": [
      "[('life', 15917), ('book', 15651), ('ha', 15297), ('one', 14051), ('new', 13940), ('’', 13253), ('wa', 11994), ('de', 11750), ('world', 11615), ('story', 10775), ('time', 10179), ('work', 8836), ('first', 8165), ('year', 7972), ('la', 7450), ('love', 6339), ('woman', 6054), ('history', 5843), ('novel', 5821), ('man', 5682)]\n"
     ]
    }
   ],
   "source": [
    "print(counter_all.most_common(20))"
   ]
  },
  {
   "cell_type": "markdown",
   "metadata": {},
   "source": [
    "## Most popular words, grouped by rating"
   ]
  },
  {
   "cell_type": "code",
   "execution_count": 45,
   "metadata": {
    "collapsed": true
   },
   "outputs": [],
   "source": [
    "import matplotlib.pyplot as plt \n",
    "%matplotlib inline"
   ]
  },
  {
   "cell_type": "code",
   "execution_count": 55,
   "metadata": {
    "scrolled": false
   },
   "outputs": [
    {
     "data": {
      "image/png": "[encoded data removed]",
      "text/plain": [
       "<matplotlib.figure.Figure at 0x1a2f27eeb8>"
      ]
     },
     "metadata": {},
     "output_type": "display_data"
    }
   ],
   "source": [
    "for x in range(1,11):\n",
    "    df = sort_by_rating_count_csv('metadata/metadata%d.csv'%(x))\n",
    "    plt.hist(df['rating_count'])\n",
    "#     print(df['rating_count'].describe())"
   ]
  },
  {
   "cell_type": "code",
   "execution_count": 76,
   "metadata": {},
   "outputs": [],
   "source": [
    "def get_rare_words_rating(processed):\n",
    "    R0_100k, R100k_200k,  R200k_300k,  R300k_400k, R400k_500k,  R500k_600k, R600k_700k, \\\n",
    "    R700k_800k, R800k_900k, R900k_1000k, R1000k_3000k, R3000kabove \\\n",
    "                = [], [], [], [], [], [], [], [], [], [], [], []\n",
    "    for i, row in processed.iterrows():\n",
    "        if (0 < row['rating_count'] < 100000): R0_100k.extend(row['description'])\n",
    "        elif (100000 < row['rating_count'] < 200000): R100k_200k.extend(row['description'])\n",
    "        elif (200000 < row['rating_count'] < 300000): R200k_300k.extend(row['description'])\n",
    "        elif (300000 < row['rating_count'] < 400000): R300k_400k.extend(row['description'])\n",
    "        elif (400000 < row['rating_count'] < 500000): R400k_500k.extend(row['description'])\n",
    "        elif (500000 < row['rating_count'] < 600000): R500k_600k.extend(row['description'])\n",
    "        elif (600000 < row['rating_count'] < 700000): R600k_700k.extend(row['description'])\n",
    "        elif (700000 < row['rating_count'] < 800000): R700k_800k.extend(row['description'])\n",
    "        elif (800000 < row['rating_count'] < 900000): R800k_900k.extend(row['description'])\n",
    "        elif (900000 < row['rating_count'] < 1000000): R900k_1000k.extend(row['description'])\n",
    "        elif (1000000 < row['rating_count'] < 3000000): R1000k_3000k.extend(row['description'])\n",
    "        elif (3000000 < row['rating_count']): R3000kabove.extend(row['description'])\n",
    "            \n",
    "    return Counter(R0_100k), Counter(R100k_200k), Counter(R200k_300k), Counter(R300k_400k), \\\n",
    "            Counter(R400k_500k), Counter(R500k_600k), Counter(R600k_700k), Counter(R700k_800k), \\\n",
    "            Counter(R800k_900k), Counter(R900k_1000k), Counter(R1000k_3000k), Counter(R3000kabove)"
   ]
  },
  {
   "cell_type": "code",
   "execution_count": 77,
   "metadata": {
    "scrolled": true
   },
   "outputs": [],
   "source": [
    "R0_100k, R100k_200k,  R200k_300k,  R300k_400k, R400k_500k,  R500k_600k, R600k_700k, \\\n",
    "    R700k_800k, R800k_900k, R900k_1000k, R1000k_3000k, R3000kabove \\\n",
    "        = Counter(), Counter(), Counter(), Counter(), Counter(), Counter(), Counter(), Counter(),\\\n",
    "            Counter(), Counter(), Counter(), Counter()\n",
    "for x in range(10):\n",
    "    df = sort_by_rating_count_csv('metadata/metadata%d.csv'%(x+1))\n",
    "    processed = process_all(df)\n",
    "    a, b, c, d, e, f, g, h, i, j, k, l = get_rare_words_rating(processed)\n",
    "    R0_100k += a\n",
    "    R100k_200k += b\n",
    "    R200k_300k += c\n",
    "    R300k_400k += d\n",
    "    R400k_500k += e\n",
    "    R500k_600k += f\n",
    "    R600k_700k += g\n",
    "    R700k_800k += h\n",
    "    R800k_900k += i\n",
    "    R900k_1000k += j\n",
    "    R1000k_3000k += k\n",
    "    R3000kabove += l"
   ]
  },
  {
   "cell_type": "code",
   "execution_count": 78,
   "metadata": {},
   "outputs": [
    {
     "name": "stdout",
     "output_type": "stream",
     "text": [
      "[('life', 14621), ('book', 14224), ('ha', 13747), ('new', 12870), ('one', 12587), ('’', 12178), ('wa', 10830), ('world', 10467), ('de', 9761), ('story', 9694)]\n",
      "[('de', 697), ('ha', 638), ('one', 469), ('life', 445), ('la', 415), ('new', 390), ('world', 388), ('’', 388), ('wa', 380), ('book', 357)]\n",
      "[('de', 273), ('one', 216), ('ha', 193), ('la', 175), ('’', 153), ('story', 152), ('world', 147), ('life', 144), ('new', 130), ('book', 120)]\n",
      "[('book', 162), ('de', 140), ('la', 100), ('life', 91), ('’', 84), ('world', 80), ('wa', 79), ('one', 74), ('story', 74), ('ha', 69)]\n",
      "[('ring', 168), ('one', 127), ('de', 115), ('ha', 107), ('edition', 90), ('lord', 88), ('book', 80), ('story', 73), ('frank', 69), ('que', 68)]\n",
      "[('life', 105), ('story', 97), ('world', 84), ('novel', 83), ('one', 72), ('ha', 63), ('edition', 60), ('’', 58), ('book', 54), ('new', 49)]\n",
      "[('de', 65), ('one', 62), ('la', 50), ('life', 34), ('classic', 33), ('year', 33), ('wild', 31), ('novel', 30), ('ha', 29), ('book', 28)]\n",
      "[('wa', 89), ('dorian', 85), ('’', 77), ('dracula', 76), ('book', 75), ('de', 70), ('world', 61), ('year', 57), ('la', 57), ('ha', 55)]\n",
      "[('’', 19), ('elinor', 18), ('edition', 15), ('love', 14), ('sense', 14), ('sensibility', 14), ('tale', 13), ('marianne', 13), ('de', 13), ('sister', 12)]\n",
      "[('de', 133), ('frankenstein', 90), ('life', 63), ('story', 54), ('le', 46), ('science', 33), ('ha', 32), ('der', 32), ('à', 31), ('wa', 30)]\n",
      "[('de', 214), ('one', 193), ('wa', 167), ('ha', 154), ('world', 135), ('la', 134), ('book', 130), ('love', 129), ('story', 127), ('’', 110)]\n",
      "[('harry', 64), ('first', 33), ('gatsby', 25), ('magical', 24), ('evil', 22), ('best', 20), ('story', 20), ('ever', 19), ('world', 19), ('within', 18)]\n"
     ]
    }
   ],
   "source": [
    "print(R0_100k.most_common(10))\n",
    "print(R100k_200k.most_common(10))\n",
    "print(R200k_300k.most_common(10))\n",
    "print(R300k_400k.most_common(10))\n",
    "print(R400k_500k.most_common(10))\n",
    "print(R500k_600k.most_common(10))\n",
    "print(R600k_700k.most_common(10))\n",
    "print(R700k_800k.most_common(10))\n",
    "print(R800k_900k.most_common(10))\n",
    "print(R900k_1000k.most_common(10))\n",
    "print(R1000k_3000k.most_common(10))\n",
    "print(R3000kabove.most_common(10))"
   ]
  },
  {
   "cell_type": "markdown",
   "metadata": {},
   "source": [
    "## Most popular words over time"
   ]
  },
  {
   "cell_type": "code",
   "execution_count": 111,
   "metadata": {},
   "outputs": [
    {
     "data": {
      "image/png": "[encoded data removed]",
      "text/plain": [
       "<matplotlib.figure.Figure at 0x1a3dd98a58>"
      ]
     },
     "metadata": {},
     "output_type": "display_data"
    }
   ],
   "source": [
    "# fig = plt.figure()\n",
    "for x in range(1,11):\n",
    "    df = sort_by_date_csv('metadata/metadata%d.csv'%(x))\n",
    "#     print(Counter(df[\"publication_date\"]))\n",
    "    plt.hist(df[\"publication_date\"], alpha=0.5, \\\n",
    "             bins=[1800,1900,1910,1920,1930,1940,1950,1960,1970,1980,1990,2000,2010,2020])\n",
    "#     df[\"publication_date\"].hist()\n",
    "#     ax = fig.add_subplot(df[\"publication_date\"])"
   ]
  },
  {
   "cell_type": "markdown",
   "metadata": {},
   "source": [
    "## Most poular words by rating for REVIEWS"
   ]
  },
  {
   "cell_type": "code",
   "execution_count": 119,
   "metadata": {
    "collapsed": true
   },
   "outputs": [],
   "source": [
    "def review_csv_to_df(path):\n",
    "    df = pd.read_csv(path)\n",
    "    df = df.dropna(axis=0)\n",
    "    return df"
   ]
  },
  {
   "cell_type": "code",
   "execution_count": 138,
   "metadata": {},
   "outputs": [],
   "source": [
    "def review_process(text, lemmatizer=nltk.stem.wordnet.WordNetLemmatizer()):\n",
    "    text = text.lower()\n",
    "    text = text.replace(\"'s\", \"\")\n",
    "    text = text.replace(\"'\", \"\")\n",
    "    for char in text: \n",
    "        if (char in string.punctuation): text = text.replace(char, \" \")\n",
    "    words = nltk.word_tokenize(text)\n",
    "    words = [lemmatizer.lemmatize(word) for word in words]\n",
    "    filtered_words = [word for word in words if word not in stopwords]\n",
    "    return filtered_words\n",
    "\n",
    "def review_process_all(df, lemmatizer=nltk.stem.wordnet.WordNetLemmatizer()):\n",
    "    for i, row in df.iterrows():\n",
    "        original = row['text']\n",
    "        df.at[i, 'text'] = review_process(original)\n",
    "    return df\n",
    "\n",
    "def review_get_rare_words(processed):\n",
    "    one, two, three, four, five = [], [], [], [], []\n",
    "    for i, row in processed.iterrows():\n",
    "        if (row['rating'] == 1.0): one.extend(row['text'])\n",
    "        elif (row['rating'] == 2.0): two.extend(row['text'])\n",
    "        elif (row['rating'] == 3.0): three.extend(row['text'])\n",
    "        elif (row['rating'] == 4.0): four.extend(row['text'])\n",
    "        elif (row['rating'] == 5.0): five.extend(row['text'])\n",
    "    return Counter(one), Counter(two), Counter(three), Counter(four), Counter(five)"
   ]
  },
  {
   "cell_type": "code",
   "execution_count": 139,
   "metadata": {},
   "outputs": [],
   "source": [
    "one, two, three, four, five = Counter(), Counter(), Counter(), Counter(), Counter()\n",
    "for i in range(1,3):\n",
    "    df = review_csv_to_df('reviews%d.csv'%(i))\n",
    "#     df = review_csv_to_df('reviews1.csv')\n",
    "    processed = review_process_all(df)\n",
    "    a, b, c, d, e = review_get_rare_words(processed)\n",
    "    one += a\n",
    "    two += b\n",
    "    three += c\n",
    "    four += d\n",
    "    five += e"
   ]
  },
  {
   "cell_type": "code",
   "execution_count": 141,
   "metadata": {},
   "outputs": [
    {
     "name": "stdout",
     "output_type": "stream",
     "text": [
      "rating one :   \n",
      "[('book', 24507), ('wa', 15510), ('read', 9576), ('like', 5836), ('one', 5778), ('really', 3641), ('reading', 3559), ('story', 3541), ('character', 3481), ('time', 3358), ('first', 3142), ('get', 2947), ('would', 2942), ('im', 2839), ('dont', 2711), ('page', 2652), ('didnt', 2583), ('’', 2370), ('much', 2370), ('author', 2369), ('good', 2358), ('ha', 2336), ('even', 2250), ('think', 2245), ('know', 2130), ('novel', 2090), ('people', 2081), ('could', 1984), ('ever', 1920), ('writing', 1917)]\n",
      "\n",
      "\n",
      "rating two :   \n",
      "[('book', 34378), ('wa', 27696), ('read', 14547), ('like', 9750), ('one', 9525), ('story', 8653), ('really', 7051), ('character', 5933), ('time', 5600), ('first', 5547), ('much', 5382), ('reading', 5313), ('good', 4929), ('didnt', 4658), ('’', 4624), ('would', 4545), ('ha', 4497), ('im', 4318), ('novel', 4297), ('get', 4217), ('think', 3958), ('interesting', 3723), ('author', 3585), ('dont', 3577), ('well', 3438), ('love', 3297), ('way', 3291), ('de', 3180), ('writing', 3167), ('know', 3112)]\n",
      "\n",
      "\n",
      "rating three :   \n",
      "[('book', 69248), ('wa', 55277), ('read', 36254), ('story', 23936), ('one', 21466), ('like', 18045), ('good', 14273), ('time', 14221), ('first', 13855), ('really', 13185), ('reading', 12033), ('’', 11455), ('character', 11396), ('much', 11211), ('ha', 10786), ('novel', 10575), ('interesting', 9815), ('de', 9645), ('would', 9215), ('life', 8630), ('well', 8470), ('get', 8372), ('think', 8202), ('year', 8000), ('little', 7961), ('im', 7938), ('love', 7871), ('3', 7845), ('star', 7589), ('way', 7246)]\n",
      "\n",
      "\n",
      "rating four :   \n",
      "[('book', 111506), ('wa', 77590), ('read', 60854), ('story', 38601), ('one', 36674), ('like', 24406), ('time', 23739), ('first', 22079), ('reading', 21221), ('really', 21113), ('good', 20196), ('’', 19973), ('de', 19535), ('ha', 19267), ('novel', 17834), ('character', 17218), ('life', 17048), ('great', 16288), ('love', 16101), ('year', 15300), ('much', 15289), ('well', 14946), ('la', 13866), ('would', 12922), ('e', 12362), ('think', 12128), ('way', 11952), ('que', 11873), ('enjoyed', 11596), ('و', 11370)]\n",
      "\n",
      "\n",
      "rating five :   \n",
      "[('book', 129811), ('read', 72841), ('wa', 71934), ('one', 45542), ('story', 34432), ('time', 30449), ('love', 24256), ('reading', 23633), ('like', 22459), ('first', 21904), ('’', 21648), ('ha', 21270), ('de', 19488), ('life', 19123), ('year', 18805), ('great', 18089), ('novel', 17535), ('really', 16484), ('much', 15432), ('character', 15120), ('loved', 13789), ('good', 13508), ('la', 13094), ('would', 12782), ('many', 12690), ('think', 12626), ('way', 12536), ('e', 12349), ('well', 12346), ('ive', 12217)]\n"
     ]
    }
   ],
   "source": [
    "print(\"rating one :   \")\n",
    "print(one.most_common(30))\n",
    "print(\"\\n\")\n",
    "print(\"rating two :   \")\n",
    "print(two.most_common(30))\n",
    "print(\"\\n\")\n",
    "print(\"rating three :   \")\n",
    "print(three.most_common(30))\n",
    "print(\"\\n\")\n",
    "print(\"rating four :   \")\n",
    "print(four.most_common(30))\n",
    "print(\"\\n\")\n",
    "print(\"rating five :   \")\n",
    "print(five.most_common(30))"
   ]
  },
  {
   "cell_type": "code",
   "execution_count": null,
   "metadata": {
    "collapsed": true
   },
   "outputs": [],
   "source": []
  }
 ],
 "metadata": {
  "kernelspec": {
   "display_name": "Python 3",
   "language": "python",
   "name": "python3"
  },
  "language_info": {
   "codemirror_mode": {
    "name": "ipython",
    "version": 3
   },
   "file_extension": ".py",
   "mimetype": "text/x-python",
   "name": "python",
   "nbconvert_exporter": "python",
   "pygments_lexer": "ipython3",
   "version": "3.6.3"
  }
 },
 "nbformat": 4,
 "nbformat_minor": 2
}
