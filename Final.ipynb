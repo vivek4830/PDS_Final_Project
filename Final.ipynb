{
 "cells": [
  {
   "cell_type": "markdown",
   "metadata": {},
   "source": [
    "# Analysis of Popular Description Words using Goodreads Data"
   ]
  },
  {
   "cell_type": "markdown",
   "metadata": {},
   "source": [
    "blah blah blah"
   ]
  },
  {
   "cell_type": "markdown",
   "metadata": {},
   "source": [
    "### Content\n",
    "\n",
    "Topics that are covered in this tutorial are:\n",
    "- Loading data from Goodreads API\n",
    "- Processing descriptions into meaningful words\n",
    "- Most common words used in general\n",
    "- Most common words used, grouped by popularity of the book\n",
    "- Most common words used, grouped by rating of the book\n",
    "- Most common words used overtime\n",
    "- Most common words used in reviews, grouped by rating of the book"
   ]
  },
  {
   "cell_type": "code",
   "execution_count": 79,
   "metadata": {
    "collapsed": true
   },
   "outputs": [],
   "source": [
    "import time, json\n",
    "import requests\n",
    "import csv\n",
    "from bs4 import BeautifulSoup\n",
    "import nltk\n",
    "import string\n",
    "import pandas as pd\n",
    "from collections import Counter"
   ]
  },
  {
   "cell_type": "markdown",
   "metadata": {},
   "source": [
    "### Loading data from Goodreads API"
   ]
  },
  {
   "cell_type": "code",
   "execution_count": 2,
   "metadata": {},
   "outputs": [
    {
     "name": "stdout",
     "output_type": "stream",
     "text": [
      "yfmkhh2aWg8dnQyvnoRXg\n"
     ]
    }
   ],
   "source": [
    "def read_api_key(filepath):\n",
    "    with open(filepath, 'r') as f:\n",
    "        return f.read().replace('\\n','')\n",
    "    \n",
    "api_key = read_api_key('api_key.txt')\n",
    "print(api_key)"
   ]
  },
  {
   "cell_type": "markdown",
   "metadata": {},
   "source": [
    "Test function for querying goodreads API"
   ]
  },
  {
   "cell_type": "code",
   "execution_count": 5,
   "metadata": {
    "collapsed": true
   },
   "outputs": [],
   "source": [
    "def goodreads_query(api_key):\n",
    "    \"\"\"\n",
    "    api_key (string): API key\n",
    "    url (string): Base query URL\n",
    "    query (dictionary): Query parameters\n",
    "    \"\"\"\n",
    "    request_params = {'id':68428, 'key':api_key, 'format':'xml', 'text_only':'true'}\n",
    "    response = requests.get('https://www.goodreads.com/book/show', params=request_params)\n",
    "    soup = BeautifulSoup(response.text, 'lxml')\n",
    "    shelves = soup.find('popular_shelves')\n",
    "    return response\n",
    "\n",
    "temp_response = goodreads_query(api_key)"
   ]
  },
  {
   "cell_type": "markdown",
   "metadata": {},
   "source": [
    "Get metadata about a book given its book ID. \n",
    "\n",
    "Metadata includes: book_id, author, publication_date(month/day/year), publisher, review_count, rating_count, average_rating and genre and description"
   ]
  },
  {
   "cell_type": "code",
   "execution_count": 6,
   "metadata": {},
   "outputs": [],
   "source": [
    "# Get metadata about a book given its book ID\n",
    "def get_book_metadata(api_key, book_id):\n",
    "    request_params = {'id':book_id, 'key':api_key, 'format':'xml', 'text_only':'true'}\n",
    "    response = requests.get('https://www.goodreads.com/book/show', params=request_params)\n",
    "    \n",
    "    book_info = {}\n",
    "    book_info['book_id'] = book_id\n",
    "    soup = BeautifulSoup(response.text, 'lxml')\n",
    "    \n",
    "    # Author\n",
    "    book_info['author'] = soup.find('author').find('name').text\n",
    "    \n",
    "    # Publication date\n",
    "    year = soup.find('publication_year').text\n",
    "    month = soup.find('publication_month').text\n",
    "    day = soup.find('publication_day').text\n",
    "    book_info['publication_date'] = str(month) + '/' + str(day) + '/' + str(year)\n",
    "    \n",
    "    # Publisher\n",
    "    book_info['publisher'] = soup.find('publisher').text\n",
    "    \n",
    "    # Review information\n",
    "    book_info['review_count'] = soup.find('text_reviews_count').text\n",
    "    \n",
    "    # Rating information\n",
    "    book_info['rating_count'] = soup.find('ratings_count').text\n",
    "    book_info['average_rating'] = soup.find('average_rating').text\n",
    "    \n",
    "    # Treat the genre as the most popular shelf this book has been placed on\n",
    "    book_info['genre'] = soup.find('popular_shelves').find('shelf')['name']\n",
    "    \n",
    "    return book_info"
   ]
  },
  {
   "cell_type": "markdown",
   "metadata": {},
   "source": [
    "We downloaded 10 csv files of 10k books each, totaling in 100k books."
   ]
  },
  {
   "cell_type": "code",
   "execution_count": null,
   "metadata": {
    "collapsed": true
   },
   "outputs": [],
   "source": [
    "# Save all book metadata as a CSV\n",
    "def download_book_metadata(api_key):\n",
    "    data_columns = ['book_id', 'author', 'publication_date', 'publisher', 'review_count', 'rating_count', 'average_rating', 'genre']\n",
    "    \n",
    "    with open('metadata.csv', 'w', encoding='utf-8') as output_file:\n",
    "        dict_writer = csv.DictWriter(output_file, data_columns, lineterminator='\\n')\n",
    "        dict_writer.writeheader()\n",
    "        \n",
    "        # TODO: iterate through book IDs - add a time.sleep(1) between each iteration\n",
    "        current_metadata = get_book_metadata(api_key, 68428)\n",
    "        dict_writer.writerow(current_metadata)\n",
    "\n",
    "download_book_metadata(api_key)"
   ]
  },
  {
   "cell_type": "markdown",
   "metadata": {},
   "source": [
    "Get all the reviews for a given book ID as a list of dictionaries.\n",
    "\n",
    "Review data includes: book_id, rating, date (day-month-year), and text"
   ]
  },
  {
   "cell_type": "code",
   "execution_count": 129,
   "metadata": {
    "collapsed": true
   },
   "outputs": [],
   "source": [
    "def get_reviews(api_key, book_id):\n",
    "    request_params = {'id':book_id, 'key':api_key, 'format':'xml', 'text_only':'true'}\n",
    "    response = requests.get('https://www.goodreads.com/book/show', params=request_params)\n",
    "    \n",
    "    soup = BeautifulSoup(response.text, 'lxml')\n",
    "    iframe = soup.find('reviews_widget').find('iframe')\n",
    "    \n",
    "    all_reviews = []\n",
    "    \n",
    "    reviews_url = iframe['src']\n",
    "    response_reviews = requests.get(reviews_url)\n",
    "    \n",
    "    while(1):\n",
    "        review_soup = BeautifulSoup(response_reviews.text, 'lxml')\n",
    "        reviews = review_soup.find_all('div', {'class':'gr_review_container'})\n",
    "\n",
    "        for review in reviews:\n",
    "            current_review = {}\n",
    "\n",
    "            # Extract the rating\n",
    "            rating = review.find('span', {'class':'gr_rating'})\n",
    "            if (rating):\n",
    "                rating = rating.find_all(text=True)\n",
    "                rating_num = 0\n",
    "                for i in range(len(rating[0])):\n",
    "                    if (ord(rating[0][i]) == 9733):\n",
    "                        rating_num += 1\n",
    "            else:\n",
    "                rating_num = -1\n",
    "\n",
    "            # Extract the date\n",
    "            date = review.find('span', {'class':'gr_review_date'}).find_all(text=True)\n",
    "            date = [x.strip() for x in date][0]\n",
    "\n",
    "            # Extract the review text\n",
    "            s = [x.strip() for x in review.find('div', {'class':'gr_review_text'}).find_all(text=True)]\n",
    "            s = [x for x in s if x]\n",
    "\n",
    "            # Ignore the last element, the '...more'\n",
    "            review_text = ' '.join(s[:-1])\n",
    "\n",
    "            # Remove the last word, since it will be partial\n",
    "            review_text = ' '.join(review_text.split(' ')[:-1])\n",
    "\n",
    "            current_review['book_id'] = book_id\n",
    "            current_review['rating'] = rating_num\n",
    "            current_review['date'] = date\n",
    "            current_review['text'] = review_text\n",
    "\n",
    "            all_reviews.append(current_review)\n",
    "\n",
    "        # See if there is another page of reviews\n",
    "        if (review_soup.find_all('a', {'class':'next_page'}) != []):\n",
    "            # There is another page\n",
    "            reviews_url = 'https://goodreads.com' + review_soup.find('a', {'class':'next_page'})['href']\n",
    "            response_reviews = requests.get(reviews_url)\n",
    "        else:\n",
    "            # No more pages of reviews\n",
    "            break\n",
    "        \n",
    "    return all_reviews"
   ]
  },
  {
   "cell_type": "markdown",
   "metadata": {},
   "source": [
    "We downloaded 5 csv files of 10k reviews each, totaling in 60k books."
   ]
  },
  {
   "cell_type": "code",
   "execution_count": 130,
   "metadata": {
    "collapsed": true
   },
   "outputs": [],
   "source": [
    "def download_reviews(api_key):\n",
    "    data_columns = ['book_id', 'rating', 'date', 'text']\n",
    "    \n",
    "    with open('reviews.csv', 'w', encoding='utf-8') as output_file:\n",
    "        dict_writer = csv.DictWriter(output_file, data_columns, lineterminator='\\n')\n",
    "        dict_writer.writeheader()\n",
    "        \n",
    "        # TODO: iterate through book IDs - add a time.sleep(1) between each iteration\n",
    "        current_reviews = get_reviews(api_key, 68428)\n",
    "        dict_writer.writerows(current_reviews)\n",
    "\n",
    "book_reviews = get_reviews(api_key, 68428)"
   ]
  },
  {
   "cell_type": "markdown",
   "metadata": {},
   "source": [
    "### Processing descriptions into meaningful words"
   ]
  },
  {
   "cell_type": "code",
   "execution_count": 84,
   "metadata": {
    "collapsed": true
   },
   "outputs": [],
   "source": [
    "def csv_to_df(path):\n",
    "    df = pd.read_csv(path)\n",
    "    df = df[pd.notnull(df['description'])]\n",
    "    return df"
   ]
  },
  {
   "cell_type": "code",
   "execution_count": 69,
   "metadata": {
    "collapsed": true
   },
   "outputs": [],
   "source": [
    "lemmatizer=nltk.stem.wordnet.WordNetLemmatizer()\n",
    "stopwords=nltk.corpus.stopwords.words('english')"
   ]
  },
  {
   "cell_type": "markdown",
   "metadata": {},
   "source": [
    "We take out the words book and author, since it occurs the most times in most categories, yet it seemes meaningless."
   ]
  },
  {
   "cell_type": "code",
   "execution_count": 109,
   "metadata": {
    "collapsed": true
   },
   "outputs": [],
   "source": [
    "def process(text, lemmatizer=nltk.stem.wordnet.WordNetLemmatizer()):\n",
    "    text = text.lower()\n",
    "    text = text.replace(\"'s\", \"\")\n",
    "    text = text.replace(\"'\", \"\")\n",
    "    for char in text: \n",
    "        if (char in string.punctuation): text = text.replace(char, \" \")\n",
    "    words = nltk.word_tokenize(text)\n",
    "    words = [lemmatizer.lemmatize(word, 'v') for word in words]\n",
    "    filtered_words = [word for word in words if word not in stopwords \\\n",
    "                      and word != 'book' and word != 'autho' and word != \"'\" and word != '\"']\n",
    "    return filtered_words\n",
    "\n",
    "def process_all(df, lemmatizer=nltk.stem.wordnet.WordNetLemmatizer()):\n",
    "    for i, row in df.iterrows():\n",
    "        original = row['description']\n",
    "        df.at[i, 'description'] = process(original)\n",
    "    return df"
   ]
  },
  {
   "cell_type": "markdown",
   "metadata": {},
   "source": [
    "### Most common words used in general"
   ]
  },
  {
   "cell_type": "code",
   "execution_count": 87,
   "metadata": {
    "collapsed": true
   },
   "outputs": [],
   "source": [
    "def popular_words(processed):\n",
    "    fin = []\n",
    "    for i, row in processed.iterrows():\n",
    "        fin.extend(row['description'])\n",
    "    count = Counter(fin)\n",
    "    return count"
   ]
  },
  {
   "cell_type": "code",
   "execution_count": 88,
   "metadata": {},
   "outputs": [],
   "source": [
    "counter_all = Counter()\n",
    "for i in range(1,11):\n",
    "    df = csv_to_df('metadata/metadata%d.csv'%(i))\n",
    "    processed = process_all(df)\n",
    "    rare = popular_words(processed)\n",
    "    counter_all += rare"
   ]
  },
  {
   "cell_type": "markdown",
   "metadata": {},
   "source": [
    "Few significant words seems to be: life, world, time, love, and man"
   ]
  },
  {
   "cell_type": "code",
   "execution_count": 89,
   "metadata": {},
   "outputs": [
    {
     "name": "stdout",
     "output_type": "stream",
     "text": [
      "[('new', 13940), ('one', 13690), ('’', 13253), ('life', 12811), ('world', 11094), ('de', 11091), ('work', 10260), ('time', 10250), ('make', 8590), ('first', 8162), ('write', 7872), ('find', 7463), ('include', 7413), ('love', 7375), ('story', 7215), ('live', 6680), ('la', 6217), ('take', 5802), ('man', 5732), ('author', 5701)]\n"
     ]
    }
   ],
   "source": [
    "print(counter_all.most_common(20))"
   ]
  },
  {
   "cell_type": "markdown",
   "metadata": {},
   "source": [
    "### Most common words used, grouped by popularity of the book"
   ]
  },
  {
   "cell_type": "code",
   "execution_count": 17,
   "metadata": {
    "collapsed": true
   },
   "outputs": [],
   "source": [
    "import matplotlib.pyplot as plt \n",
    "%matplotlib inline"
   ]
  },
  {
   "cell_type": "markdown",
   "metadata": {},
   "source": [
    "We decided that rating count is a good way to determine the popularity of the book. By visualizing the distribution of the rating count, we decide on the bin for popularity to be: 0 to 100k, 100k to 200k,  200k to 300k,  300k to 400k, 400k to 500k,  500k to 600k, 600k to 700k, 700k to 800k, 800k to 900k, 900k to 1000k, 1000k to 3000k and 3000kabove "
   ]
  },
  {
   "cell_type": "code",
   "execution_count": 90,
   "metadata": {},
   "outputs": [
    {
     "data": {
      "image/png": "[encoded data removed]",
      "text/plain": [
       "<matplotlib.figure.Figure at 0x1a2a394be0>"
      ]
     },
     "metadata": {},
     "output_type": "display_data"
    }
   ],
   "source": [
    "for x in range(1,11):\n",
    "    df = csv_to_df('metadata/metadata%d.csv'%(x))\n",
    "    plt.hist(df['rating_count'])"
   ]
  },
  {
   "cell_type": "code",
   "execution_count": 91,
   "metadata": {
    "collapsed": true
   },
   "outputs": [],
   "source": [
    "def popular_words_rc(processed):\n",
    "    R0_100k, R100k_200k,  R200k_300k,  R300k_400k, R400k_500k,  R500k_600k, R600k_700k, \\\n",
    "    R700k_800k, R800k_900k, R900k_1000k, R1000k_3000k, R3000kabove \\\n",
    "                = [], [], [], [], [], [], [], [], [], [], [], []\n",
    "    for i, row in processed.iterrows():\n",
    "        if (0 <= row['rating_count'] < 100000): R0_100k.extend(row['description'])\n",
    "        elif (100000 <= row['rating_count'] < 200000): R100k_200k.extend(row['description'])\n",
    "        elif (200000 <= row['rating_count'] < 300000): R200k_300k.extend(row['description'])\n",
    "        elif (300000 <= row['rating_count'] < 400000): R300k_400k.extend(row['description'])\n",
    "        elif (400000 <= row['rating_count'] < 500000): R400k_500k.extend(row['description'])\n",
    "        elif (500000 <= row['rating_count'] < 600000): R500k_600k.extend(row['description'])\n",
    "        elif (600000 <= row['rating_count'] < 700000): R600k_700k.extend(row['description'])\n",
    "        elif (700000 <= row['rating_count'] < 800000): R700k_800k.extend(row['description'])\n",
    "        elif (800000 <= row['rating_count'] < 900000): R800k_900k.extend(row['description'])\n",
    "        elif (900000 <= row['rating_count'] < 1000000): R900k_1000k.extend(row['description'])\n",
    "        elif (1000000 <= row['rating_count'] < 3000000): R1000k_3000k.extend(row['description'])\n",
    "        elif (3000000 <= row['rating_count']): R3000kabove.extend(row['description'])\n",
    "            \n",
    "    return Counter(R0_100k), Counter(R100k_200k), Counter(R200k_300k), Counter(R300k_400k), \\\n",
    "            Counter(R400k_500k), Counter(R500k_600k), Counter(R600k_700k), Counter(R700k_800k), \\\n",
    "            Counter(R800k_900k), Counter(R900k_1000k), Counter(R1000k_3000k), Counter(R3000kabove)"
   ]
  },
  {
   "cell_type": "code",
   "execution_count": 92,
   "metadata": {},
   "outputs": [],
   "source": [
    "R0_100k, R100k_200k,  R200k_300k,  R300k_400k, R400k_500k,  R500k_600k, R600k_700k, \\\n",
    "    R700k_800k, R800k_900k, R900k_1000k, R1000k_3000k, R3000kabove \\\n",
    "        = Counter(), Counter(), Counter(), Counter(), Counter(), Counter(), Counter(), Counter(),\\\n",
    "            Counter(), Counter(), Counter(), Counter()\n",
    "for x in range(1,11):\n",
    "    df = csv_to_df('metadata/metadata%d.csv'%(x))\n",
    "    processed = process_all(df)\n",
    "    a, b, c, d, e, f, g, h, i, j, k, l = popular_words_rc(processed)\n",
    "    R0_100k += a\n",
    "    R100k_200k += b\n",
    "    R200k_300k += c\n",
    "    R300k_400k += d\n",
    "    R400k_500k += e\n",
    "    R500k_600k += f\n",
    "    R600k_700k += g\n",
    "    R700k_800k += h\n",
    "    R800k_900k += i\n",
    "    R900k_1000k += j\n",
    "    R1000k_3000k += k\n",
    "    R3000kabove += l"
   ]
  },
  {
   "cell_type": "markdown",
   "metadata": {},
   "source": [
    "You can see that books that were extremely popular included words like harry (Harry Potter), gatsby (The Great Gatsby), and kill (To Kill a Mockingbird)"
   ]
  },
  {
   "cell_type": "code",
   "execution_count": 98,
   "metadata": {},
   "outputs": [
    {
     "name": "stdout",
     "output_type": "stream",
     "text": [
      "0 to 100k:   [('new', 13086), ('one', 12413), ('’', 12296), ('life', 11957), ('world', 10107), ('work', 9588), ('time', 9519), ('de', 9421), ('make', 8078), ('first', 7469)]\n",
      "\n",
      "100k to 200k:   [('de', 668), ('one', 463), ('new', 390), ('’', 388), ('world', 370), ('la', 347), ('life', 343), ('love', 320), ('time', 301), ('first', 298)]\n",
      "\n",
      "200k to 300k:   [('de', 260), ('one', 216), ('’', 153), ('la', 137), ('world', 136), ('new', 130), ('story', 129), ('life', 123), ('love', 123), ('time', 113)]\n",
      "\n",
      "300k to 400k:   [('de', 138), ('’', 84), ('la', 79), ('world', 78), ('one', 73), ('story', 67), ('first', 64), ('life', 63), ('que', 61), ('new', 57)]\n",
      "\n",
      "400k to 500k:   [('ring', 168), ('one', 126), ('de', 107), ('lord', 88), ('edition', 87), ('frank', 69), ('que', 68), ('fantasy', 65), ('story', 65), ('write', 62)]\n",
      "\n",
      "500k to 600k:   [('world', 83), ('story', 79), ('novel', 78), ('life', 75), ('one', 71), ('’', 58), ('edition', 52), ('work', 51), ('new', 49), ('tolstoy', 47)]\n",
      "\n",
      "600k to 700k:   [('de', 63), ('one', 62), ('la', 38), ('include', 32), ('wild', 31), ('life', 31), ('novel', 28), ('years', 27), ('classic', 25), ('men', 25)]\n",
      "\n",
      "700k to 800k:   [('dorian', 85), ('’', 77), ('dracula', 76), ('de', 65), ('world', 61), ('love', 56), ('age', 56), ('”', 55), ('gray', 54), ('la', 53)]\n",
      "\n",
      "800k to 900k:   [('’', 19), ('elinor', 18), ('love', 14), ('sense', 14), ('sensibility', 14), ('tale', 13), ('marianne', 13), ('de', 13), ('new', 11), ('stanley', 11)]\n",
      "\n",
      "900k to 1000k:   [('de', 120), ('frankenstein', 90), ('life', 61), ('story', 47), ('science', 33), ('der', 32), ('tell', 31), ('à', 31), ('les', 30), ('human', 28)]\n",
      "\n",
      "1000k to 3000k:   [('de', 198), ('one', 193), ('love', 141), ('world', 133), ('story', 115), ('’', 110), ('la', 109), ('harry', 102), ('que', 98), ('time', 94)]\n",
      "\n",
      "3000k above:   [('harry', 64), ('first', 33), ('kill', 26), ('gatsby', 25), ('magical', 24), ('evil', 21), ('best', 20), ('ever', 19), ('world', 19), ('love', 19)]\n",
      "\n"
     ]
    }
   ],
   "source": [
    "print(\"0 to 100k:   \" + str(R0_100k.most_common(10)) + \"\\n\")\n",
    "print(\"100k to 200k:   \" + str(R100k_200k.most_common(10))+ \"\\n\")\n",
    "print(\"200k to 300k:   \" + str(R200k_300k.most_common(10))+ \"\\n\")\n",
    "print(\"300k to 400k:   \" + str(R300k_400k.most_common(10))+ \"\\n\")\n",
    "print(\"400k to 500k:   \" + str(R400k_500k.most_common(10))+ \"\\n\")\n",
    "print(\"500k to 600k:   \" + str(R500k_600k.most_common(10))+ \"\\n\")\n",
    "print(\"600k to 700k:   \" + str(R600k_700k.most_common(10))+ \"\\n\")\n",
    "print(\"700k to 800k:   \" + str(R700k_800k.most_common(10))+ \"\\n\")\n",
    "print(\"800k to 900k:   \" + str(R800k_900k.most_common(10))+ \"\\n\")\n",
    "print(\"900k to 1000k:   \" + str(R900k_1000k.most_common(10))+ \"\\n\")\n",
    "print(\"1000k to 3000k:   \" + str(R1000k_3000k.most_common(10))+ \"\\n\")\n",
    "print(\"3000k above:   \" + str(R3000kabove.most_common(10))+ \"\\n\")"
   ]
  },
  {
   "cell_type": "markdown",
   "metadata": {},
   "source": [
    "### Most common words used, grouped by rating of the book"
   ]
  },
  {
   "cell_type": "markdown",
   "metadata": {},
   "source": [
    "By visualizing the distribution of the rating count, we decide on the bin for popularity to be: 0 to 1, 1 to 2, 2 to 2.5, 2.5 to 3, 3 to 3.3, 3.3 to 3.6, 3.6 to 3.9, 3.9 to 4.2, 4.2 to 4.5 and 4.5 to 5.0"
   ]
  },
  {
   "cell_type": "code",
   "execution_count": 94,
   "metadata": {},
   "outputs": [
    {
     "data": {
      "image/png": "[encoded data removed]",
      "text/plain": [
       "<matplotlib.figure.Figure at 0x1a36a84048>"
      ]
     },
     "metadata": {},
     "output_type": "display_data"
    }
   ],
   "source": [
    "for x in range(1,11):\n",
    "    df = csv_to_df('metadata/metadata%d.csv'%(x))\n",
    "    plt.hist(df['average_rating'], alpha=0.5)"
   ]
  },
  {
   "cell_type": "code",
   "execution_count": 95,
   "metadata": {
    "collapsed": true
   },
   "outputs": [],
   "source": [
    "def popular_words_rating(processed):\n",
    "    zero, one, two, two2, three1, three2, three3, four1, four2 = \\\n",
    "    [], [], [], [], [], [], [], [], []\n",
    "    for i, row in processed.iterrows():\n",
    "        if (0 <= round(row['average_rating'], 1) < 1.0): zero.extend(row['description'])\n",
    "        elif (1 <= round(row['average_rating'], 1) < 2.0): one.extend(row['description'])\n",
    "        elif (2.0 <= round(row['average_rating'], 1) < 2.5): two.extend(row['description'])\n",
    "        elif (2.5 <= round(row['average_rating'], 1) < 3.0): two2.extend(row['description'])\n",
    "        elif (3.0 <= round(row['average_rating'], 1) < 3.3): three1.extend(row['description'])\n",
    "        elif (3.3 <= round(row['average_rating'], 1) < 3.6): three2.extend(row['description'])\n",
    "        elif (3.6 <= round(row['average_rating'], 1) < 3.9): three3.extend(row['description'])\n",
    "        elif (4.2 <= round(row['average_rating'], 1) < 4.5): four1.extend(row['description'])\n",
    "        elif (4.5 <= round(row['average_rating'], 1) < 5.0): four2.extend(row['description'])\n",
    "    return Counter(zero), Counter(one), Counter(two), Counter(two2), Counter(three1), \\\n",
    "            Counter(three2), Counter(three3), Counter(four1), Counter(four2)"
   ]
  },
  {
   "cell_type": "code",
   "execution_count": 96,
   "metadata": {},
   "outputs": [],
   "source": [
    "zero, one, two, two2, three1, three2, three3, four1, four2 = \\\n",
    "    Counter(), Counter(), Counter(), Counter(), Counter(), Counter(), Counter(), Counter(), Counter()\n",
    "for x in range(1,11):\n",
    "    df = csv_to_df('metadata/metadata%d.csv'%(x))\n",
    "    processed = process_all(df)\n",
    "    a, b, c, d, e, f, g, h, i= popular_words_rating(processed)\n",
    "    zero += a\n",
    "    one += b\n",
    "    two += c\n",
    "    two2 += d\n",
    "    three1 += e\n",
    "    three2 += f\n",
    "    three3 += g\n",
    "    four1 += h\n",
    "    four2 += i"
   ]
  },
  {
   "cell_type": "code",
   "execution_count": 99,
   "metadata": {},
   "outputs": [
    {
     "name": "stdout",
     "output_type": "stream",
     "text": [
      "rating 0.0 to 1.0 :   [('work', 315), ('include', 233), ('new', 216), ('study', 209), ('write', 203), ('provide', 193), ('de', 183), ('use', 182), ('one', 172), ('life', 163), ('make', 161), ('also', 160), ('question', 153), ('first', 148), ('volume', 148), ('present', 147), ('time', 146), ('well', 135), ('author', 135), ('find', 124)]\n",
      "\n",
      "rating 1.0 to 2.0 :   [('include', 18), ('use', 14), ('find', 13), ('work', 12), ('•', 11), ('new', 9), ('time', 9), ('world', 9), ('’', 8), ('vampires', 8)]\n",
      "\n",
      "rating 2.0 to 2.5 :   [('work', 37), ('new', 32), ('make', 30), ('write', 29), ('one', 29), ('life', 26), ('include', 26), ('read', 21), ('study', 21), ('show', 20)]\n",
      "\n",
      "rating 2.5 to 3.0 :   [('new', 113), ('’', 105), ('life', 101), ('include', 89), ('one', 83), ('work', 75), ('time', 73), ('world', 72), ('de', 71), ('make', 69), ('write', 63), ('author', 59), ('live', 57), ('first', 56), ('read', 55), ('guide', 52), ('take', 52), ('history', 52), ('study', 52), ('help', 52)]\n",
      "\n",
      "rating 3.0 to 3.3:   [('’', 440), ('new', 409), ('de', 389), ('life', 329), ('work', 323), ('one', 295), ('world', 275), ('write', 271), ('make', 265), ('time', 257), ('include', 230), ('use', 213), ('know', 202), ('author', 195), ('take', 184), ('also', 184), ('first', 183), ('find', 175), ('la', 174), ('history', 172)]\n",
      "\n",
      "rating 3.3 to 3.6 :   [('’', 1331), ('new', 1268), ('one', 1146), ('life', 1113), ('de', 1110), ('world', 906), ('time', 901), ('make', 854), ('work', 853), ('write', 755), ('love', 746), ('find', 710), ('first', 701), ('story', 681), ('la', 646), ('include', 626), ('live', 606), ('take', 582), ('man', 563), ('author', 560)]\n",
      "\n",
      "rating 3.6 to 3.9:   [('new', 3692), ('one', 3528), ('life', 3491), ('’', 3458), ('de', 3197), ('world', 2971), ('time', 2700), ('work', 2545), ('make', 2336), ('first', 2144), ('love', 2089), ('find', 2079), ('story', 1979), ('write', 1942), ('live', 1846), ('la', 1776), ('take', 1672), ('include', 1643), ('man', 1568), ('history', 1552)]\n",
      "\n",
      "rating 4.2 to 4.5 :   [('one', 2441), ('new', 2406), ('’', 2265), ('life', 2252), ('world', 2006), ('time', 1932), ('work', 1788), ('de', 1782), ('write', 1515), ('first', 1475), ('include', 1462), ('make', 1348), ('love', 1308), ('find', 1221), ('live', 1197), ('story', 1149), ('la', 995), ('war', 984), ('years', 977), ('know', 954)]\n",
      "\n",
      "rating 4.5 to 5.0 :   [('one', 487), ('work', 476), ('new', 403), ('include', 376), ('’', 359), ('world', 321), ('first', 321), ('life', 318), ('time', 306), ('make', 251), ('write', 241), ('ring', 240), ('also', 234), ('volume', 210), ('two', 208), ('de', 200), ('many', 191), ('adventure', 184), ('harry', 182), ('read', 177)]\n",
      "\n"
     ]
    }
   ],
   "source": [
    "print(\"rating 0.0 to 1.0 :   \" + str(zero.most_common(20)) + \"\\n\")\n",
    "print(\"rating 1.0 to 2.0 :   \" + str(one.most_common(10)) + \"\\n\")\n",
    "print(\"rating 2.0 to 2.5 :   \" + str(two.most_common(10)) +\"\\n\")\n",
    "print(\"rating 2.5 to 3.0 :   \" + str(two2.most_common(20)) + \"\\n\")\n",
    "print(\"rating 3.0 to 3.3:   \" + str(three1.most_common(20)) + \"\\n\")\n",
    "print(\"rating 3.3 to 3.6 :   \" + str(three2.most_common(20)) + \"\\n\")\n",
    "print(\"rating 3.6 to 3.9:   \" + str(three3.most_common(20)) + \"\\n\")\n",
    "print(\"rating 4.2 to 4.5 :   \" + str(four1.most_common(20)) + \"\\n\")\n",
    "print(\"rating 4.5 to 5.0 :   \" + str(four2.most_common(20)) + \"\\n\")"
   ]
  },
  {
   "cell_type": "markdown",
   "metadata": {},
   "source": [
    "### Most common words used overtime"
   ]
  },
  {
   "cell_type": "code",
   "execution_count": 116,
   "metadata": {
    "collapsed": true
   },
   "outputs": [],
   "source": [
    "def popular_words_time(processed):\n",
    "    t1800,t1900,t1950, t1960, t1970, t1980, t1990, t1995, t2000, \\\n",
    "    t2005,t2010, t2015, t2020  = [], [], [], [], [], [], [], [], [], [], [], [], []\n",
    "    for i, row in processed.iterrows():\n",
    "        if (0 < int(row['publication_date']) <= 1800): t1800.extend(row['description'])\n",
    "        elif (1800 < int(row['publication_date']) <= 1900): t1900.extend(row['description'])\n",
    "        elif (1900 < int(row['publication_date']) <= 1950): t1950.extend(row['description'])\n",
    "        elif (1950 < int(row['publication_date']) <= 1960): t1960.extend(row['description'])\n",
    "        elif (1960 < int(row['publication_date']) <= 1970): t1970.extend(row['description'])\n",
    "        elif (1970 < int(row['publication_date']) <= 1980): t1980.extend(row['description'])\n",
    "        elif (1980 < int(row['publication_date']) <= 1990): t1990.extend(row['description'])\n",
    "        elif (1990 < int(row['publication_date']) <= 1995): t1995.extend(row['description'])\n",
    "        elif (1995 < int(row['publication_date']) <= 2000): t2000.extend(row['description'])\n",
    "        elif (2000 < int(row['publication_date']) <= 2005): t2005.extend(row['description'])\n",
    "        elif (2005 < int(row['publication_date']) <= 2010): t2010.extend(row['description'])\n",
    "        elif (2010 < int(row['publication_date']) <= 2015): t2015.extend(row['description'])\n",
    "        elif (2015 < int(row['publication_date']) <= 2020): t2020.extend(row['description'])\n",
    "        \n",
    "    return Counter(t1800), Counter(t1900), Counter(t1950), Counter(t1960), Counter(t1970), Counter(t1980), \\\n",
    "        Counter(t1990), Counter(t1995), Counter(t2000), Counter(t2005), Counter(t2010), Counter(t2015), Counter(t2020)"
   ]
  },
  {
   "cell_type": "code",
   "execution_count": 108,
   "metadata": {},
   "outputs": [],
   "source": [
    "t1800,t1900,t1950, t1960, t1970, t1980, t1990, t1995, t2000, t2005, t2010, t2015,t2020 \\\n",
    "        = Counter(), Counter(), Counter(), Counter(), Counter(), Counter(), Counter(), Counter(), \\\n",
    "            Counter(), Counter(), Counter(), Counter() , Counter()\n",
    "\n",
    "for x in range(1,11):\n",
    "    df = csv_to_df('metadata/metadata%d.csv'%(x))\n",
    "    df = df[df.publication_date != '//']\n",
    "    df[\"publication_date\"] = df[\"publication_date\"].apply(lambda x: x[-4:])\n",
    "    processed = process_all(df)\n",
    "    a, b, c, d, e, f, g, h, i, j, k, l, m = popular_words_time(processed)\n",
    "    t1800 += a\n",
    "    t1900 +=b \n",
    "    t1950 +=c\n",
    "    t1960 += d\n",
    "    t1970 += e\n",
    "    t1980 += f \n",
    "    t1990 += g\n",
    "    t1995 += h\n",
    "    t2000 += i \n",
    "    t2005 += j \n",
    "    t2010 += k\n",
    "    t2015 += l\n",
    "    t2020 += m"
   ]
  },
  {
   "cell_type": "markdown",
   "metadata": {},
   "source": [
    "It is interesting to see specific names like Kurt Vonnegut appear very commonly in 1960-1970. Also, one thing to notice is the popularity of the word, 'war' starting in 1980 and becoming increasingly popular."
   ]
  },
  {
   "cell_type": "code",
   "execution_count": 110,
   "metadata": {},
   "outputs": [
    {
     "name": "stdout",
     "output_type": "stream",
     "text": [
      "1800 and below :   []\n",
      "\n",
      "1800-1900 :   [('soseki', 6), ('well', 5), ('use', 3), ('old', 3), ('comedy', 3), ('form', 3), ('lead', 3), ('family', 3), ('institutions', 2), ('even', 2), ('cloud', 2), ('play', 2), ('revise', 2), ('first', 2), ('also', 2), ('successful', 2), ('genre', 2), ('ever', 2), ('man', 2), ('common', 2), ('time', 2), ('follow', 2), ('relate', 2), ('field', 2), ('school', 2), ('teachers', 2), ('call', 2), ('requisition', 2), ('sustain', 2), ('press', 2)]\n",
      "\n",
      "1900-1950 :   [('work', 32), ('edition', 30), ('life', 27), ('de', 26), ('one', 23), ('story', 22), ('first', 21), ('part', 21), ('library', 16), ('volumes', 16), ('la', 16), ('loeb', 15), ('great', 15), ('survive', 14), ('cover', 14), ('conflict', 13), ('history', 13), ('classical', 13), ('iv', 13), ('stories', 12), ('write', 12), ('love', 12), ('begin', 12), ('new', 12), ('v', 12), ('—', 12), ('come', 11), ('fish', 11), ('make', 11), ('tell', 11)]\n",
      "\n",
      "1950-1960 :   [('one', 48), ('life', 39), ('work', 36), ('write', 31), ('new', 29), ('first', 29), ('history', 27), ('’', 26), ('world', 25), ('live', 25), ('play', 23), ('man', 22), ('love', 22), ('story', 21), ('become', 21), ('find', 20), ('”', 20), ('—', 20), ('american', 20), ('novel', 19), ('dream', 19), ('edition', 19), ('nin', 18), ('include', 18), ('know', 17), ('well', 17), ('character', 16), ('human', 16), ('two', 15), ('“', 14)]\n",
      "\n",
      "1960-1970 :   [('•', 203), ('work', 91), ('write', 88), ('life', 80), ('one', 78), ('first', 76), ('story', 73), ('novel', 61), ('time', 61), ('’', 60), ('vonnegut', 58), ('new', 57), ('man', 55), ('world', 55), ('edition', 53), ('kurt', 52), ('make', 46), ('study', 46), ('include', 46), ('modern', 44), ('character', 42), ('author', 42), ('great', 42), ('also', 39), ('short', 38), ('essay', 38), ('well', 37), ('help', 37), ('american', 36), ('live', 35)]\n",
      "\n",
      "1970-1980 :   [('’', 234), ('one', 231), ('•', 227), ('work', 204), ('·', 172), ('write', 167), ('life', 167), ('de', 166), ('new', 163), ('world', 152), ('story', 148), ('time', 141), ('first', 133), ('man', 118), ('find', 114), ('make', 109), ('love', 106), ('also', 97), ('include', 92), ('history', 92), ('great', 88), ('la', 88), ('edition', 86), ('two', 83), ('author', 82), ('publish', 82), ('years', 82), ('novel', 77), ('become', 77), ('“', 77)]\n",
      "\n",
      "1980-1990 :   [('one', 642), ('de', 618), ('new', 550), ('life', 524), ('time', 519), ('work', 518), ('’', 510), ('world', 489), ('first', 433), ('write', 387), ('make', 373), ('find', 316), ('love', 306), ('man', 302), ('include', 301), ('story', 299), ('also', 284), ('la', 284), ('author', 274), ('live', 271), ('years', 269), ('history', 263), ('know', 252), ('edition', 236), ('become', 222), ('american', 222), ('war', 221), ('well', 209), ('publish', 209), ('people', 207)]\n",
      "\n",
      "1990-1995 :   [('one', 782), ('new', 773), ('work', 734), ('life', 717), ('’', 704), ('world', 684), ('time', 665), ('•', 660), ('de', 608), ('first', 538), ('write', 527), ('make', 437), ('include', 436), ('story', 434), ('love', 397), ('author', 369), ('find', 364), ('man', 359), ('history', 350), ('live', 344), ('two', 343), ('american', 343), ('la', 332), ('also', 322), ('novel', 320), ('war', 317), ('know', 306), ('years', 297), ('stories', 295), ('take', 294)]\n",
      "\n",
      "1995-2000 :   [('new', 2082), ('one', 2023), ('life', 2016), ('world', 1651), ('work', 1618), ('time', 1518), ('write', 1339), ('de', 1334), ('make', 1229), ('first', 1219), ('story', 1166), ('love', 1155), ('include', 1090), ('live', 1069), ('find', 1046), ('’', 1019), ('history', 885), ('also', 878), ('man', 874), ('take', 865), ('american', 846), ('years', 845), ('author', 840), ('know', 816), ('well', 798), ('novel', 784), ('war', 776), ('two', 744), ('come', 735), ('•', 730)]\n",
      "\n",
      "2000 - 2005 :   [('new', 5712), ('’', 5358), ('one', 5241), ('life', 5013), ('world', 4304), ('work', 4002), ('time', 3991), ('make', 3468), ('include', 3296), ('write', 3254), ('de', 3215), ('first', 3163), ('find', 3006), ('love', 2794), ('story', 2702), ('live', 2573), ('author', 2387), ('take', 2322), ('know', 2271), ('history', 2263), ('also', 2227), ('war', 2071), ('man', 2039), ('years', 2033), ('come', 2015), ('american', 1995), ('two', 1955), ('well', 1936), ('people', 1878), ('la', 1837)]\n",
      "\n",
      "2005 - 2010 :   [('’', 3846), ('new', 3111), ('one', 2915), ('life', 2733), ('world', 2447), ('time', 2123), ('work', 2036), ('make', 1960), ('de', 1915), ('find', 1719), ('first', 1611), ('include', 1491), ('live', 1487), ('love', 1486), ('take', 1394), ('write', 1334), ('story', 1310), ('know', 1306), ('history', 1205), ('author', 1189), ('man', 1166), ('use', 1157), ('years', 1107), ('come', 1097), ('also', 1078), ('become', 1068), ('get', 1061), ('two', 1061), ('”', 1036), ('la', 1024)]\n",
      "\n",
      "2010 - 2015 :   [('de', 131), ('one', 107), ('•', 96), ('new', 91), ('la', 83), ('life', 82), ('time', 77), ('’', 76), ('work', 75), ('story', 71), ('love', 70), ('first', 60), ('make', 59), ('world', 59), ('include', 58), ('vonnegut', 58), ('kurt', 53), ('author', 51), ('que', 51), ('write', 48), ('en', 45), ('also', 42), ('play', 42), ('man', 41), ('find', 41), ('stories', 40), ('live', 40), ('best', 40), ('history', 40), ('many', 38)]\n",
      "\n",
      "2015 - 2020 :   [('de', 52), ('’', 30), ('time', 24), ('la', 24), ('world', 23), ('new', 23), ('work', 22), ('love', 22), ('write', 21), ('el', 21), ('en', 20), ('one', 19), ('life', 16), ('author', 15), ('use', 14), ('mr', 14), ('que', 14), ('three', 13), ('first', 13), ('melville', 13), ('“', 13), ('”', 13), ('begin', 12), ('story', 12), ('young', 12), ('stories', 12), ('find', 11), ('man', 11), ('experience', 11), ('edition', 11)]\n",
      "\n"
     ]
    }
   ],
   "source": [
    "print(\"1800 and below :   \" + str(t1800.most_common(30)) + \"\\n\")\n",
    "print(\"1800-1900 :   \" + str(t1900.most_common(30)) + \"\\n\")\n",
    "print(\"1900-1950 :   \" + str(t1950.most_common(30)) + \"\\n\")\n",
    "print(\"1950-1960 :   \" + str(t1960.most_common(30)) + \"\\n\")\n",
    "print(\"1960-1970 :   \" + str(t1970.most_common(30)) + \"\\n\")\n",
    "print(\"1970-1980 :   \" + str(t1980.most_common(30)) + \"\\n\")\n",
    "print(\"1980-1990 :   \" + str(t1990.most_common(30)) + \"\\n\")\n",
    "print(\"1990-1995 :   \" + str(t1995.most_common(30)) + \"\\n\")\n",
    "print(\"1995-2000 :   \" + str(t2000.most_common(30)) + \"\\n\")\n",
    "print(\"2000 - 2005 :   \" + str(t2005.most_common(30)) + \"\\n\")\n",
    "print(\"2005 - 2010 :   \" + str(t2010.most_common(30)) + \"\\n\")\n",
    "print(\"2010 - 2015 :   \" + str(t2015.most_common(30)) + \"\\n\")\n",
    "print(\"2015 - 2020 :   \" + str(t2020.most_common(30)) + \"\\n\")"
   ]
  },
  {
   "cell_type": "markdown",
   "metadata": {},
   "source": [
    "#  DONT FORGET: we should look at some words like war and american, history, woman, and visualize the proportion of its use by time interval."
   ]
  },
  {
   "cell_type": "code",
   "execution_count": null,
   "metadata": {
    "collapsed": true
   },
   "outputs": [],
   "source": []
  },
  {
   "cell_type": "code",
   "execution_count": null,
   "metadata": {
    "collapsed": true
   },
   "outputs": [],
   "source": []
  },
  {
   "cell_type": "markdown",
   "metadata": {},
   "source": [
    "### Most common words used in REVIEWS, grouped by rating of the book"
   ]
  },
  {
   "cell_type": "markdown",
   "metadata": {},
   "source": [
    "For the purpose of using the same processing functions, review columns were renamed to \"description\"."
   ]
  },
  {
   "cell_type": "code",
   "execution_count": 122,
   "metadata": {
    "collapsed": true
   },
   "outputs": [],
   "source": [
    "def review_csv_to_df(path):\n",
    "    df = pd.read_csv(path)\n",
    "    df = df[pd.notnull(df['text'])]\n",
    "    df = df.rename(index=str, columns={\"text\": \"description\"})\n",
    "    return df"
   ]
  },
  {
   "cell_type": "code",
   "execution_count": 123,
   "metadata": {
    "collapsed": true
   },
   "outputs": [],
   "source": [
    "def popular_words_review(processed):\n",
    "    one, two, three, four, five = [], [], [], [], []\n",
    "    for i, row in processed.iterrows():\n",
    "        if (row['rating'] == 1.0): one.extend(row['description'])\n",
    "        elif (row['rating'] == 2.0): two.extend(row['description'])\n",
    "        elif (row['rating'] == 3.0): three.extend(row['description'])\n",
    "        elif (row['rating'] == 4.0): four.extend(row['description'])\n",
    "        elif (row['rating'] == 5.0): five.extend(row['description'])\n",
    "    return Counter(one), Counter(two), Counter(three), Counter(four), Counter(five)"
   ]
  },
  {
   "cell_type": "code",
   "execution_count": 126,
   "metadata": {},
   "outputs": [],
   "source": [
    "one, two, three, four, five = Counter(), Counter(), Counter(), Counter(), Counter()\n",
    "dfs = []\n",
    "for i in range(1,6):\n",
    "    df = review_csv_to_df('reviewdata/reviews%d.csv'%(i))\n",
    "    dfs.append(df)\n",
    "    processed = process_all(df)\n",
    "    a, b, c, d, e = popular_words_review(processed)\n",
    "    one += a\n",
    "    two += b\n",
    "    three += c\n",
    "    four += d\n",
    "    five += e"
   ]
  },
  {
   "cell_type": "markdown",
   "metadata": {},
   "source": [
    "As expected, words such as 'love', 'really', 'great' and 'like' were used more commonly in books with higher rating."
   ]
  },
  {
   "cell_type": "code",
   "execution_count": 128,
   "metadata": {},
   "outputs": [
    {
     "name": "stdout",
     "output_type": "stream",
     "text": [
      "rating one :   [('read', 24630), ('like', 12602), ('one', 10800), ('write', 9341), ('get', 9304), ('think', 7871), ('character', 7138), ('really', 6982), ('time', 6247), ('make', 6153), ('first', 6050), ('story', 5698), ('would', 5434), ('go', 5359), ('im', 5226), ('dont', 5120), ('page', 5112), ('didnt', 4942), ('find', 4936), ('finish', 4931), ('give', 4853), ('know', 4826), ('love', 4777), ('say', 4577), ('author', 4569), ('much', 4562), ('good', 4418), ('’', 4395), ('even', 4254), ('want', 3993)]\n",
      "\n",
      "rating two :   [('read', 39910), ('like', 24164), ('one', 19153), ('write', 14744), ('really', 14697), ('get', 14617), ('story', 14188), ('think', 13755), ('character', 13158), ('time', 11526), ('first', 11383), ('much', 11182), ('interest', 10467), ('good', 10077), ('find', 10060), ('didnt', 9818), ('make', 9306), ('’', 9187), ('would', 9089), ('go', 8986), ('love', 8981), ('im', 8658), ('know', 8075), ('say', 7647), ('author', 7389), ('well', 7034), ('dont', 6973), ('give', 6946), ('end', 6710), ('novel', 6674)]\n",
      "\n",
      "rating three :   [('read', 97061), ('like', 50334), ('one', 42666), ('story', 37026), ('write', 32823), ('good', 30510), ('think', 28904), ('get', 28882), ('time', 28495), ('first', 28016), ('really', 27636), ('interest', 25745), ('character', 25296), ('love', 23037), ('much', 22974), ('’', 22055), ('find', 21933), ('make', 20057), ('enjoy', 19555), ('go', 19080), ('would', 19054), ('de', 18925), ('know', 17715), ('well', 17594), ('novel', 16314), ('little', 16274), ('stories', 16020), ('im', 16009), ('3', 15516), ('end', 15344)]\n",
      "\n",
      "rating four :   [('read', 160981), ('one', 72129), ('like', 64176), ('story', 57703), ('write', 51955), ('love', 49145), ('time', 47156), ('first', 44323), ('really', 43669), ('good', 42309), ('think', 41473), ('get', 39130), ('’', 38233), ('character', 37370), ('de', 36363), ('make', 34805), ('great', 33378), ('enjoy', 33112), ('much', 30468), ('well', 30212), ('find', 29961), ('know', 29851), ('go', 29411), ('interest', 27435), ('novel', 27134), ('life', 27033), ('would', 25917), ('take', 25186), ('series', 25110), ('stories', 23885)]\n",
      "\n",
      "rating five :   [('read', 181582), ('one', 85084), ('love', 74895), ('time', 57653), ('write', 50942), ('story', 49884), ('like', 49636), ('first', 42189), ('’', 39602), ('think', 39517), ('great', 35633), ('de', 35301), ('get', 34693), ('make', 34627), ('really', 32295), ('character', 30461), ('life', 30375), ('know', 30020), ('much', 28845), ('go', 28163), ('good', 26823), ('find', 25749), ('say', 25315), ('novel', 24737), ('would', 24489), ('well', 24352), ('many', 23879), ('years', 23395), ('work', 23355), ('ive', 23308)]\n",
      "\n"
     ]
    }
   ],
   "source": [
    "print(\"rating one :   \" + str(one.most_common(30)) + \"\\n\")\n",
    "print(\"rating two :   \" + str(two.most_common(30)) + \"\\n\")\n",
    "print(\"rating three :   \" + str(three.most_common(30)) + \"\\n\")\n",
    "print(\"rating four :   \" + str(four.most_common(30)) + \"\\n\")\n",
    "print(\"rating five :   \" + str(five.most_common(30)) + \"\\n\")"
   ]
  },
  {
   "cell_type": "code",
   "execution_count": null,
   "metadata": {
    "collapsed": true
   },
   "outputs": [],
   "source": []
  }
 ],
 "metadata": {
  "kernelspec": {
   "display_name": "Python 3",
   "language": "python",
   "name": "python3"
  },
  "language_info": {
   "codemirror_mode": {
    "name": "ipython",
    "version": 3
   },
   "file_extension": ".py",
   "mimetype": "text/x-python",
   "name": "python",
   "nbconvert_exporter": "python",
   "pygments_lexer": "ipython3",
   "version": "3.6.3"
  }
 },
 "nbformat": 4,
 "nbformat_minor": 2
}
