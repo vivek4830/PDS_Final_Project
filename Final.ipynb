{
 "cells": [
  {
   "cell_type": "markdown",
   "metadata": {},
   "source": [
    "# Analysis of Popular Description Words using Goodreads Data"
   ]
  },
  {
   "cell_type": "markdown",
   "metadata": {},
   "source": [
    "blah blah blah"
   ]
  },
  {
   "cell_type": "markdown",
   "metadata": {},
   "source": [
    "### Content\n",
    "\n",
    "Topics that are covered in this tutorial are:\n",
    "- Loading data from Goodreads API\n",
    "- Processing descriptions into meaningful words\n",
    "- Most common words used in general\n",
    "- Most common words used, grouped by popularity of the book\n",
    "- Most common words used, grouped by rating of the book\n",
    "- Most common words used overtime\n",
    "- Most common words used in reviews, grouped by rating of the book"
   ]
  },
  {
   "cell_type": "code",
   "execution_count": 79,
   "metadata": {
    "collapsed": true
   },
   "outputs": [],
   "source": [
    "import time, json\n",
    "import requests\n",
    "import csv\n",
    "from bs4 import BeautifulSoup\n",
    "import nltk\n",
    "import string\n",
    "import pandas as pd\n",
    "from collections import Counter"
   ]
  },
  {
   "cell_type": "markdown",
   "metadata": {},
   "source": [
    "### Loading data from Goodreads API"
   ]
  },
  {
   "cell_type": "code",
   "execution_count": 2,
   "metadata": {},
   "outputs": [
    {
     "name": "stdout",
     "output_type": "stream",
     "text": [
      "yfmkhh2aWg8dnQyvnoRXg\n"
     ]
    }
   ],
   "source": [
    "def read_api_key(filepath):\n",
    "    with open(filepath, 'r') as f:\n",
    "        return f.read().replace('\\n','')\n",
    "    \n",
    "api_key = read_api_key('api_key.txt')\n",
    "print(api_key)"
   ]
  },
  {
   "cell_type": "markdown",
   "metadata": {},
   "source": [
    "Test function for querying goodreads API"
   ]
  },
  {
   "cell_type": "code",
   "execution_count": 5,
   "metadata": {
    "collapsed": true
   },
   "outputs": [],
   "source": [
    "def goodreads_query(api_key):\n",
    "    \"\"\"\n",
    "    api_key (string): API key\n",
    "    url (string): Base query URL\n",
    "    query (dictionary): Query parameters\n",
    "    \"\"\"\n",
    "    request_params = {'id':68428, 'key':api_key, 'format':'xml', 'text_only':'true'}\n",
    "    response = requests.get('https://www.goodreads.com/book/show', params=request_params)\n",
    "    soup = BeautifulSoup(response.text, 'lxml')\n",
    "    shelves = soup.find('popular_shelves')\n",
    "    return response\n",
    "\n",
    "temp_response = goodreads_query(api_key)"
   ]
  },
  {
   "cell_type": "markdown",
   "metadata": {},
   "source": [
    "Get metadata about a book given its book ID. \n",
    "\n",
    "Metadata includes: book_id, author, publication_date(month/day/year), publisher, review_count, rating_count, average_rating and genre and description"
   ]
  },
  {
   "cell_type": "code",
   "execution_count": 6,
   "metadata": {},
   "outputs": [],
   "source": [
    "# Get metadata about a book given its book ID\n",
    "def get_book_metadata(api_key, book_id):\n",
    "    request_params = {'id':book_id, 'key':api_key, 'format':'xml', 'text_only':'true'}\n",
    "    response = requests.get('https://www.goodreads.com/book/show', params=request_params)\n",
    "    \n",
    "    book_info = {}\n",
    "    book_info['book_id'] = book_id\n",
    "    soup = BeautifulSoup(response.text, 'lxml')\n",
    "    \n",
    "    # Author\n",
    "    book_info['author'] = soup.find('author').find('name').text\n",
    "    \n",
    "    # Publication date\n",
    "    year = soup.find('publication_year').text\n",
    "    month = soup.find('publication_month').text\n",
    "    day = soup.find('publication_day').text\n",
    "    book_info['publication_date'] = str(month) + '/' + str(day) + '/' + str(year)\n",
    "    \n",
    "    # Publisher\n",
    "    book_info['publisher'] = soup.find('publisher').text\n",
    "    \n",
    "    # Review information\n",
    "    book_info['review_count'] = soup.find('text_reviews_count').text\n",
    "    \n",
    "    # Rating information\n",
    "    book_info['rating_count'] = soup.find('ratings_count').text\n",
    "    book_info['average_rating'] = soup.find('average_rating').text\n",
    "    \n",
    "    # Treat the genre as the most popular shelf this book has been placed on\n",
    "    book_info['genre'] = soup.find('popular_shelves').find('shelf')['name']\n",
    "    \n",
    "    return book_info"
   ]
  },
  {
   "cell_type": "markdown",
   "metadata": {},
   "source": [
    "We downloaded 23 csv files of 10k books each, totaling in 230k books."
   ]
  },
  {
   "cell_type": "code",
   "execution_count": null,
   "metadata": {
    "collapsed": true
   },
   "outputs": [],
   "source": [
    "# Save all book metadata as a CSV\n",
    "def download_book_metadata(api_key):\n",
    "    data_columns = ['book_id', 'author', 'publication_date', 'publisher', 'review_count', 'rating_count', 'average_rating', 'genre']\n",
    "    \n",
    "    with open('metadata.csv', 'w', encoding='utf-8') as output_file:\n",
    "        dict_writer = csv.DictWriter(output_file, data_columns, lineterminator='\\n')\n",
    "        dict_writer.writeheader()\n",
    "        \n",
    "        # TODO: iterate through book IDs - add a time.sleep(1) between each iteration\n",
    "        current_metadata = get_book_metadata(api_key, 68428)\n",
    "        dict_writer.writerow(current_metadata)\n",
    "\n",
    "download_book_metadata(api_key)"
   ]
  },
  {
   "cell_type": "markdown",
   "metadata": {},
   "source": [
    "Get all the reviews for a given book ID as a list of dictionaries.\n",
    "\n",
    "Review data includes: book_id, rating, date (day-month-year), and text"
   ]
  },
  {
   "cell_type": "code",
   "execution_count": 129,
   "metadata": {
    "collapsed": true
   },
   "outputs": [],
   "source": [
    "def get_reviews(api_key, book_id):\n",
    "    request_params = {'id':book_id, 'key':api_key, 'format':'xml', 'text_only':'true'}\n",
    "    response = requests.get('https://www.goodreads.com/book/show', params=request_params)\n",
    "    \n",
    "    soup = BeautifulSoup(response.text, 'lxml')\n",
    "    iframe = soup.find('reviews_widget').find('iframe')\n",
    "    \n",
    "    all_reviews = []\n",
    "    \n",
    "    reviews_url = iframe['src']\n",
    "    response_reviews = requests.get(reviews_url)\n",
    "    \n",
    "    while(1):\n",
    "        review_soup = BeautifulSoup(response_reviews.text, 'lxml')\n",
    "        reviews = review_soup.find_all('div', {'class':'gr_review_container'})\n",
    "\n",
    "        for review in reviews:\n",
    "            current_review = {}\n",
    "\n",
    "            # Extract the rating\n",
    "            rating = review.find('span', {'class':'gr_rating'})\n",
    "            if (rating):\n",
    "                rating = rating.find_all(text=True)\n",
    "                rating_num = 0\n",
    "                for i in range(len(rating[0])):\n",
    "                    if (ord(rating[0][i]) == 9733):\n",
    "                        rating_num += 1\n",
    "            else:\n",
    "                rating_num = -1\n",
    "\n",
    "            # Extract the date\n",
    "            date = review.find('span', {'class':'gr_review_date'}).find_all(text=True)\n",
    "            date = [x.strip() for x in date][0]\n",
    "\n",
    "            # Extract the review text\n",
    "            s = [x.strip() for x in review.find('div', {'class':'gr_review_text'}).find_all(text=True)]\n",
    "            s = [x for x in s if x]\n",
    "\n",
    "            # Ignore the last element, the '...more'\n",
    "            review_text = ' '.join(s[:-1])\n",
    "\n",
    "            # Remove the last word, since it will be partial\n",
    "            review_text = ' '.join(review_text.split(' ')[:-1])\n",
    "\n",
    "            current_review['book_id'] = book_id\n",
    "            current_review['rating'] = rating_num\n",
    "            current_review['date'] = date\n",
    "            current_review['text'] = review_text\n",
    "\n",
    "            all_reviews.append(current_review)\n",
    "\n",
    "        # See if there is another page of reviews\n",
    "        if (review_soup.find_all('a', {'class':'next_page'}) != []):\n",
    "            # There is another page\n",
    "            reviews_url = 'https://goodreads.com' + review_soup.find('a', {'class':'next_page'})['href']\n",
    "            response_reviews = requests.get(reviews_url)\n",
    "        else:\n",
    "            # No more pages of reviews\n",
    "            break\n",
    "        \n",
    "    return all_reviews"
   ]
  },
  {
   "cell_type": "markdown",
   "metadata": {},
   "source": [
    "We downloaded 5 csv files of 10k reviews each, totaling in 60k books."
   ]
  },
  {
   "cell_type": "code",
   "execution_count": 130,
   "metadata": {
    "collapsed": true
   },
   "outputs": [],
   "source": [
    "def download_reviews(api_key):\n",
    "    data_columns = ['book_id', 'rating', 'date', 'text']\n",
    "    \n",
    "    with open('reviews.csv', 'w', encoding='utf-8') as output_file:\n",
    "        dict_writer = csv.DictWriter(output_file, data_columns, lineterminator='\\n')\n",
    "        dict_writer.writeheader()\n",
    "        \n",
    "        # TODO: iterate through book IDs - add a time.sleep(1) between each iteration\n",
    "        current_reviews = get_reviews(api_key, 68428)\n",
    "        dict_writer.writerows(current_reviews)\n",
    "\n",
    "book_reviews = get_reviews(api_key, 68428)"
   ]
  },
  {
   "cell_type": "markdown",
   "metadata": {},
   "source": [
    "### Processing descriptions into meaningful words"
   ]
  },
  {
   "cell_type": "code",
   "execution_count": 84,
   "metadata": {
    "collapsed": true
   },
   "outputs": [],
   "source": [
    "def csv_to_df(path):\n",
    "    df = pd.read_csv(path)\n",
    "    df = df[pd.notnull(df['description'])]\n",
    "    return df"
   ]
  },
  {
   "cell_type": "code",
   "execution_count": 69,
   "metadata": {
    "collapsed": true
   },
   "outputs": [],
   "source": [
    "lemmatizer=nltk.stem.wordnet.WordNetLemmatizer()\n",
    "stopwords=nltk.corpus.stopwords.words('english')"
   ]
  },
  {
   "cell_type": "markdown",
   "metadata": {},
   "source": [
    "We take out the words book and author, since it occurs the most times in most categories, yet it seemes meaningless."
   ]
  },
  {
   "cell_type": "code",
   "execution_count": 109,
   "metadata": {
    "collapsed": true
   },
   "outputs": [],
   "source": [
    "def process(text, lemmatizer=nltk.stem.wordnet.WordNetLemmatizer()):\n",
    "    text = text.lower()\n",
    "    text = text.replace(\"'s\", \"\")\n",
    "    text = text.replace(\"'\", \"\")\n",
    "    for char in text: \n",
    "        if (char in string.punctuation): text = text.replace(char, \" \")\n",
    "    words = nltk.word_tokenize(text)\n",
    "    words = [lemmatizer.lemmatize(word, 'v') for word in words]\n",
    "    filtered_words = [word for word in words if word not in stopwords \\\n",
    "                      and word != 'book' and word != 'autho' and word != \"'\" and word != '\"']\n",
    "    return filtered_words\n",
    "\n",
    "def process_all(df, lemmatizer=nltk.stem.wordnet.WordNetLemmatizer()):\n",
    "    for i, row in df.iterrows():\n",
    "        original = row['description']\n",
    "        df.at[i, 'description'] = process(original)\n",
    "    return df"
   ]
  },
  {
   "cell_type": "markdown",
   "metadata": {},
   "source": [
    "We will load 23 files of metadata and process them."
   ]
  },
  {
   "cell_type": "code",
   "execution_count": 131,
   "metadata": {
    "collapsed": true
   },
   "outputs": [],
   "source": [
    "df_full = []\n",
    "for x in range(1,24):\n",
    "    df = csv_to_df('metadata/metadata%d.csv'%(x))\n",
    "    processed = process_all(df)\n",
    "    df_full.append(processed)"
   ]
  },
  {
   "cell_type": "markdown",
   "metadata": {},
   "source": [
    "### Most common words used in general"
   ]
  },
  {
   "cell_type": "code",
   "execution_count": 133,
   "metadata": {
    "collapsed": true
   },
   "outputs": [],
   "source": [
    "def popular_words(processed):\n",
    "    fin = []\n",
    "    for i, row in processed.iterrows():\n",
    "        fin.extend(row['description'])\n",
    "    count = Counter(fin)\n",
    "    return count"
   ]
  },
  {
   "cell_type": "code",
   "execution_count": 135,
   "metadata": {},
   "outputs": [],
   "source": [
    "counter_all = Counter()\n",
    "for i in range(0,23):\n",
    "    processed = df_full[i]\n",
    "    rare = popular_words(processed)\n",
    "    counter_all += rare"
   ]
  },
  {
   "cell_type": "markdown",
   "metadata": {},
   "source": [
    "Few significant words seems to be: life, world, time, love, and man"
   ]
  },
  {
   "cell_type": "code",
   "execution_count": 136,
   "metadata": {},
   "outputs": [
    {
     "name": "stdout",
     "output_type": "stream",
     "text": [
      "[('new', 28374), ('one', 26810), ('’', 26503), ('life', 25351), ('world', 21541), ('work', 21396), ('time', 20101), ('de', 20039), ('make', 17499), ('first', 16459), ('write', 15994), ('include', 15836), ('find', 14821), ('love', 14225), ('story', 13549), ('live', 13330), ('history', 12020), ('take', 11893), ('also', 11822), ('author', 11520)]\n"
     ]
    }
   ],
   "source": [
    "print(counter_all.most_common(20))"
   ]
  },
  {
   "cell_type": "markdown",
   "metadata": {},
   "source": [
    "### Most common words used, grouped by popularity of the book"
   ]
  },
  {
   "cell_type": "code",
   "execution_count": 17,
   "metadata": {
    "collapsed": true
   },
   "outputs": [],
   "source": [
    "import matplotlib.pyplot as plt \n",
    "%matplotlib inline"
   ]
  },
  {
   "cell_type": "markdown",
   "metadata": {},
   "source": [
    "We decided that rating count is a good way to determine the popularity of the book. By visualizing the distribution of the rating count, we decide on the bin for popularity to be: 0 to 100k, 100k to 200k,  200k to 300k,  300k to 400k, 400k to 500k,  500k to 600k, 600k to 700k, 700k to 800k, 800k to 900k, 900k to 1000k, 1000k to 3000k and 3000kabove "
   ]
  },
  {
   "cell_type": "code",
   "execution_count": 137,
   "metadata": {},
   "outputs": [
    {
     "data": {
      "image/png": "[encoded data removed]",
      "text/plain": [
       "<matplotlib.figure.Figure at 0x1a39e35898>"
      ]
     },
     "metadata": {},
     "output_type": "display_data"
    }
   ],
   "source": [
    "for x in range(1,24):\n",
    "    df = csv_to_df('metadata/metadata%d.csv'%(x))\n",
    "    plt.hist(df['rating_count'])"
   ]
  },
  {
   "cell_type": "code",
   "execution_count": 138,
   "metadata": {
    "collapsed": true
   },
   "outputs": [],
   "source": [
    "def popular_words_rc(processed):\n",
    "    R0_100k, R100k_200k,  R200k_300k,  R300k_400k, R400k_500k,  R500k_600k, R600k_700k, \\\n",
    "    R700k_800k, R800k_900k, R900k_1000k, R1000k_3000k, R3000kabove \\\n",
    "                = [], [], [], [], [], [], [], [], [], [], [], []\n",
    "    for i, row in processed.iterrows():\n",
    "        if (0 <= row['rating_count'] < 100000): R0_100k.extend(row['description'])\n",
    "        elif (100000 <= row['rating_count'] < 200000): R100k_200k.extend(row['description'])\n",
    "        elif (200000 <= row['rating_count'] < 300000): R200k_300k.extend(row['description'])\n",
    "        elif (300000 <= row['rating_count'] < 400000): R300k_400k.extend(row['description'])\n",
    "        elif (400000 <= row['rating_count'] < 500000): R400k_500k.extend(row['description'])\n",
    "        elif (500000 <= row['rating_count'] < 600000): R500k_600k.extend(row['description'])\n",
    "        elif (600000 <= row['rating_count'] < 700000): R600k_700k.extend(row['description'])\n",
    "        elif (700000 <= row['rating_count'] < 800000): R700k_800k.extend(row['description'])\n",
    "        elif (800000 <= row['rating_count'] < 900000): R800k_900k.extend(row['description'])\n",
    "        elif (900000 <= row['rating_count'] < 1000000): R900k_1000k.extend(row['description'])\n",
    "        elif (1000000 <= row['rating_count'] < 3000000): R1000k_3000k.extend(row['description'])\n",
    "        elif (3000000 <= row['rating_count']): R3000kabove.extend(row['description'])\n",
    "            \n",
    "    return Counter(R0_100k), Counter(R100k_200k), Counter(R200k_300k), Counter(R300k_400k), \\\n",
    "            Counter(R400k_500k), Counter(R500k_600k), Counter(R600k_700k), Counter(R700k_800k), \\\n",
    "            Counter(R800k_900k), Counter(R900k_1000k), Counter(R1000k_3000k), Counter(R3000kabove)"
   ]
  },
  {
   "cell_type": "code",
   "execution_count": 140,
   "metadata": {},
   "outputs": [],
   "source": [
    "R0_100k, R100k_200k,  R200k_300k,  R300k_400k, R400k_500k,  R500k_600k, R600k_700k, \\\n",
    "    R700k_800k, R800k_900k, R900k_1000k, R1000k_3000k, R3000kabove \\\n",
    "        = Counter(), Counter(), Counter(), Counter(), Counter(), Counter(), Counter(), Counter(),\\\n",
    "            Counter(), Counter(), Counter(), Counter()\n",
    "for x in range(0,23):\n",
    "    processed = df_full[x]\n",
    "    a, b, c, d, e, f, g, h, i, j, k, l = popular_words_rc(processed)\n",
    "    R0_100k += a\n",
    "    R100k_200k += b\n",
    "    R200k_300k += c\n",
    "    R300k_400k += d\n",
    "    R400k_500k += e\n",
    "    R500k_600k += f\n",
    "    R600k_700k += g\n",
    "    R700k_800k += h\n",
    "    R800k_900k += i\n",
    "    R900k_1000k += j\n",
    "    R1000k_3000k += k\n",
    "    R3000kabove += l"
   ]
  },
  {
   "cell_type": "markdown",
   "metadata": {},
   "source": [
    "You can see that books that were extremely popular included words like harry (Harry Potter), gatsby (The Great Gatsby), and kill (To Kill a Mockingbird)"
   ]
  },
  {
   "cell_type": "code",
   "execution_count": 141,
   "metadata": {},
   "outputs": [
    {
     "name": "stdout",
     "output_type": "stream",
     "text": [
      "0 to 100k:   [('new', 27199), ('’', 25138), ('one', 25025), ('life', 24123), ('work', 20485), ('world', 20190), ('time', 19039), ('de', 17721), ('make', 16802), ('first', 15433)]\n",
      "\n",
      "100k to 200k:   [('de', 989), ('’', 642), ('one', 636), ('new', 529), ('la', 515), ('life', 470), ('world', 469), ('time', 453), ('love', 451), ('first', 444)]\n",
      "\n",
      "200k to 300k:   [('de', 326), ('one', 288), ('la', 187), ('’', 183), ('story', 178), ('world', 176), ('new', 160), ('love', 159), ('time', 152), ('war', 152)]\n",
      "\n",
      "300k to 400k:   [('de', 170), ('’', 127), ('world', 121), ('—', 108), ('first', 104), ('story', 103), ('one', 99), ('la', 90), ('life', 86), ('live', 80)]\n",
      "\n",
      "400k to 500k:   [('ring', 197), ('one', 167), ('de', 162), ('edition', 118), ('lord', 103), ('que', 95), ('write', 87), ('story', 85), ('become', 84), ('fantasy', 82)]\n",
      "\n",
      "500k to 600k:   [('story', 137), ('novel', 137), ('world', 137), ('life', 136), ('one', 114), ('new', 90), ('tolstoy', 88), ('edition', 85), ('de', 82), ('’', 79)]\n",
      "\n",
      "600k to 700k:   [('one', 72), ('de', 71), ('life', 40), ('la', 39), ('include', 38), ('wild', 35), ('classic', 32), ('like', 32), ('mitch', 32), ('novel', 31)]\n",
      "\n",
      "700k to 800k:   [('dracula', 102), ('dorian', 85), ('’', 81), ('world', 75), ('de', 74), ('one', 69), ('age', 63), ('work', 63), ('love', 61), ('new', 58)]\n",
      "\n",
      "800k to 900k:   [('elinor', 29), ('love', 27), ('’', 23), ('sense', 21), ('sensibility', 21), ('marianne', 20), ('edition', 19), ('de', 19), ('tale', 16), ('man', 15)]\n",
      "\n",
      "900k to 1000k:   [('de', 139), ('frankenstein', 127), ('life', 83), ('story', 66), ('science', 48), ('tell', 45), ('la', 43), ('human', 40), ('question', 37), ('creature', 35)]\n",
      "\n",
      "1000k to 3000k:   [('one', 301), ('de', 286), ('jane', 256), ('love', 253), ('world', 212), ('story', 175), ('la', 154), ('life', 151), ('’', 143), ('young', 141)]\n",
      "\n",
      "3000k above:   [('harry', 82), ('first', 38), ('gatsby', 38), ('kill', 33), ('magical', 29), ('evil', 25), ('world', 24), ('best', 24), ('ever', 23), ('within', 22)]\n",
      "\n"
     ]
    }
   ],
   "source": [
    "print(\"0 to 100k:   \" + str(R0_100k.most_common(10)) + \"\\n\")\n",
    "print(\"100k to 200k:   \" + str(R100k_200k.most_common(10))+ \"\\n\")\n",
    "print(\"200k to 300k:   \" + str(R200k_300k.most_common(10))+ \"\\n\")\n",
    "print(\"300k to 400k:   \" + str(R300k_400k.most_common(10))+ \"\\n\")\n",
    "print(\"400k to 500k:   \" + str(R400k_500k.most_common(10))+ \"\\n\")\n",
    "print(\"500k to 600k:   \" + str(R500k_600k.most_common(10))+ \"\\n\")\n",
    "print(\"600k to 700k:   \" + str(R600k_700k.most_common(10))+ \"\\n\")\n",
    "print(\"700k to 800k:   \" + str(R700k_800k.most_common(10))+ \"\\n\")\n",
    "print(\"800k to 900k:   \" + str(R800k_900k.most_common(10))+ \"\\n\")\n",
    "print(\"900k to 1000k:   \" + str(R900k_1000k.most_common(10))+ \"\\n\")\n",
    "print(\"1000k to 3000k:   \" + str(R1000k_3000k.most_common(10))+ \"\\n\")\n",
    "print(\"3000k above:   \" + str(R3000kabove.most_common(10))+ \"\\n\")"
   ]
  },
  {
   "cell_type": "markdown",
   "metadata": {},
   "source": [
    "### Most common words used, grouped by rating of the book"
   ]
  },
  {
   "cell_type": "markdown",
   "metadata": {},
   "source": [
    "By visualizing the distribution of the rating count, we decide on the bin for popularity to be: 0 to 1, 1 to 2, 2 to 2.5, 2.5 to 3, 3 to 3.3, 3.3 to 3.6, 3.6 to 3.9, 3.9 to 4.2, 4.2 to 4.5 and 4.5 to 5.0"
   ]
  },
  {
   "cell_type": "code",
   "execution_count": 142,
   "metadata": {},
   "outputs": [
    {
     "data": {
      "image/png": "[encoded data removed]",
      "text/plain": [
       "<matplotlib.figure.Figure at 0x1a369e6630>"
      ]
     },
     "metadata": {},
     "output_type": "display_data"
    }
   ],
   "source": [
    "for x in range(1,24):\n",
    "    df = csv_to_df('metadata/metadata%d.csv'%(x))\n",
    "    plt.hist(df['average_rating'], alpha=0.5)"
   ]
  },
  {
   "cell_type": "code",
   "execution_count": 143,
   "metadata": {
    "collapsed": true
   },
   "outputs": [],
   "source": [
    "def popular_words_rating(processed):\n",
    "    zero, one, two, two2, three1, three2, three3, four1, four2 = \\\n",
    "    [], [], [], [], [], [], [], [], []\n",
    "    for i, row in processed.iterrows():\n",
    "        if (0 <= round(row['average_rating'], 1) < 1.0): zero.extend(row['description'])\n",
    "        elif (1 <= round(row['average_rating'], 1) < 2.0): one.extend(row['description'])\n",
    "        elif (2.0 <= round(row['average_rating'], 1) < 2.5): two.extend(row['description'])\n",
    "        elif (2.5 <= round(row['average_rating'], 1) < 3.0): two2.extend(row['description'])\n",
    "        elif (3.0 <= round(row['average_rating'], 1) < 3.3): three1.extend(row['description'])\n",
    "        elif (3.3 <= round(row['average_rating'], 1) < 3.6): three2.extend(row['description'])\n",
    "        elif (3.6 <= round(row['average_rating'], 1) < 3.9): three3.extend(row['description'])\n",
    "        elif (4.2 <= round(row['average_rating'], 1) < 4.5): four1.extend(row['description'])\n",
    "        elif (4.5 <= round(row['average_rating'], 1) < 5.0): four2.extend(row['description'])\n",
    "    return Counter(zero), Counter(one), Counter(two), Counter(two2), Counter(three1), \\\n",
    "            Counter(three2), Counter(three3), Counter(four1), Counter(four2)"
   ]
  },
  {
   "cell_type": "code",
   "execution_count": 145,
   "metadata": {},
   "outputs": [],
   "source": [
    "zero, one, two, two2, three1, three2, three3, four1, four2 = \\\n",
    "    Counter(), Counter(), Counter(), Counter(), Counter(), Counter(), Counter(), Counter(), Counter()\n",
    "for x in range(0,23):\n",
    "    processed = df_full[x]\n",
    "    a, b, c, d, e, f, g, h, i= popular_words_rating(processed)\n",
    "    zero += a\n",
    "    one += b\n",
    "    two += c\n",
    "    two2 += d\n",
    "    three1 += e\n",
    "    three2 += f\n",
    "    three3 += g\n",
    "    four1 += h\n",
    "    four2 += i"
   ]
  },
  {
   "cell_type": "code",
   "execution_count": 146,
   "metadata": {},
   "outputs": [
    {
     "name": "stdout",
     "output_type": "stream",
     "text": [
      "rating 0.0 to 1.0 :   [('work', 894), ('include', 705), ('new', 679), ('study', 586), ('use', 525), ('provide', 500), ('also', 476), ('write', 467), ('de', 458), ('make', 425), ('one', 424), ('first', 412), ('life', 403), ('world', 387), ('present', 378), ('author', 377), ('volume', 371), ('well', 346), ('time', 345), ('state', 317)]\n",
      "\n",
      "rating 1.0 to 2.0 :   [('use', 45), ('include', 31), ('work', 29), ('new', 24), ('write', 22), ('students', 22), ('find', 20), ('also', 20), ('provide', 20), ('author', 20)]\n",
      "\n",
      "rating 2.0 to 2.5 :   [('new', 101), ('work', 94), ('include', 76), ('one', 69), ('write', 68), ('study', 65), ('life', 61), ('use', 56), ('make', 55), ('de', 55)]\n",
      "\n",
      "rating 2.5 to 3.0 :   [('new', 247), ('’', 235), ('life', 234), ('one', 217), ('make', 195), ('work', 191), ('include', 172), ('world', 170), ('time', 165), ('use', 132), ('author', 128), ('live', 128), ('write', 127), ('love', 125), ('first', 124), ('find', 119), ('de', 118), ('also', 115), ('take', 114), ('get', 111)]\n",
      "\n",
      "rating 3.0 to 3.3:   [('new', 975), ('’', 904), ('work', 817), ('life', 810), ('one', 746), ('world', 679), ('de', 651), ('write', 631), ('time', 609), ('make', 603), ('include', 602), ('use', 545), ('first', 467), ('find', 466), ('author', 448), ('also', 441), ('know', 435), ('american', 434), ('history', 434), ('live', 429)]\n",
      "\n",
      "rating 3.3 to 3.6 :   [('’', 2849), ('new', 2755), ('one', 2499), ('life', 2410), ('world', 2029), ('time', 1976), ('make', 1928), ('de', 1864), ('work', 1841), ('write', 1578), ('find', 1549), ('first', 1510), ('love', 1446), ('include', 1432), ('story', 1380), ('live', 1318), ('take', 1306), ('know', 1185), ('history', 1171), ('author', 1165)]\n",
      "\n",
      "rating 3.6 to 3.9:   [('new', 7412), ('’', 7200), ('one', 6799), ('life', 6583), ('de', 5793), ('world', 5626), ('time', 5124), ('work', 5040), ('make', 4587), ('find', 4066), ('first', 4047), ('love', 3886), ('write', 3694), ('story', 3626), ('live', 3617), ('include', 3383), ('la', 3330), ('take', 3308), ('history', 3118), ('know', 3049)]\n",
      "\n",
      "rating 4.2 to 4.5 :   [('new', 4846), ('one', 4783), ('life', 4510), ('’', 4418), ('world', 3875), ('work', 3724), ('time', 3716), ('de', 3329), ('write', 3086), ('include', 3010), ('first', 2954), ('make', 2838), ('love', 2568), ('live', 2388), ('find', 2291), ('story', 2186), ('also', 2009), ('know', 1930), ('la', 1929), ('years', 1905)]\n",
      "\n",
      "rating 4.5 to 5.0 :   [('work', 1051), ('one', 925), ('new', 910), ('include', 857), ('life', 737), ('’', 727), ('first', 657), ('time', 629), ('world', 605), ('write', 546), ('make', 514), ('also', 513), ('volume', 453), ('history', 427), ('well', 413), ('two', 406), ('use', 401), ('art', 400), ('many', 399), ('de', 390)]\n",
      "\n"
     ]
    }
   ],
   "source": [
    "print(\"rating 0.0 to 1.0 :   \" + str(zero.most_common(20)) + \"\\n\")\n",
    "print(\"rating 1.0 to 2.0 :   \" + str(one.most_common(10)) + \"\\n\")\n",
    "print(\"rating 2.0 to 2.5 :   \" + str(two.most_common(10)) +\"\\n\")\n",
    "print(\"rating 2.5 to 3.0 :   \" + str(two2.most_common(20)) + \"\\n\")\n",
    "print(\"rating 3.0 to 3.3:   \" + str(three1.most_common(20)) + \"\\n\")\n",
    "print(\"rating 3.3 to 3.6 :   \" + str(three2.most_common(20)) + \"\\n\")\n",
    "print(\"rating 3.6 to 3.9:   \" + str(three3.most_common(20)) + \"\\n\")\n",
    "print(\"rating 4.2 to 4.5 :   \" + str(four1.most_common(20)) + \"\\n\")\n",
    "print(\"rating 4.5 to 5.0 :   \" + str(four2.most_common(20)) + \"\\n\")"
   ]
  },
  {
   "cell_type": "markdown",
   "metadata": {},
   "source": [
    "### Most common words used overtime"
   ]
  },
  {
   "cell_type": "markdown",
   "metadata": {},
   "source": [
    "We will load deta frames again and this time, get rid of all books with no publication data and ignore month and date of publication"
   ]
  },
  {
   "cell_type": "code",
   "execution_count": 149,
   "metadata": {
    "collapsed": true
   },
   "outputs": [],
   "source": [
    "df_time = []\n",
    "for x in range(1,24):\n",
    "    df = csv_to_df('metadata/metadata%d.csv'%(x))\n",
    "    df = df[df.publication_date != '//']\n",
    "    df[\"publication_date\"] = df[\"publication_date\"].apply(lambda x: x[-4:])\n",
    "    processed = process_all(df)\n",
    "    df_time.append(processed)"
   ]
  },
  {
   "cell_type": "code",
   "execution_count": 147,
   "metadata": {
    "collapsed": true
   },
   "outputs": [],
   "source": [
    "def popular_words_time(processed):\n",
    "    t1800,t1900,t1950, t1960, t1970, t1980, t1990, t1995, t2000, \\\n",
    "    t2005,t2010, t2015, t2020  = [], [], [], [], [], [], [], [], [], [], [], [], []\n",
    "    for i, row in processed.iterrows():\n",
    "        if (0 < int(row['publication_date']) <= 1800): t1800.extend(row['description'])\n",
    "        elif (1800 < int(row['publication_date']) <= 1900): t1900.extend(row['description'])\n",
    "        elif (1900 < int(row['publication_date']) <= 1950): t1950.extend(row['description'])\n",
    "        elif (1950 < int(row['publication_date']) <= 1960): t1960.extend(row['description'])\n",
    "        elif (1960 < int(row['publication_date']) <= 1970): t1970.extend(row['description'])\n",
    "        elif (1970 < int(row['publication_date']) <= 1980): t1980.extend(row['description'])\n",
    "        elif (1980 < int(row['publication_date']) <= 1990): t1990.extend(row['description'])\n",
    "        elif (1990 < int(row['publication_date']) <= 1995): t1995.extend(row['description'])\n",
    "        elif (1995 < int(row['publication_date']) <= 2000): t2000.extend(row['description'])\n",
    "        elif (2000 < int(row['publication_date']) <= 2005): t2005.extend(row['description'])\n",
    "        elif (2005 < int(row['publication_date']) <= 2010): t2010.extend(row['description'])\n",
    "        elif (2010 < int(row['publication_date']) <= 2015): t2015.extend(row['description'])\n",
    "        elif (2015 < int(row['publication_date']) <= 2020): t2020.extend(row['description'])\n",
    "        \n",
    "    return Counter(t1800), Counter(t1900), Counter(t1950), Counter(t1960), Counter(t1970), Counter(t1980), \\\n",
    "        Counter(t1990), Counter(t1995), Counter(t2000), Counter(t2005), Counter(t2010), Counter(t2015), Counter(t2020)"
   ]
  },
  {
   "cell_type": "code",
   "execution_count": 151,
   "metadata": {},
   "outputs": [],
   "source": [
    "t1800,t1900,t1950, t1960, t1970, t1980, t1990, t1995, t2000, t2005, t2010, t2015,t2020 \\\n",
    "        = Counter(), Counter(), Counter(), Counter(), Counter(), Counter(), Counter(), Counter(), \\\n",
    "            Counter(), Counter(), Counter(), Counter() , Counter()\n",
    "\n",
    "for x in range(0,23):\n",
    "    processed = df_time[x]\n",
    "    a, b, c, d, e, f, g, h, i, j, k, l, m = popular_words_time(processed)\n",
    "    t1800 += a\n",
    "    t1900 +=b \n",
    "    t1950 +=c\n",
    "    t1960 += d\n",
    "    t1970 += e\n",
    "    t1980 += f \n",
    "    t1990 += g\n",
    "    t1995 += h\n",
    "    t2000 += i \n",
    "    t2005 += j \n",
    "    t2010 += k\n",
    "    t2015 += l\n",
    "    t2020 += m"
   ]
  },
  {
   "cell_type": "markdown",
   "metadata": {},
   "source": [
    "It is interesting to see specific names like Kurt Vonnegut appear very commonly in 1960-1970. Also, one thing to notice is the popularity of the word, 'war' starting in 1980 and becoming increasingly popular."
   ]
  },
  {
   "cell_type": "code",
   "execution_count": 152,
   "metadata": {},
   "outputs": [
    {
     "name": "stdout",
     "output_type": "stream",
     "text": [
      "1800 and below :   [('می', 18), ('و', 18), ('به', 14), ('را', 13), ('که', 12), ('در', 10), ('او', 9), ('پوریا', 8), ('برای', 8), ('از', 8), ('با', 6), ('نام', 5), ('ی', 5), ('سرزمین', 5), ('اما', 5), ('قصه', 5), ('است', 4), ('شاهدخت', 4), ('ابدیت', 4), ('آناهیتا', 4), ('nietzsche', 4), ('زندگی', 3), ('بوده', 3), ('کند،', 3), ('شود', 3), ('تمام', 3), ('داستان', 3), ('نویسنده', 3), ('کودکی', 3), ('کند', 3)]\n",
      "\n",
      "1800-1900 :   [('home', 7), ('bible', 6), ('soseki', 6), ('feng', 6), ('shui', 6), ('use', 5), ('well', 5), ('make', 5), ('art', 5), ('follow', 4), ('write', 4), ('old', 3), ('comedy', 3), ('form', 3), ('also', 3), ('time', 3), ('lead', 3), ('family', 3), ('life', 3), ('relate', 3), ('best', 3), ('present', 3), ('past', 3), ('work', 3), ('novel', 3), ('easy', 3), ('love', 3), ('stories', 3), ('children', 3), ('playwright', 2)]\n",
      "\n",
      "1900-1950 :   [('work', 69), ('edition', 55), ('first', 53), ('life', 48), ('one', 47), ('de', 47), ('story', 45), ('write', 38), ('new', 34), ('library', 30), ('make', 29), ('history', 28), ('part', 28), ('loeb', 27), ('volumes', 27), ('la', 27), ('roman', 26), ('years', 26), ('publish', 25), ('great', 25), ('cover', 25), ('classical', 24), ('man', 24), ('novel', 23), ('also', 22), ('three', 20), ('ce', 20), ('world', 20), ('know', 20), ('’', 20)]\n",
      "\n",
      "1950-1960 :   [('one', 74), ('’', 65), ('work', 64), ('life', 58), ('write', 55), ('story', 54), ('world', 49), ('new', 48), ('·', 48), ('man', 43), ('love', 42), ('novel', 41), ('—', 41), ('first', 39), ('history', 36), ('play', 35), ('know', 34), ('make', 34), ('live', 34), ('become', 34), ('include', 33), ('find', 32), ('time', 32), ('edition', 32), ('english', 31), ('”', 28), ('stories', 28), ('character', 27), ('introduction', 27), ('also', 26)]\n",
      "\n",
      "1960-1970 :   [('•', 276), ('work', 204), ('life', 195), ('’', 193), ('one', 189), ('write', 187), ('first', 186), ('new', 162), ('time', 150), ('man', 137), ('story', 135), ('world', 130), ('novel', 121), ('make', 115), ('edition', 115), ('de', 109), ('include', 104), ('also', 98), ('author', 95), ('publish', 89), ('study', 84), ('english', 83), ('character', 82), ('modern', 82), ('introduction', 81), ('use', 80), ('american', 78), ('play', 78), ('live', 77), ('great', 77)]\n",
      "\n",
      "1970-1980 :   [('·', 698), ('’', 609), ('•', 496), ('one', 484), ('work', 420), ('de', 420), ('life', 352), ('new', 341), ('write', 337), ('world', 322), ('first', 315), ('story', 312), ('time', 311), ('man', 279), ('make', 271), ('la', 241), ('love', 227), ('find', 220), ('include', 217), ('also', 217), ('publish', 200), ('ss', 193), ('history', 186), ('edition', 179), ('two', 176), ('novel', 173), ('author', 173), ('years', 170), ('en', 165), ('come', 163)]\n",
      "\n",
      "1980-1990 :   [('one', 1397), ('de', 1306), ('’', 1275), ('work', 1224), ('new', 1205), ('life', 1111), ('time', 1082), ('world', 1014), ('first', 950), ('make', 887), ('write', 885), ('la', 706), ('find', 665), ('include', 653), ('story', 646), ('love', 628), ('history', 615), ('man', 614), ('also', 608), ('author', 596), ('know', 566), ('american', 547), ('years', 543), ('live', 529), ('war', 523), ('edition', 509), ('·', 491), ('well', 474), ('take', 473), ('use', 462)]\n",
      "\n",
      "1990-1995 :   [('one', 1692), ('new', 1678), ('work', 1603), ('life', 1505), ('world', 1383), ('time', 1321), ('de', 1289), ('’', 1280), ('write', 1134), ('•', 1123), ('first', 1121), ('make', 993), ('include', 923), ('love', 877), ('story', 859), ('history', 857), ('find', 793), ('live', 783), ('also', 759), ('american', 736), ('author', 731), ('la', 729), ('man', 709), ('war', 695), ('two', 687), ('know', 674), ('take', 670), ('years', 664), ('well', 652), ('become', 603)]\n",
      "\n",
      "1995-2000 :   [('new', 4376), ('one', 4138), ('life', 4053), ('work', 3591), ('world', 3269), ('time', 3074), ('write', 2781), ('make', 2700), ('first', 2545), ('include', 2507), ('de', 2480), ('love', 2308), ('find', 2199), ('live', 2163), ('story', 2149), ('’', 2117), ('history', 2026), ('also', 2021), ('american', 1876), ('author', 1857), ('take', 1797), ('well', 1743), ('know', 1737), ('years', 1734), ('man', 1634), ('use', 1587), ('war', 1547), ('two', 1529), ('come', 1521), ('read', 1490)]\n",
      "\n",
      "2000 - 2005 :   [('new', 11343), ('’', 10376), ('one', 9906), ('life', 9665), ('world', 8213), ('work', 8144), ('time', 7593), ('include', 6839), ('make', 6723), ('write', 6312), ('first', 6144), ('find', 5689), ('de', 5584), ('love', 5202), ('live', 5085), ('story', 4901), ('history', 4694), ('take', 4635), ('also', 4632), ('author', 4593), ('know', 4413), ('use', 4032), ('american', 4025), ('years', 3994), ('well', 3947), ('war', 3904), ('come', 3730), ('man', 3723), ('two', 3684), ('people', 3657)]\n",
      "\n",
      "2005 - 2010 :   [('’', 7796), ('new', 6430), ('one', 5683), ('life', 5483), ('world', 4763), ('time', 4245), ('work', 4173), ('make', 3977), ('find', 3497), ('first', 3278), ('include', 3245), ('de', 3094), ('live', 3004), ('love', 2893), ('take', 2873), ('write', 2796), ('know', 2599), ('story', 2524), ('history', 2492), ('author', 2447), ('also', 2345), ('use', 2332), ('years', 2190), ('come', 2178), ('become', 2143), ('two', 2118), ('war', 2106), ('get', 2105), ('american', 2090), ('well', 2089)]\n",
      "\n",
      "2010 - 2015 :   [('de', 228), ('one', 192), ('life', 178), ('new', 168), ('work', 143), ('time', 138), ('la', 132), ('’', 127), ('love', 119), ('world', 116), ('first', 112), ('make', 109), ('story', 106), ('•', 99), ('include', 96), ('write', 96), ('find', 87), ('que', 86), ('also', 81), ('live', 81), ('author', 81), ('edition', 77), ('years', 76), ('man', 76), ('history', 74), ('know', 69), ('play', 68), ('two', 67), ('many', 65), ('well', 65)]\n",
      "\n",
      "2015 - 2020 :   [('de', 69), ('new', 55), ('world', 53), ('’', 51), ('one', 45), ('work', 42), ('time', 42), ('life', 42), ('love', 40), ('la', 36), ('write', 28), ('first', 26), ('long', 25), ('el', 24), ('que', 23), ('make', 22), ('use', 22), ('story', 22), ('history', 22), ('en', 22), ('years', 20), ('begin', 20), ('author', 20), ('“', 20), ('”', 20), ('come', 19), ('young', 19), ('well', 19), ('set', 18), ('include', 18)]\n",
      "\n"
     ]
    }
   ],
   "source": [
    "print(\"1800 and below :   \" + str(t1800.most_common(30)) + \"\\n\")\n",
    "print(\"1800-1900 :   \" + str(t1900.most_common(30)) + \"\\n\")\n",
    "print(\"1900-1950 :   \" + str(t1950.most_common(30)) + \"\\n\")\n",
    "print(\"1950-1960 :   \" + str(t1960.most_common(30)) + \"\\n\")\n",
    "print(\"1960-1970 :   \" + str(t1970.most_common(30)) + \"\\n\")\n",
    "print(\"1970-1980 :   \" + str(t1980.most_common(30)) + \"\\n\")\n",
    "print(\"1980-1990 :   \" + str(t1990.most_common(30)) + \"\\n\")\n",
    "print(\"1990-1995 :   \" + str(t1995.most_common(30)) + \"\\n\")\n",
    "print(\"1995-2000 :   \" + str(t2000.most_common(30)) + \"\\n\")\n",
    "print(\"2000 - 2005 :   \" + str(t2005.most_common(30)) + \"\\n\")\n",
    "print(\"2005 - 2010 :   \" + str(t2010.most_common(30)) + \"\\n\")\n",
    "print(\"2010 - 2015 :   \" + str(t2015.most_common(30)) + \"\\n\")\n",
    "print(\"2015 - 2020 :   \" + str(t2020.most_common(30)) + \"\\n\")"
   ]
  },
  {
   "cell_type": "markdown",
   "metadata": {},
   "source": [
    "#  DONT FORGET: we should look at some words like war and american, history, woman, and visualize the proportion of its use by time interval."
   ]
  },
  {
   "cell_type": "code",
   "execution_count": null,
   "metadata": {
    "collapsed": true
   },
   "outputs": [],
   "source": []
  },
  {
   "cell_type": "code",
   "execution_count": null,
   "metadata": {
    "collapsed": true
   },
   "outputs": [],
   "source": []
  },
  {
   "cell_type": "markdown",
   "metadata": {},
   "source": [
    "### Most common words used in REVIEWS, grouped by rating of the book"
   ]
  },
  {
   "cell_type": "markdown",
   "metadata": {},
   "source": [
    "For the purpose of using the same processing functions, review columns were renamed to \"description\"."
   ]
  },
  {
   "cell_type": "code",
   "execution_count": 122,
   "metadata": {
    "collapsed": true
   },
   "outputs": [],
   "source": [
    "def review_csv_to_df(path):\n",
    "    df = pd.read_csv(path)\n",
    "    df = df[pd.notnull(df['text'])]\n",
    "    df = df.rename(index=str, columns={\"text\": \"description\"})\n",
    "    return df"
   ]
  },
  {
   "cell_type": "code",
   "execution_count": 123,
   "metadata": {
    "collapsed": true
   },
   "outputs": [],
   "source": [
    "def popular_words_review(processed):\n",
    "    one, two, three, four, five = [], [], [], [], []\n",
    "    for i, row in processed.iterrows():\n",
    "        if (row['rating'] == 1.0): one.extend(row['description'])\n",
    "        elif (row['rating'] == 2.0): two.extend(row['description'])\n",
    "        elif (row['rating'] == 3.0): three.extend(row['description'])\n",
    "        elif (row['rating'] == 4.0): four.extend(row['description'])\n",
    "        elif (row['rating'] == 5.0): five.extend(row['description'])\n",
    "    return Counter(one), Counter(two), Counter(three), Counter(four), Counter(five)"
   ]
  },
  {
   "cell_type": "code",
   "execution_count": 126,
   "metadata": {},
   "outputs": [],
   "source": [
    "one, two, three, four, five = Counter(), Counter(), Counter(), Counter(), Counter()\n",
    "dfs = []\n",
    "for i in range(1,6):\n",
    "    df = review_csv_to_df('reviewdata/reviews%d.csv'%(i))\n",
    "    dfs.append(df)\n",
    "    processed = process_all(df)\n",
    "    a, b, c, d, e = popular_words_review(processed)\n",
    "    one += a\n",
    "    two += b\n",
    "    three += c\n",
    "    four += d\n",
    "    five += e"
   ]
  },
  {
   "cell_type": "markdown",
   "metadata": {},
   "source": [
    "As expected, words such as 'love', 'really', 'great' and 'like' were used more commonly in books with higher rating."
   ]
  },
  {
   "cell_type": "code",
   "execution_count": 128,
   "metadata": {},
   "outputs": [
    {
     "name": "stdout",
     "output_type": "stream",
     "text": [
      "rating one :   [('read', 24630), ('like', 12602), ('one', 10800), ('write', 9341), ('get', 9304), ('think', 7871), ('character', 7138), ('really', 6982), ('time', 6247), ('make', 6153), ('first', 6050), ('story', 5698), ('would', 5434), ('go', 5359), ('im', 5226), ('dont', 5120), ('page', 5112), ('didnt', 4942), ('find', 4936), ('finish', 4931), ('give', 4853), ('know', 4826), ('love', 4777), ('say', 4577), ('author', 4569), ('much', 4562), ('good', 4418), ('’', 4395), ('even', 4254), ('want', 3993)]\n",
      "\n",
      "rating two :   [('read', 39910), ('like', 24164), ('one', 19153), ('write', 14744), ('really', 14697), ('get', 14617), ('story', 14188), ('think', 13755), ('character', 13158), ('time', 11526), ('first', 11383), ('much', 11182), ('interest', 10467), ('good', 10077), ('find', 10060), ('didnt', 9818), ('make', 9306), ('’', 9187), ('would', 9089), ('go', 8986), ('love', 8981), ('im', 8658), ('know', 8075), ('say', 7647), ('author', 7389), ('well', 7034), ('dont', 6973), ('give', 6946), ('end', 6710), ('novel', 6674)]\n",
      "\n",
      "rating three :   [('read', 97061), ('like', 50334), ('one', 42666), ('story', 37026), ('write', 32823), ('good', 30510), ('think', 28904), ('get', 28882), ('time', 28495), ('first', 28016), ('really', 27636), ('interest', 25745), ('character', 25296), ('love', 23037), ('much', 22974), ('’', 22055), ('find', 21933), ('make', 20057), ('enjoy', 19555), ('go', 19080), ('would', 19054), ('de', 18925), ('know', 17715), ('well', 17594), ('novel', 16314), ('little', 16274), ('stories', 16020), ('im', 16009), ('3', 15516), ('end', 15344)]\n",
      "\n",
      "rating four :   [('read', 160981), ('one', 72129), ('like', 64176), ('story', 57703), ('write', 51955), ('love', 49145), ('time', 47156), ('first', 44323), ('really', 43669), ('good', 42309), ('think', 41473), ('get', 39130), ('’', 38233), ('character', 37370), ('de', 36363), ('make', 34805), ('great', 33378), ('enjoy', 33112), ('much', 30468), ('well', 30212), ('find', 29961), ('know', 29851), ('go', 29411), ('interest', 27435), ('novel', 27134), ('life', 27033), ('would', 25917), ('take', 25186), ('series', 25110), ('stories', 23885)]\n",
      "\n",
      "rating five :   [('read', 181582), ('one', 85084), ('love', 74895), ('time', 57653), ('write', 50942), ('story', 49884), ('like', 49636), ('first', 42189), ('’', 39602), ('think', 39517), ('great', 35633), ('de', 35301), ('get', 34693), ('make', 34627), ('really', 32295), ('character', 30461), ('life', 30375), ('know', 30020), ('much', 28845), ('go', 28163), ('good', 26823), ('find', 25749), ('say', 25315), ('novel', 24737), ('would', 24489), ('well', 24352), ('many', 23879), ('years', 23395), ('work', 23355), ('ive', 23308)]\n",
      "\n"
     ]
    }
   ],
   "source": [
    "print(\"rating one :   \" + str(one.most_common(30)) + \"\\n\")\n",
    "print(\"rating two :   \" + str(two.most_common(30)) + \"\\n\")\n",
    "print(\"rating three :   \" + str(three.most_common(30)) + \"\\n\")\n",
    "print(\"rating four :   \" + str(four.most_common(30)) + \"\\n\")\n",
    "print(\"rating five :   \" + str(five.most_common(30)) + \"\\n\")"
   ]
  },
  {
   "cell_type": "code",
   "execution_count": null,
   "metadata": {
    "collapsed": true
   },
   "outputs": [],
   "source": []
  }
 ],
 "metadata": {
  "kernelspec": {
   "display_name": "Python 3",
   "language": "python",
   "name": "python3"
  },
  "language_info": {
   "codemirror_mode": {
    "name": "ipython",
    "version": 3
   },
   "file_extension": ".py",
   "mimetype": "text/x-python",
   "name": "python",
   "nbconvert_exporter": "python",
   "pygments_lexer": "ipython3",
   "version": "3.6.3"
  }
 },
 "nbformat": 4,
 "nbformat_minor": 2
}
