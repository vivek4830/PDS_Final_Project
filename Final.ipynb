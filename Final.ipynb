{
 "cells": [
  {
   "cell_type": "markdown",
   "metadata": {},
   "source": [
    "# Analysis of Popular Description Words Using Goodreads Data"
   ]
  },
  {
   "cell_type": "markdown",
   "metadata": {},
   "source": [
    "We wanted to investigate the relationship of words used in the description of various books with factors such as their popularity, their average quality, and how these description words changed over time. Using the Goodreads API to retrieve data on the popularity of books, we visualized common words in descriptions over time, and their relationship to popularity and quality.\n",
    "\n",
    "In addition, we wanted to see what kinds of trends we could extract from the data, particularly over time. We wanted to see if we could determine information like genres and overall trends in what people wanted to read over time. "
   ]
  },
  {
   "cell_type": "markdown",
   "metadata": {},
   "source": [
    "### Content\n",
    "\n",
    "Topics that are covered in this project include:\n",
    "- Loading data from Goodreads API\n",
    "- Processing descriptions into meaningful words\n",
    "- Most common words used in general\n",
    "- Most common words used, grouped by popularity of the book\n",
    "- Most common words used, grouped by rating of the book\n",
    "- Most common words used over time"
   ]
  },
  {
   "cell_type": "code",
   "execution_count": 1,
   "metadata": {},
   "outputs": [],
   "source": [
    "import time, json\n",
    "import requests\n",
    "import csv\n",
    "from bs4 import BeautifulSoup\n",
    "import nltk\n",
    "import string\n",
    "import pandas as pd\n",
    "from collections import Counter"
   ]
  },
  {
   "cell_type": "markdown",
   "metadata": {},
   "source": [
    "## Loading Data From Goodreads API\n",
    "We first load the data using a private API key from the Goodreads API - generate your own and place it in api_key.txt"
   ]
  },
  {
   "cell_type": "code",
   "execution_count": 2,
   "metadata": {},
   "outputs": [],
   "source": [
    "def read_api_key(filepath):\n",
    "    with open(filepath, 'r') as f:\n",
    "        return f.read().replace('\\n','')\n",
    "    \n",
    "api_key = read_api_key('api_key.txt')"
   ]
  },
  {
   "cell_type": "markdown",
   "metadata": {},
   "source": [
    "We then retrieve metadata about a book given its book ID. Metadata includes: Goodreads book id, author, publication date(month/day/year), publisher, review count, rating count, average rating, genre, and description text."
   ]
  },
  {
   "cell_type": "code",
   "execution_count": 3,
   "metadata": {},
   "outputs": [],
   "source": [
    "# Get metadata about a book given its book ID\n",
    "def get_book_metadata(api_key, book_id):\n",
    "    request_params = {'id':book_id, 'key':api_key, 'format':'xml', 'text_only':'true'}\n",
    "    response = requests.get('https://www.goodreads.com/book/show', params=request_params)\n",
    "    \n",
    "    book_info = {}\n",
    "    \n",
    "    book_info['book_id'] = book_id\n",
    "    \n",
    "    soup = BeautifulSoup(response.text, 'lxml')\n",
    "\n",
    "    # Title\n",
    "    try:\n",
    "        book_info['title'] = soup.find('original_title').text\n",
    "    except:\n",
    "        book_info['title'] = ''\n",
    "    \n",
    "    # Author\n",
    "    try:\n",
    "        book_info['author'] = soup.find('author').find('name').text\n",
    "    except:\n",
    "        book_info['author'] = ''\n",
    "    \n",
    "    # Publication date\n",
    "    try:\n",
    "        year = soup.find('publication_year').text\n",
    "        month = soup.find('publication_month').text\n",
    "        day = soup.find('publication_day').text\n",
    "        book_info['publication_date'] = str(month) + '/' + str(day) + '/' + str(year)\n",
    "    except:\n",
    "        book_info['publication_date'] = ''\n",
    "        \n",
    "    # Publisher\n",
    "    try:\n",
    "        book_info['publisher'] = soup.find('publisher').text\n",
    "    except:\n",
    "        book_info['publisher'] = ''\n",
    "    \n",
    "    # Review information\n",
    "    try:\n",
    "        book_info['review_count'] = soup.find('text_reviews_count').text\n",
    "    except:\n",
    "        book_info['review_count'] = -1\n",
    "    \n",
    "    # Rating information\n",
    "    try:\n",
    "        book_info['rating_count'] = soup.find('ratings_count').text\n",
    "    except:\n",
    "        book_info['rating_count'] = -1\n",
    "    try:\n",
    "        book_info['average_rating'] = soup.find('average_rating').text\n",
    "    except:\n",
    "        book_info['average_rating'] = -1\n",
    "    \n",
    "    # Treat the genre as the most popular shelf this book has been placed on\n",
    "    try:\n",
    "        all_shelves = soup.find('popular_shelves').find_all('shelf')\n",
    "        num_shelves = min(len(all_shelves), 10)\n",
    "        genres = []\n",
    "        for i in range(num_shelves):\n",
    "            genres.append(all_shelves[i]['name'])\n",
    "        #book_info['genre'] = soup.find('popular_shelves').find('shelf')['name']\n",
    "        book_info['genre'] = ','.join(genres)\n",
    "    except:\n",
    "        book_info['genre'] = ''\n",
    "    \n",
    "    # Truncated blurb\n",
    "    try:\n",
    "        book_info['description'] = soup.find('description').text.strip()\n",
    "    except:\n",
    "        book_info['description'] = ''\n",
    "    \n",
    "    return book_info"
   ]
  },
  {
   "cell_type": "markdown",
   "metadata": {},
   "source": [
    "We downloaded 23 csv files of 10k books each, totaling 230k books."
   ]
  },
  {
   "cell_type": "code",
   "execution_count": null,
   "metadata": {},
   "outputs": [],
   "source": [
    "# Save all book metadata as a CSV\n",
    "def download_book_metadata(api_key):\n",
    "    data_columns = ['book_id', 'title', 'author', 'publication_date', 'publisher', 'review_count', 'rating_count', 'average_rating', 'genre', 'description']\n",
    "    \n",
    "    file_index = 1\n",
    "    book_index = 1\n",
    "    \n",
    "    for i in range(23):\n",
    "        with open('data/metadata' + str(file_index) + '.csv', 'w', encoding='utf-8') as output_file:\n",
    "            dict_writer = csv.DictWriter(output_file, data_columns, lineterminator='\\n')\n",
    "            dict_writer.writeheader()\n",
    "\n",
    "            # TODO: iterate through book IDs - add a time.sleep(1) between each iteration\n",
    "            for i in range(10000):\n",
    "                current_metadata = get_book_metadata(api_key, book_index)\n",
    "                dict_writer.writerow(current_metadata)\n",
    "                book_index += 1\n",
    "\n",
    "            file_index += 1\n",
    "        print(\"Finished file \" + str(file_index-1))\n",
    "\n",
    "download_book_metadata(api_key)"
   ]
  },
  {
   "cell_type": "markdown",
   "metadata": {},
   "source": [
    "Next, we retrieved information about individual reviews of books, including the score, text of the review, and date the review was written."
   ]
  },
  {
   "cell_type": "code",
   "execution_count": 4,
   "metadata": {},
   "outputs": [],
   "source": [
    "# Get all the reviews for a given book ID as a list of dictionaries\n",
    "# Review data we are collecting - rating, date, and review text\n",
    "def get_reviews(api_key, book_id):\n",
    "    request_params = {'id':book_id, 'key':api_key, 'format':'xml', 'text_only':'true'}\n",
    "    response = requests.get('https://www.goodreads.com/book/show', params=request_params)\n",
    "    \n",
    "    try:\n",
    "        soup = BeautifulSoup(response.text, 'lxml')\n",
    "        iframe = soup.find('reviews_widget').find('iframe')\n",
    "\n",
    "        all_reviews = []\n",
    "\n",
    "        reviews_url = iframe['src']\n",
    "        response_reviews = requests.get(reviews_url)\n",
    "    except:\n",
    "        all_reviews = [{'book_id':'', 'rating':'', 'date':'', 'text':''}]\n",
    "        return all_reviews\n",
    "    \n",
    "    while(1):\n",
    "        review_soup = BeautifulSoup(response_reviews.text, 'lxml')\n",
    "        reviews = review_soup.find_all('div', {'class':'gr_review_container'})\n",
    "        \n",
    "        for review in reviews:\n",
    "            current_review = {}\n",
    "\n",
    "            # Extract the rating\n",
    "            rating = review.find('span', {'class':'gr_rating'})\n",
    "            if (rating):\n",
    "                rating = rating.find_all(text=True)\n",
    "                rating_num = 0\n",
    "                for i in range(len(rating[0])):\n",
    "                    if (ord(rating[0][i]) == 9733):\n",
    "                        rating_num += 1\n",
    "            else:\n",
    "                rating_num = -1\n",
    "\n",
    "            # Extract the date\n",
    "            try:\n",
    "                date = review.find('span', {'class':'gr_review_date'}).find_all(text=True)\n",
    "                date = [x.strip() for x in date][0]\n",
    "            except:\n",
    "                date = ''\n",
    "\n",
    "            # Extract the review text\n",
    "            try:\n",
    "                s = [x.strip() for x in review.find('div', {'class':'gr_review_text'}).find_all(text=True)]\n",
    "                s = [x for x in s if x]\n",
    "\n",
    "                # Ignore the last element, the '...more'\n",
    "                review_text = ' '.join(s[:-1])\n",
    "\n",
    "                # Remove the last word, since it will be partial\n",
    "                review_text = ' '.join(review_text.split(' ')[:-1])\n",
    "            except:\n",
    "                review_text = ''\n",
    "\n",
    "            current_review['book_id'] = book_id\n",
    "            current_review['rating'] = rating_num\n",
    "            current_review['date'] = date\n",
    "            current_review['text'] = review_text\n",
    "\n",
    "            all_reviews.append(current_review)\n",
    "\n",
    "            #print(current_review)\n",
    "        \n",
    "        # See if there is another page of reviews\n",
    "        if (review_soup.find_all('a', {'class':'next_page'}) != []):\n",
    "            # There is another page\n",
    "            reviews_url = 'https://goodreads.com' + review_soup.find('a', {'class':'next_page'})['href']\n",
    "            response_reviews = requests.get(reviews_url)\n",
    "        else:\n",
    "            # No more pages of reviews\n",
    "            break\n",
    "        \n",
    "    return all_reviews"
   ]
  },
  {
   "cell_type": "markdown",
   "metadata": {},
   "source": [
    "We downloaded 5 csv files of 10k reviews each, totaling in 60k books."
   ]
  },
  {
   "cell_type": "code",
   "execution_count": null,
   "metadata": {},
   "outputs": [],
   "source": [
    "# Save all reviews as a CSV\n",
    "def download_reviews(api_key):\n",
    "    data_columns = ['book_id', 'rating', 'date', 'text']\n",
    "    \n",
    "    file_index = 1\n",
    "    book_index = 1\n",
    "    \n",
    "    for i in range(5):\n",
    "        with open('data/reviews' + str(file_index) + '.csv', 'w', encoding='utf-8') as output_file:\n",
    "            dict_writer = csv.DictWriter(output_file, data_columns, lineterminator='\\n')\n",
    "            dict_writer.writeheader()\n",
    "\n",
    "            for j in range(10000):\n",
    "                current_reviews = get_reviews(api_key, book_index)\n",
    "                dict_writer.writerows(current_reviews)\n",
    "                book_index += 1\n",
    "                time.sleep(0.5)\n",
    "            \n",
    "            file_index += 1\n",
    "        print(\"Finished file \" + str(file_index-1))\n",
    "\n",
    "book_reviews = get_reviews(api_key, 68428)"
   ]
  },
  {
   "cell_type": "markdown",
   "metadata": {},
   "source": [
    "## Processing Descriptions Into Meaningful Words"
   ]
  },
  {
   "cell_type": "code",
   "execution_count": 5,
   "metadata": {},
   "outputs": [],
   "source": [
    "def csv_to_df(path):\n",
    "    df = pd.read_csv(path)\n",
    "    df = df[pd.notnull(df['description'])]\n",
    "    return df"
   ]
  },
  {
   "cell_type": "code",
   "execution_count": 6,
   "metadata": {},
   "outputs": [],
   "source": [
    "lemmatizer=nltk.stem.wordnet.WordNetLemmatizer()\n",
    "stopwords=nltk.corpus.stopwords.words('english')\n",
    "words_to_ignore = ['\"', \"'\", 'book', 'author', 'de', 'la', 'wa', '’', '”', 'der', 'à']"
   ]
  },
  {
   "cell_type": "markdown",
   "metadata": {},
   "source": [
    "We take out some common words like \"book\" and \"author\", since those words are not relevant to our analysis, as they occur frequently in almost all book descriptions. In addition, we found some garbage words that did not seem to be proper English, and those were manually excluded as well."
   ]
  },
  {
   "cell_type": "code",
   "execution_count": 7,
   "metadata": {},
   "outputs": [],
   "source": [
    "def process(text, lemmatizer=nltk.stem.wordnet.WordNetLemmatizer()):\n",
    "    text = text.lower()\n",
    "    text = text.replace(\"'s\", \"\")\n",
    "    text = text.replace(\"'\", \"\")\n",
    "    for char in text: \n",
    "        if (char in string.punctuation): text = text.replace(char, \" \")\n",
    "    words = nltk.word_tokenize(text)\n",
    "    words = [lemmatizer.lemmatize(word, 'v') for word in words]\n",
    "    filtered_words = [word for word in words if word not in stopwords \\\n",
    "                      and word not in words_to_ignore]\n",
    "    return filtered_words\n",
    "\n",
    "def process_all(df, lemmatizer=nltk.stem.wordnet.WordNetLemmatizer()):\n",
    "    for i, row in df.iterrows():\n",
    "        original = row['description']\n",
    "        df.at[i, 'description'] = process(original)\n",
    "    return df"
   ]
  },
  {
   "cell_type": "markdown",
   "metadata": {},
   "source": [
    "We will load 23 files of metadata and process them."
   ]
  },
  {
   "cell_type": "code",
   "execution_count": 8,
   "metadata": {},
   "outputs": [],
   "source": [
    "df_full = []\n",
    "for x in range(1,24):\n",
    "    df = csv_to_df('data/metadata%d.csv'%(x))\n",
    "    processed = process_all(df)\n",
    "    df_full.append(processed)"
   ]
  },
  {
   "cell_type": "markdown",
   "metadata": {},
   "source": [
    "## Most Common Words\n",
    "We extracted common words from the entire dataset to see what kinds of words are overall used in descriptions of novels. Some of the most common words we found are displayed below."
   ]
  },
  {
   "cell_type": "code",
   "execution_count": 9,
   "metadata": {},
   "outputs": [],
   "source": [
    "def popular_words(processed):\n",
    "    fin = []\n",
    "    for i, row in processed.iterrows():\n",
    "        fin.extend(row['description'])\n",
    "    count = Counter(fin)\n",
    "    return count\n",
    "\n",
    "# Function to print counts dictionaries in a more human-readable way\n",
    "def print_as_table(counts_dict):\n",
    "    print(\"{:<15} {:<15}\".format(\"Word\", \"Count\"))\n",
    "    for k, v in counts_dict:\n",
    "        print(\"{:<15} {:<15}\".format(k,v))"
   ]
  },
  {
   "cell_type": "code",
   "execution_count": 10,
   "metadata": {},
   "outputs": [],
   "source": [
    "counter_all = Counter()\n",
    "for i in range(0,23):\n",
    "    processed = df_full[i]\n",
    "    rare = popular_words(processed)\n",
    "    counter_all += rare"
   ]
  },
  {
   "cell_type": "code",
   "execution_count": 11,
   "metadata": {},
   "outputs": [
    {
     "name": "stdout",
     "output_type": "stream",
     "text": [
      "Word            Count          \n",
      "new             28374          \n",
      "one             26810          \n",
      "life            25351          \n",
      "world           21541          \n",
      "work            21396          \n",
      "time            20101          \n",
      "make            17499          \n",
      "first           16459          \n",
      "write           15994          \n",
      "include         15836          \n",
      "find            14821          \n",
      "love            14225          \n",
      "story           13549          \n",
      "live            13330          \n",
      "history         12020          \n",
      "take            11893          \n",
      "also            11822          \n",
      "know            11472          \n",
      "man             10722          \n",
      "years           10634          \n"
     ]
    }
   ],
   "source": [
    "print_as_table(counter_all.most_common(20))"
   ]
  },
  {
   "cell_type": "markdown",
   "metadata": {},
   "source": [
    "### Common Words by Popularity\n",
    "We used the number of ratings that a book received as a measure of its popularity. By visualizing the distribution of the rating count, we decided on bins for popularity to be more densely located at lower rating counts, as there were significantly more books on the low end of the spectrum. The bins we decided on were 0 to 100k, 100k to 200k,  200k to 300k,  300k to 400k, 400k to 500k,  500k to 600k, 600k to 700k, 700k to 800k, 800k to 900k, 900k to 1000k, 1000k to 3000k and above 3000k. "
   ]
  },
  {
   "cell_type": "code",
   "execution_count": 12,
   "metadata": {},
   "outputs": [],
   "source": [
    "import matplotlib.pyplot as plt \n",
    "%matplotlib inline"
   ]
  },
  {
   "cell_type": "code",
   "execution_count": 13,
   "metadata": {},
   "outputs": [
    {
     "data": {
      "image/png": "[encoded data removed]",
      "text/plain": [
       "<matplotlib.figure.Figure at 0x285e4f50>"
      ]
     },
     "metadata": {},
     "output_type": "display_data"
    }
   ],
   "source": [
    "for x in range(1,24):\n",
    "    df = csv_to_df('data/metadata%d.csv'%(x))\n",
    "    plt.hist(df['rating_count'])"
   ]
  },
  {
   "cell_type": "code",
   "execution_count": 14,
   "metadata": {},
   "outputs": [],
   "source": [
    "def popular_words_rc(processed):\n",
    "    R0_50k, R50k_100k, R100k_200k,  R200k_300k,  R300k_400k, R400k_500k,  R500k_600k, R600k_700k, \\\n",
    "    R700k_800k, R800k_900k, R900k_1000k, R1000k_3000k, R3000kabove \\\n",
    "                = [], [], [], [], [], [], [], [], [], [], [], [], []\n",
    "    for i, row in processed.iterrows():\n",
    "        if (0 <= row['rating_count'] < 50000): R0_50k.extend(row['description'])\n",
    "        elif (50000 <= row['rating_count'] < 100000): R50k_100k.extend(row['description'])\n",
    "        elif (100000 <= row['rating_count'] < 200000): R100k_200k.extend(row['description'])\n",
    "        elif (200000 <= row['rating_count'] < 300000): R200k_300k.extend(row['description'])\n",
    "        elif (300000 <= row['rating_count'] < 400000): R300k_400k.extend(row['description'])\n",
    "        elif (400000 <= row['rating_count'] < 500000): R400k_500k.extend(row['description'])\n",
    "        elif (500000 <= row['rating_count'] < 600000): R500k_600k.extend(row['description'])\n",
    "        elif (600000 <= row['rating_count'] < 700000): R600k_700k.extend(row['description'])\n",
    "        elif (700000 <= row['rating_count'] < 800000): R700k_800k.extend(row['description'])\n",
    "        elif (800000 <= row['rating_count'] < 900000): R800k_900k.extend(row['description'])\n",
    "        elif (900000 <= row['rating_count'] < 1000000): R900k_1000k.extend(row['description'])\n",
    "        elif (1000000 <= row['rating_count'] < 3000000): R1000k_3000k.extend(row['description'])\n",
    "        elif (3000000 <= row['rating_count']): R3000kabove.extend(row['description'])\n",
    "            \n",
    "    return Counter(R0_50k), Counter(R50k_100k), Counter(R100k_200k), Counter(R200k_300k), Counter(R300k_400k), \\\n",
    "            Counter(R400k_500k), Counter(R500k_600k), Counter(R600k_700k), Counter(R700k_800k), \\\n",
    "            Counter(R800k_900k), Counter(R900k_1000k), Counter(R1000k_3000k), Counter(R3000kabove)"
   ]
  },
  {
   "cell_type": "code",
   "execution_count": 15,
   "metadata": {},
   "outputs": [],
   "source": [
    "R0_50k, R50k_100k, R100k_200k,  R200k_300k,  R300k_400k, R400k_500k,  R500k_600k, R600k_700k, \\\n",
    "    R700k_800k, R800k_900k, R900k_1000k, R1000k_3000k, R3000kabove \\\n",
    "        = Counter(), Counter(), Counter(), Counter(), Counter(), Counter(), Counter(), Counter(), Counter(),\\\n",
    "            Counter(), Counter(), Counter(), Counter()\n",
    "for x in range(0,23):\n",
    "    processed = df_full[x]\n",
    "    a, b, c, d, e, f, g, h, i, j, k, l, m = popular_words_rc(processed)\n",
    "    R0_50k += a\n",
    "    R50k_100k += b\n",
    "    R100k_200k += c\n",
    "    R200k_300k += d\n",
    "    R300k_400k += e\n",
    "    R400k_500k += f\n",
    "    R500k_600k += g\n",
    "    R600k_700k += h\n",
    "    R700k_800k += i\n",
    "    R800k_900k += j\n",
    "    R900k_1000k += k\n",
    "    R1000k_3000k += l\n",
    "    R3000kabove += m"
   ]
  },
  {
   "cell_type": "markdown",
   "metadata": {},
   "source": [
    "You can see that books that were extremely popular included words like harry (Harry Potter), gatsby (The Great Gatsby), and kill (To Kill a Mockingbird). In addition, we can see some thematic trends across popularity categories. For example, fantasy-related words seem to have a fairly decent spread of categories, implying that fantasy novels are widely spread in terms of popularity. On the other hand, there are some words that are only found in certain bins and seem to specify certain books or authors, like \"dorian\" - The Picture of Dorian Gray - implying that these books and authors have a very consistent popularity ranking. \n",
    "\n",
    "We have displayed the  most popular words from only some of the categories below to avoid very lengthy outputs."
   ]
  },
  {
   "cell_type": "code",
   "execution_count": 16,
   "metadata": {},
   "outputs": [
    {
     "name": "stdout",
     "output_type": "stream",
     "text": [
      "0 to 50k\n",
      "Word            Count          \n",
      "new             26581          \n",
      "one             24184          \n",
      "life            23387          \n",
      "work            19953          \n",
      "world           19581          \n",
      "time            18438          \n",
      "make            16301          \n",
      "include         14965          \n",
      "write           14914          \n",
      "first           14912          \n",
      "-----------------\n",
      "500k to 600k\n",
      "Word            Count          \n",
      "story           137            \n",
      "novel           137            \n",
      "world           137            \n",
      "life            136            \n",
      "one             114            \n",
      "new             90             \n",
      "tolstoy         88             \n",
      "edition         85             \n",
      "work            73             \n",
      "live            72             \n",
      "-----------------\n",
      "700k to 800k\n",
      "Word            Count          \n",
      "dracula         102            \n",
      "dorian          85             \n",
      "world           75             \n",
      "one             69             \n",
      "age             63             \n",
      "work            63             \n",
      "love            61             \n",
      "new             58             \n",
      "become          57             \n",
      "time            56             \n",
      "-----------------\n",
      "1000k to 3000k\n",
      "Word            Count          \n",
      "one             301            \n",
      "jane            256            \n",
      "love            253            \n",
      "world           212            \n",
      "story           175            \n",
      "life            151            \n",
      "young           141            \n",
      "find            136            \n",
      "time            135            \n",
      "harry           133            \n",
      "-----------------\n",
      "3000k and above\n",
      "Word            Count          \n",
      "harry           82             \n",
      "first           38             \n",
      "gatsby          38             \n",
      "kill            33             \n",
      "magical         29             \n",
      "evil            25             \n",
      "world           24             \n",
      "best            24             \n",
      "ever            23             \n",
      "within          22             \n"
     ]
    }
   ],
   "source": [
    "print(\"0 to 50k\")\n",
    "print_as_table(R0_50k.most_common(10))\n",
    "print(\"-----------------\")\n",
    "print(\"500k to 600k\")\n",
    "print_as_table(R500k_600k.most_common(10))\n",
    "print(\"-----------------\")\n",
    "print(\"700k to 800k\")\n",
    "print_as_table(R700k_800k.most_common(10))\n",
    "print(\"-----------------\")\n",
    "print(\"1000k to 3000k\")\n",
    "print_as_table(R1000k_3000k.most_common(10))\n",
    "print(\"-----------------\")\n",
    "print(\"3000k and above\")\n",
    "print_as_table(R3000kabove.most_common(10))"
   ]
  },
  {
   "cell_type": "markdown",
   "metadata": {},
   "source": [
    "### Common Words by Rating"
   ]
  },
  {
   "cell_type": "markdown",
   "metadata": {},
   "source": [
    "We decided to use the average rating of a book as a metric of its quality. By visualizing the distribution of the rating count, we decide on the bins for quality to be: 0 to 1, 1 to 2, 2 to 2.5, 2.5 to 3, 3 to 3.3, 3.3 to 3.6, 3.6 to 3.9, 3.9 to 4.2, 4.2 to 4.5 and 4.5 to 5.0"
   ]
  },
  {
   "cell_type": "code",
   "execution_count": 17,
   "metadata": {},
   "outputs": [
    {
     "data": {
      "image/png": "[encoded data removed]",
      "text/plain": [
       "<matplotlib.figure.Figure at 0x288aa530>"
      ]
     },
     "metadata": {},
     "output_type": "display_data"
    }
   ],
   "source": [
    "for x in range(1,24):\n",
    "    df = csv_to_df('data/metadata%d.csv'%(x))\n",
    "    plt.hist(df['average_rating'], alpha=0.5)"
   ]
  },
  {
   "cell_type": "code",
   "execution_count": 18,
   "metadata": {},
   "outputs": [],
   "source": [
    "def popular_words_rating(processed):\n",
    "    zero, one, two, two2, three1, three2, three3, four1, four2 = \\\n",
    "    [], [], [], [], [], [], [], [], []\n",
    "    for i, row in processed.iterrows():\n",
    "        if (0 <= round(row['average_rating'], 1) < 1.0): zero.extend(row['description'])\n",
    "        elif (1 <= round(row['average_rating'], 1) < 2.0): one.extend(row['description'])\n",
    "        elif (2.0 <= round(row['average_rating'], 1) < 2.5): two.extend(row['description'])\n",
    "        elif (2.5 <= round(row['average_rating'], 1) < 3.0): two2.extend(row['description'])\n",
    "        elif (3.0 <= round(row['average_rating'], 1) < 3.3): three1.extend(row['description'])\n",
    "        elif (3.3 <= round(row['average_rating'], 1) < 3.6): three2.extend(row['description'])\n",
    "        elif (3.6 <= round(row['average_rating'], 1) < 3.9): three3.extend(row['description'])\n",
    "        elif (4.2 <= round(row['average_rating'], 1) < 4.5): four1.extend(row['description'])\n",
    "        elif (4.5 <= round(row['average_rating'], 1) < 5.0): four2.extend(row['description'])\n",
    "    return Counter(zero), Counter(one), Counter(two), Counter(two2), Counter(three1), \\\n",
    "            Counter(three2), Counter(three3), Counter(four1), Counter(four2)"
   ]
  },
  {
   "cell_type": "code",
   "execution_count": 19,
   "metadata": {},
   "outputs": [],
   "source": [
    "zero, one, two, two2, three1, three2, three3, four1, four2 = \\\n",
    "    Counter(), Counter(), Counter(), Counter(), Counter(), Counter(), Counter(), Counter(), Counter()\n",
    "for x in range(0,23):\n",
    "    processed = df_full[x]\n",
    "    a, b, c, d, e, f, g, h, i= popular_words_rating(processed)\n",
    "    zero += a\n",
    "    one += b\n",
    "    two += c\n",
    "    two2 += d\n",
    "    three1 += e\n",
    "    three2 += f\n",
    "    three3 += g\n",
    "    four1 += h\n",
    "    four2 += i"
   ]
  },
  {
   "cell_type": "markdown",
   "metadata": {},
   "source": [
    "Similar to popularity, we can see trends with phrases and genres throughout the rating categories. In particular, once again, fantasy terms seem relatively spread out across various rating categories. In addition, we can see some types of books like study guides and self-help books show up in the lower rating categories (with words like \"study\" and \"write\"), implying people generally don't like these kinds of books. We have displayed the common words for each rating category."
   ]
  },
  {
   "cell_type": "code",
   "execution_count": 20,
   "metadata": {},
   "outputs": [
    {
     "name": "stdout",
     "output_type": "stream",
     "text": [
      "rating 0.0 to 1.0 :   [('work', 894), ('include', 705), ('new', 679), ('study', 586), ('use', 525), ('provide', 500), ('also', 476), ('write', 467), ('make', 425), ('one', 424), ('first', 412), ('life', 403), ('world', 387), ('present', 378), ('volume', 371), ('well', 346), ('time', 345), ('state', 317), ('history', 316), ('find', 308)]\n",
      "\n",
      "rating 1.0 to 2.0 :   [('use', 45), ('include', 31), ('work', 29), ('new', 24), ('write', 22), ('students', 22), ('find', 20), ('also', 20), ('provide', 20), ('make', 20)]\n",
      "\n",
      "rating 2.0 to 2.5 :   [('new', 101), ('work', 94), ('include', 76), ('one', 69), ('write', 68), ('study', 65), ('life', 61), ('use', 56), ('make', 55), ('read', 54)]\n",
      "\n",
      "rating 2.5 to 3.0 :   [('new', 247), ('life', 234), ('one', 217), ('make', 195), ('work', 191), ('include', 172), ('world', 170), ('time', 165), ('use', 132), ('live', 128), ('write', 127), ('love', 125), ('first', 124), ('find', 119), ('also', 115), ('take', 114), ('get', 111), ('help', 108), ('women', 108), ('history', 107)]\n",
      "\n",
      "rating 3.0 to 3.3:   [('new', 975), ('work', 817), ('life', 810), ('one', 746), ('world', 679), ('write', 631), ('time', 609), ('make', 603), ('include', 602), ('use', 545), ('first', 467), ('find', 466), ('also', 441), ('know', 435), ('american', 434), ('history', 434), ('live', 429), ('take', 418), ('study', 411), ('love', 409)]\n",
      "\n",
      "rating 3.3 to 3.6 :   [('new', 2755), ('one', 2499), ('life', 2410), ('world', 2029), ('time', 1976), ('make', 1928), ('work', 1841), ('write', 1578), ('find', 1549), ('first', 1510), ('love', 1446), ('include', 1432), ('story', 1380), ('live', 1318), ('take', 1306), ('know', 1185), ('history', 1171), ('also', 1139), ('man', 1085), ('american', 1051)]\n",
      "\n",
      "rating 3.6 to 3.9:   [('new', 7412), ('one', 6799), ('life', 6583), ('world', 5626), ('time', 5124), ('work', 5040), ('make', 4587), ('find', 4066), ('first', 4047), ('love', 3886), ('write', 3694), ('story', 3626), ('live', 3617), ('include', 3383), ('take', 3308), ('history', 3118), ('know', 3049), ('man', 2873), ('also', 2798), ('years', 2771)]\n",
      "\n",
      "rating 4.2 to 4.5 :   [('new', 4846), ('one', 4783), ('life', 4510), ('world', 3875), ('work', 3724), ('time', 3716), ('write', 3086), ('include', 3010), ('first', 2954), ('make', 2838), ('love', 2568), ('live', 2388), ('find', 2291), ('story', 2186), ('also', 2009), ('know', 1930), ('years', 1905), ('history', 1882), ('war', 1853), ('take', 1844)]\n",
      "\n",
      "rating 4.5 to 5.0 :   [('work', 1051), ('one', 925), ('new', 910), ('include', 857), ('life', 737), ('first', 657), ('time', 629), ('world', 605), ('write', 546), ('make', 514), ('also', 513), ('volume', 453), ('history', 427), ('well', 413), ('two', 406), ('use', 401), ('art', 400), ('many', 399), ('•', 388), ('find', 387)]\n",
      "\n"
     ]
    }
   ],
   "source": [
    "print(\"rating 0.0 to 1.0 :   \" + str(zero.most_common(20)) + \"\\n\")\n",
    "print(\"rating 1.0 to 2.0 :   \" + str(one.most_common(10)) + \"\\n\")\n",
    "print(\"rating 2.0 to 2.5 :   \" + str(two.most_common(10)) +\"\\n\")\n",
    "print(\"rating 2.5 to 3.0 :   \" + str(two2.most_common(20)) + \"\\n\")\n",
    "print(\"rating 3.0 to 3.3:   \" + str(three1.most_common(20)) + \"\\n\")\n",
    "print(\"rating 3.3 to 3.6 :   \" + str(three2.most_common(20)) + \"\\n\")\n",
    "print(\"rating 3.6 to 3.9:   \" + str(three3.most_common(20)) + \"\\n\")\n",
    "print(\"rating 4.2 to 4.5 :   \" + str(four1.most_common(20)) + \"\\n\")\n",
    "print(\"rating 4.5 to 5.0 :   \" + str(four2.most_common(20)) + \"\\n\")"
   ]
  },
  {
   "cell_type": "markdown",
   "metadata": {},
   "source": [
    "### Common Words Over Time"
   ]
  },
  {
   "cell_type": "markdown",
   "metadata": {},
   "source": [
    "We will load deta frames again and this time, get rid of all books with no publication data and ignore month and date of publication"
   ]
  },
  {
   "cell_type": "code",
   "execution_count": 21,
   "metadata": {},
   "outputs": [],
   "source": [
    "df_time = []\n",
    "for x in range(1,24):\n",
    "    df = csv_to_df('data/metadata%d.csv'%(x))\n",
    "    df = df[df.publication_date != '//']\n",
    "    df[\"publication_date\"] = df[\"publication_date\"].apply(lambda x: x[-4:])\n",
    "    processed = process_all(df)\n",
    "    df_time.append(processed)"
   ]
  },
  {
   "cell_type": "code",
   "execution_count": 22,
   "metadata": {},
   "outputs": [],
   "source": [
    "def popular_words_time(processed):\n",
    "    t1900, t1950, t1960, t1970, t1980, t1990, t1995, t2000, t2002, t2005, t2007, t2010, t2012, t2015, t2020 = \\\n",
    "    [], [], [], [], [], [], [], [], [], [], [], [], [], [], []\n",
    "    \n",
    "    for i, row in processed.iterrows():\n",
    "        if (0 < int(row['publication_date']) <= 1900): t1900.extend(row['description'])\n",
    "        elif (1900 < int(row['publication_date']) <= 1950): t1950.extend(row['description'])\n",
    "        elif (1950 < int(row['publication_date']) <= 1960): t1960.extend(row['description'])\n",
    "        elif (1960 < int(row['publication_date']) <= 1970): t1970.extend(row['description'])\n",
    "        elif (1970 < int(row['publication_date']) <= 1980): t1980.extend(row['description'])\n",
    "        elif (1980 < int(row['publication_date']) <= 1990): t1990.extend(row['description'])\n",
    "        elif (1990 < int(row['publication_date']) <= 1995): t1995.extend(row['description'])\n",
    "        elif (1995 < int(row['publication_date']) <= 2000): t2000.extend(row['description'])\n",
    "        elif (2000 < int(row['publication_date']) <= 2002): t2002.extend(row['description'])\n",
    "        elif (2002 < int(row['publication_date']) <= 2005): t2005.extend(row['description'])\n",
    "        elif (2005 < int(row['publication_date']) <= 2007): t2007.extend(row['description'])\n",
    "        elif (2007 < int(row['publication_date']) <= 2010): t2010.extend(row['description'])\n",
    "        elif (2010 < int(row['publication_date']) <= 2012): t2012.extend(row['description'])\n",
    "        elif (2012 < int(row['publication_date']) <= 2015): t2015.extend(row['description'])\n",
    "        elif (2015 < int(row['publication_date']) <= 2020): t2020.extend(row['description'])\n",
    "        \n",
    "    return Counter(t1900), Counter(t1950), Counter(t1960), Counter(t1970), Counter(t1980), \\\n",
    "        Counter(t1990), Counter(t1995), Counter(t2000), Counter(t2002), Counter(t2005), Counter(t2007), \\\n",
    "        Counter(t2010), Counter(t2012), Counter(t2015), Counter(t2020)"
   ]
  },
  {
   "cell_type": "code",
   "execution_count": 23,
   "metadata": {},
   "outputs": [],
   "source": [
    "t1900,t1950, t1960, t1970, t1980, t1990, t1995, t2000, t2002, t2005, t2007, t2010, t2012, t2015, t2020 \\\n",
    "        = Counter(), Counter(), Counter(), Counter(), Counter(), Counter(), Counter(), Counter(), \\\n",
    "            Counter(), Counter(), Counter(), Counter() , Counter(), Counter(), Counter()\n",
    "for x in range(0, 23):\n",
    "    processed = df_time[x]\n",
    "    b, c, d, e, f, g, h, i, j, k, l, m, n, o, p = popular_words_time(processed)\n",
    "    t1900 +=b \n",
    "    t1950 +=c\n",
    "    t1960 += d\n",
    "    t1970 += e\n",
    "    t1980 += f \n",
    "    t1990 += g\n",
    "    t1995 += h\n",
    "    t2000 += i \n",
    "    t2002 += j\n",
    "    t2005 += k \n",
    "    t2007 += l\n",
    "    t2010 += m\n",
    "    t2012 += n\n",
    "    t2015 += o\n",
    "    t2020 += p"
   ]
  },
  {
   "cell_type": "code",
   "execution_count": 24,
   "metadata": {},
   "outputs": [
    {
     "name": "stdout",
     "output_type": "stream",
     "text": [
      "1800-1900 :   [('می', 18), ('و', 18), ('به', 14), ('را', 13), ('که', 12), ('در', 10), ('او', 9), ('پوریا', 8), ('برای', 8), ('از', 8), ('home', 7), ('bible', 6), ('soseki', 6), ('با', 6), ('feng', 6), ('shui', 6), ('use', 5), ('well', 5), ('make', 5), ('work', 5), ('art', 5), ('نام', 5), ('ی', 5), ('سرزمین', 5), ('اما', 5), ('قصه', 5), ('form', 4), ('also', 4), ('time', 4), ('follow', 4)]\n",
      "\n",
      "1900-1950 :   [('work', 69), ('edition', 55), ('first', 53), ('life', 48), ('one', 47), ('story', 45), ('write', 38), ('new', 34), ('library', 30), ('make', 29), ('history', 28), ('part', 28), ('loeb', 27), ('volumes', 27), ('roman', 26), ('years', 26), ('publish', 25), ('great', 25), ('cover', 25), ('classical', 24), ('man', 24), ('novel', 23), ('also', 22), ('three', 20), ('ce', 20), ('world', 20), ('know', 20), ('war', 19), ('survive', 19), ('little', 19)]\n",
      "\n",
      "1950-1960 :   [('one', 74), ('work', 64), ('life', 58), ('write', 55), ('story', 54), ('world', 49), ('new', 48), ('·', 48), ('man', 43), ('love', 42), ('novel', 41), ('—', 41), ('first', 39), ('history', 36), ('play', 35), ('know', 34), ('make', 34), ('live', 34), ('become', 34), ('include', 33), ('find', 32), ('time', 32), ('edition', 32), ('english', 31), ('stories', 28), ('character', 27), ('introduction', 27), ('also', 26), ('well', 25), ('american', 25)]\n",
      "\n",
      "1960-1970 :   [('•', 276), ('work', 204), ('life', 195), ('one', 189), ('write', 187), ('first', 186), ('new', 162), ('time', 150), ('man', 137), ('story', 135), ('world', 130), ('novel', 121), ('make', 115), ('edition', 115), ('include', 104), ('also', 98), ('publish', 89), ('study', 84), ('english', 83), ('character', 82), ('modern', 82), ('introduction', 81), ('use', 80), ('american', 78), ('play', 78), ('live', 77), ('great', 77), ('history', 77), ('translation', 74), ('two', 72)]\n",
      "\n",
      "1970-1980 :   [('·', 698), ('•', 496), ('one', 484), ('work', 420), ('life', 352), ('new', 341), ('write', 337), ('world', 322), ('first', 315), ('story', 312), ('time', 311), ('man', 279), ('make', 271), ('love', 227), ('find', 220), ('include', 217), ('also', 217), ('publish', 200), ('ss', 193), ('history', 186), ('edition', 179), ('two', 176), ('novel', 173), ('years', 170), ('en', 165), ('come', 163), ('great', 161), ('become', 151), ('introduction', 149), ('stories', 147)]\n",
      "\n",
      "1980-1990 :   [('one', 1397), ('work', 1224), ('new', 1205), ('life', 1111), ('time', 1082), ('world', 1014), ('first', 950), ('make', 887), ('write', 885), ('find', 665), ('include', 653), ('story', 646), ('love', 628), ('history', 615), ('man', 614), ('also', 608), ('know', 566), ('american', 547), ('years', 543), ('live', 529), ('war', 523), ('edition', 509), ('·', 491), ('well', 474), ('take', 473), ('use', 462), ('become', 461), ('study', 445), ('publish', 444), ('•', 442)]\n",
      "\n",
      "1990-1995 :   [('one', 1692), ('new', 1678), ('work', 1603), ('life', 1505), ('world', 1383), ('time', 1321), ('write', 1134), ('•', 1123), ('first', 1121), ('make', 993), ('include', 923), ('love', 877), ('story', 859), ('history', 857), ('find', 793), ('live', 783), ('also', 759), ('american', 736), ('man', 709), ('war', 695), ('two', 687), ('know', 674), ('take', 670), ('years', 664), ('well', 652), ('become', 603), ('provide', 594), ('come', 587), ('people', 583), ('read', 582)]\n",
      "\n",
      "1995-2000 :   [('new', 4376), ('one', 4138), ('life', 4053), ('work', 3591), ('world', 3269), ('time', 3074), ('write', 2781), ('make', 2700), ('first', 2545), ('include', 2507), ('love', 2308), ('find', 2199), ('live', 2163), ('story', 2149), ('history', 2026), ('also', 2021), ('american', 1876), ('take', 1797), ('well', 1743), ('know', 1737), ('years', 1734), ('man', 1634), ('use', 1587), ('war', 1547), ('two', 1529), ('come', 1521), ('read', 1490), ('many', 1459), ('people', 1450), ('become', 1445)]\n",
      "\n",
      "2000-2002 :   [('new', 3559), ('one', 3117), ('life', 2994), ('work', 2662), ('world', 2454), ('time', 2290), ('write', 2269), ('include', 2075), ('make', 1949), ('first', 1927), ('find', 1787), ('love', 1617), ('live', 1540), ('also', 1509), ('story', 1498), ('history', 1481), ('take', 1389), ('american', 1343), ('know', 1298), ('well', 1264), ('use', 1253), ('war', 1249), ('years', 1217), ('man', 1174), ('come', 1146), ('people', 1141), ('read', 1140), ('two', 1100), ('become', 1100), ('many', 1073)]\n",
      "\n",
      "2002 - 2005 :   [('new', 7784), ('one', 6789), ('life', 6671), ('world', 5759), ('work', 5482), ('time', 5303), ('make', 4774), ('include', 4764), ('first', 4217), ('write', 4043), ('find', 3902), ('love', 3585), ('live', 3545), ('story', 3403), ('take', 3246), ('history', 3213), ('also', 3123), ('know', 3115), ('use', 2779), ('years', 2777), ('well', 2683), ('american', 2682), ('war', 2655), ('two', 2584), ('come', 2584), ('man', 2549), ('people', 2516), ('help', 2442), ('provide', 2409), ('become', 2385)]\n",
      "\n",
      "2005 - 2007 :   [('new', 6128), ('one', 5395), ('life', 5223), ('world', 4578), ('time', 4023), ('work', 3980), ('make', 3802), ('find', 3344), ('first', 3109), ('include', 3084), ('live', 2867), ('take', 2749), ('love', 2748), ('write', 2672), ('know', 2476), ('history', 2408), ('story', 2407), ('use', 2250), ('also', 2240), ('years', 2087), ('come', 2083), ('become', 2051), ('war', 2028), ('two', 2021), ('american', 2020), ('get', 2015), ('people', 1999), ('well', 1991), ('man', 1989), ('help', 1954)]\n",
      "\n",
      "2005 - 2010 :   [('new', 302), ('one', 288), ('life', 260), ('time', 222), ('work', 193), ('world', 185), ('make', 175), ('first', 169), ('include', 161), ('find', 153), ('love', 145), ('live', 137), ('edition', 125), ('take', 124), ('write', 124), ('know', 123), ('story', 117), ('en', 115), ('“', 108), ('also', 105), ('que', 104), ('years', 103), ('well', 98), ('two', 97), ('family', 96), ('come', 95), ('way', 94), ('become', 92), ('get', 90), ('el', 89)]\n",
      "\n",
      "2010 - 2012 :   [('one', 117), ('life', 111), ('new', 101), ('work', 99), ('time', 83), ('love', 81), ('first', 74), ('world', 73), ('make', 71), ('include', 67), ('write', 63), ('play', 59), ('edition', 59), ('history', 56), ('find', 56), ('man', 52), ('story', 52), ('years', 51), ('know', 49), ('stories', 47), ('two', 47), ('many', 46), ('also', 45), ('well', 45), ('live', 44), ('—', 44), ('best', 43), ('family', 39), ('take', 38), ('art', 37)]\n",
      "\n",
      "2012 - 2015 :   [('•', 99), ('one', 75), ('new', 67), ('life', 67), ('vonnegut', 58), ('time', 55), ('story', 54), ('kurt', 53), ('que', 51), ('work', 44), ('world', 43), ('first', 38), ('love', 38), ('make', 38), ('live', 37), ('also', 36), ('en', 36), ('e', 34), ('write', 33), ('find', 31), ('include', 29), ('jr', 29), ('short', 26), ('feature', 25), ('years', 25), ('el', 25), ('use', 25), ('man', 24), ('un', 24), ('american', 23)]\n",
      "\n",
      "2015 - 2020 :   [('new', 55), ('world', 53), ('one', 45), ('work', 42), ('time', 42), ('life', 42), ('love', 40), ('write', 28), ('first', 26), ('long', 25), ('el', 24), ('que', 23), ('make', 22), ('use', 22), ('story', 22), ('history', 22), ('en', 22), ('years', 20), ('begin', 20), ('“', 20), ('come', 19), ('young', 19), ('well', 19), ('set', 18), ('include', 18), ('volume', 18), ('help', 17), ('man', 17), ('also', 17), ('power', 17)]\n",
      "\n"
     ]
    }
   ],
   "source": [
    "# print(\"1800 and below :   \" + str(t1800.most_common(30)) + \"\\n\")\n",
    "print(\"1800-1900 :   \" + str(t1900.most_common(30)) + \"\\n\")\n",
    "print(\"1900-1950 :   \" + str(t1950.most_common(30)) + \"\\n\")\n",
    "print(\"1950-1960 :   \" + str(t1960.most_common(30)) + \"\\n\")\n",
    "print(\"1960-1970 :   \" + str(t1970.most_common(30)) + \"\\n\")\n",
    "print(\"1970-1980 :   \" + str(t1980.most_common(30)) + \"\\n\")\n",
    "print(\"1980-1990 :   \" + str(t1990.most_common(30)) + \"\\n\")\n",
    "print(\"1990-1995 :   \" + str(t1995.most_common(30)) + \"\\n\")\n",
    "print(\"1995-2000 :   \" + str(t2000.most_common(30)) + \"\\n\")\n",
    "print(\"2000-2002 :   \" + str(t2002.most_common(30)) + \"\\n\")\n",
    "print(\"2002 - 2005 :   \" + str(t2005.most_common(30)) + \"\\n\")\n",
    "print(\"2005 - 2007 :   \" + str(t2007.most_common(30)) + \"\\n\")\n",
    "print(\"2005 - 2010 :   \" + str(t2010.most_common(30)) + \"\\n\")\n",
    "print(\"2010 - 2012 :   \" + str(t2012.most_common(30)) + \"\\n\")\n",
    "print(\"2012 - 2015 :   \" + str(t2015.most_common(30)) + \"\\n\")\n",
    "print(\"2015 - 2020 :   \" + str(t2020.most_common(30)) + \"\\n\")"
   ]
  },
  {
   "cell_type": "markdown",
   "metadata": {},
   "source": [
    "We visualized the proportion of a few common words' use in book descriptions over time.\n",
    "\n",
    "It is interesting to see specific names like Kurt Vonnegut appear very frequently in 1960-1970. Also, one thing to notice is the popularity of the word 'war' starting in 1980 and becoming increasingly popular after that, potentially relating to the spike in war-related publications due to the Vietnam War."
   ]
  },
  {
   "cell_type": "code",
   "execution_count": 25,
   "metadata": {},
   "outputs": [],
   "source": [
    "time_periods = [t1900, t1950, t1960, t1970, t1980, t1990, t2000, t2002, t2005, t2007, t2010, t2012, t2015, t2020]\n",
    "labels = ['<1900', '<1950', '<1960', '<1970', '<1980', '<1990', '<2000', '<2002', '<2005', '<2007', '<2010', \\\n",
    "          '<2012', '<2015', '<2020']\n",
    "def visualize_word(labels, bins, word):\n",
    "    word_dict = {}\n",
    "    for i in range(len(bins)):\n",
    "        counter = bins[i]\n",
    "        label = labels[i]\n",
    "        word_dict[label] = counter[word] / (sum(counter.values())) * 100\n",
    "        \n",
    "    plt.bar(list(word_dict.keys()), word_dict.values(), color='g')\n",
    "    plt.xticks(rotation=90)\n",
    "    plt.title(word)\n",
    "    plt.show()"
   ]
  },
  {
   "cell_type": "code",
   "execution_count": 26,
   "metadata": {},
   "outputs": [
    {
     "data": {
      "image/png": "[encoded data removed]",
      "text/plain": [
       "<matplotlib.figure.Figure at 0x28a4c0f0>"
      ]
     },
     "metadata": {},
     "output_type": "display_data"
    },
    {
     "data": {
      "image/png": "[encoded data removed]",
      "text/plain": [
       "<matplotlib.figure.Figure at 0x28ad2cf0>"
      ]
     },
     "metadata": {},
     "output_type": "display_data"
    },
    {
     "data": {
      "image/png": "[encoded data removed]",
      "text/plain": [
       "<matplotlib.figure.Figure at 0x375c8f10>"
      ]
     },
     "metadata": {},
     "output_type": "display_data"
    },
    {
     "data": {
      "image/png": "[encoded data removed]",
      "text/plain": [
       "<matplotlib.figure.Figure at 0x3761adf0>"
      ]
     },
     "metadata": {},
     "output_type": "display_data"
    },
    {
     "data": {
      "image/png": "[encoded data removed]",
      "text/plain": [
       "<matplotlib.figure.Figure at 0x376a4f50>"
      ]
     },
     "metadata": {},
     "output_type": "display_data"
    }
   ],
   "source": [
    "visualize_word(labels, time_periods, 'vampire')\n",
    "visualize_word(labels, time_periods, 'bible')\n",
    "visualize_word(labels, time_periods, 'war')\n",
    "visualize_word(labels, time_periods, 'man')\n",
    "visualize_word(labels, time_periods, 'woman')"
   ]
  },
  {
   "cell_type": "markdown",
   "metadata": {},
   "source": [
    "Some interesting things to note are the timings of spikes and increases in these graphs. For example, \"woman\" had a spike in the 60s, around the time of the second feminist movement. \"vampire\" had a spike in the '90s due to the Dracula movie being published, resulting in a surge of related novels, and another spike around 2008 with the publication of the Twilight series. \"war\" had the most interesting results, as the use of the word \"war\" in publications very closely reflects global conflicts and current events trends. "
   ]
  },
  {
   "cell_type": "markdown",
   "metadata": {},
   "source": [
    "# Conclusions and Further Work\n",
    "Overall, we believe that the descriptions in novels have a lot to say about what readers are interested in at any given time, and can also serve as a window into the current events landscape of the time. \n",
    "\n",
    "This data can be used to inform authors of what \"works\" or doesn't work in terms of getting their books to be more popular. In addition, it can be used to analyze what readers overall are looking for in books, and what trending topics or genres seem to be at any given time. \n",
    "\n",
    "Some further work that we would perform on this dataset would be analyzing reviews over time, and seeing how books' popularity changes over time. It would be interesting to see if surges of popularity (more people reading and reviewing a given book) correlated with current events, in addition to the correlations we found with publications of those books. \n",
    "\n",
    "# References\n",
    "[Goodreads API](https://www.goodreads.com/api)"
   ]
  }
 ],
 "metadata": {
  "kernelspec": {
   "display_name": "Python 3",
   "language": "python",
   "name": "python3"
  },
  "language_info": {
   "codemirror_mode": {
    "name": "ipython",
    "version": 3
   },
   "file_extension": ".py",
   "mimetype": "text/x-python",
   "name": "python",
   "nbconvert_exporter": "python",
   "pygments_lexer": "ipython3",
   "version": "3.6.2"
  }
 },
 "nbformat": 4,
 "nbformat_minor": 2
}
