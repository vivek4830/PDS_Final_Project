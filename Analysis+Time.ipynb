{
 "cells": [
  {
   "cell_type": "code",
   "execution_count": 7,
   "metadata": {
    "collapsed": true
   },
   "outputs": [],
   "source": [
    "import csv\n",
    "import nltk\n",
    "import string\n",
    "import pandas as pd\n",
    "from collections import Counter\n",
    "import sklearn\n",
    "from itertools import dropwhile\n",
    "lemmatizer=nltk.stem.wordnet.WordNetLemmatizer()\n",
    "stopwords=nltk.corpus.stopwords.words('english')"
   ]
  },
  {
   "cell_type": "markdown",
   "metadata": {},
   "source": [
    "## Read CSV file "
   ]
  },
  {
   "cell_type": "code",
   "execution_count": 19,
   "metadata": {},
   "outputs": [
    {
     "name": "stdout",
     "output_type": "stream",
     "text": [
      "     publication_date                                        description\n",
      "8773             2018  Think Good -- Feel Good is an exciting and pio...\n",
      "5439             2018  Mr. Kapasi, the protagonist of Jhumpa Lahiri's...\n",
      "4059             2017  A New Look at Love, Karma and Relationships\\r\\...\n",
      "8493             2017  From the Back Cover:Embrace the bliss of your ...\n",
      "6518             2017  Using genetics, experimental abnormal and clin...\n",
      "10               2017  The Hitchhiker's Guide to the Galaxy who, for ...\n",
      "6980             2016  I stood at the window watching the cocoon, whi...\n",
      "6981             2016  \"Beautifully written . . . the message and cha...\n",
      "7420             2016  Woodward's National Architect, a publication d...\n",
      "2025             2016  Plato, Aristophanes, and the creators of the \"...\n",
      "8474             2015  The Living Bible. Combining his artistic talen...\n",
      "2902             2014  Da die kulturgeschichtliche Ausrichtung der Re...\n",
      "5917             2013                                                ]]>\n",
      "7553             2013  Jimmy Corrigan: The Smartest Kid on Earth (Pan...\n",
      "914              2013  Aided by an achingly desirable half Brazilian,...\n",
      "4984             2013  Welcome to the Monkey House (1968) incorporate...\n",
      "5327             2012  The holiday season brings the chance to give, ...\n",
      "7845             2012  With this famous first line begins a novel tha...\n",
      "7965             2012  Born into a time and place where a woman speak...\n",
      "4630             2012  A Moveable Feast captures what it meant to be ...\n",
      "29               2012  دخل أفراد رفقة الخاتم فى مغامرات منفصلة أثناء ...\n",
      "1273             2012  Once upon a time Martians and Venusians met, f...\n",
      "3353             2011  And strike it does. For in Harry's second year...\n",
      "8916             2011  This present collection contains the best of H...\n",
      "3533             2011  Rudin (1856), Fathers and Sons (1862), and Vir...\n",
      "8744             2011       Desert Flower is her extraordinary story.]]>\n",
      "6474             2011  George Washington's Sacred Fire apart from all...\n",
      "381              2011  Simple set.Here are Milo's adventures in the L...\n",
      "6333             2010  The Remains of the Day and When We Were Orphan...\n",
      "4022             2010  enfant terrible of American fiction in the 198...\n",
      "...               ...                                                ...\n",
      "9890             1959  Breakfast at Tiffany'sHouse of FlowersA Diamon...\n",
      "7774             1959  “Today you are you! That is truer than true!Th...\n",
      "9366             1959  This is the story of a man who said that he wo...\n",
      "1554             1958                                 (1939 translation)\n",
      "2646             1957  Selected BibliographyThe shipwreck Inns The wo...\n",
      "1331             1957  ParmenidesPhilebusSymposiumPhaedrusAlcibiades ...\n",
      "3875             1957  The Sun Also Rises is one of Ernest Hemingway'...\n",
      "9364             1957  This is the story of a man who said that he wo...\n",
      "247              1957  Big Sur is the portrait of a place one of the ...\n",
      "7753             1957  Waiting for Godot, two wandering tramps, Vladi...\n",
      "1713             1955  This cohesive collection of stories from Greek...\n",
      "1055             1955  The Success Secrets of the Ancients— An Assure...\n",
      "329              1955  Z, you are wrong. So wrong. Leave it to Conrad...\n",
      "1461             1955  1. Alcestis, translated by Richmond Lattimore2...\n",
      "1705             1955  Long recognized for the quality of its transla...\n",
      "7884             1953  Doch da fallen Tausende von Heuschrecken über ...\n",
      "1547             1953                                                ]]>\n",
      "2167             1952  The Old Man and the Sea is one of Hemingway’s ...\n",
      "5469             1950  Nineteen Eighty-Four is a rare work that grows...\n",
      "8900             1950  It was a city ruled by apes and served by men....\n",
      "7776             1947  In this colorful picture book, a boy named Mar...\n",
      "7906             1945  There's Cab Edwards, the jolly boy next door; ...\n",
      "235              1940  This edition, illustrated by the author, conta...\n",
      "5587             1932  A fascinating look at the history and grandeur...\n",
      "1724             1929  Ovid (Publius Ovidius Naso, 43 BCE-17 CE), bor...\n",
      "1458             1923  The war was really three conflicts with one un...\n",
      "1521             1922  Of his total of 80-90 plays seven survive comp...\n",
      "1443             1921  The war was really three conflicts with one un...\n",
      "1439             1919  The war was really three conflicts with one un...\n",
      "2020             1885  Aristophanes was a Greek comic playwright. A s...\n",
      "\n",
      "[3811 rows x 2 columns]\n"
     ]
    }
   ],
   "source": [
    "def csv_to_df(path):\n",
    "    df = pd.read_csv(path)\n",
    "    df = df[[df.columns[-1]]]\n",
    "    df = df.dropna(axis=0)\n",
    "    return df\n",
    "\n",
    "def sort_by_rating_count_csv(path):\n",
    "    df = pd.read_csv(path)\n",
    "    df = df[[df.columns[-4],df.columns[-1]]]\n",
    "    df = df.dropna(axis=0)\n",
    "    df = df.sort_values(\"rating_count\", ascending=False)\n",
    "    return df\n",
    "\n",
    "def sort_by_date_csv(path):\n",
    "    df = pd.read_csv(path)\n",
    "    df = df[[df.columns[-7],df.columns[-1]]]\n",
    "    df = df.dropna(axis = 0)\n",
    "    df = df[df.publication_date != '//']\n",
    "    df[\"publication_date\"] = df[\"publication_date\"].apply(lambda x: x[-4:])\n",
    "    df = df.sort_values(\"publication_date\", ascending=False)\n",
    "    # remove rows without date\n",
    "    return df\n",
    "\n",
    "print(sort_by_date_csv('metadata/metadata1.csv'))\n"
   ]
  },
  {
   "cell_type": "markdown",
   "metadata": {},
   "source": [
    "## Functions for processing df description -> list of lemmatized words"
   ]
  },
  {
   "cell_type": "code",
   "execution_count": 62,
   "metadata": {
    "collapsed": true
   },
   "outputs": [],
   "source": [
    "def process(text, lemmatizer=nltk.stem.wordnet.WordNetLemmatizer()):\n",
    "    text = text.lower()\n",
    "    text = text.replace(\"'s\", \"\")\n",
    "    text = text.replace(\"'\", \"\")\n",
    "    for char in text: \n",
    "        if (char in string.punctuation): text = text.replace(char, \" \")\n",
    "    words = nltk.word_tokenize(text)\n",
    "    words = [lemmatizer.lemmatize(word, \"v\") for word in words]\n",
    "    filtered_words = [word for word in words if word not in stopwords]\n",
    "    return filtered_words\n",
    "\n",
    "def process_all(df, lemmatizer=nltk.stem.wordnet.WordNetLemmatizer()):\n",
    "    for i, row in df.iterrows():\n",
    "        original = row['description']\n",
    "        df.at[i, 'description'] = process(original)\n",
    "    return df"
   ]
  },
  {
   "cell_type": "markdown",
   "metadata": {},
   "source": [
    "## Most poular words in general, and 20 most common words below"
   ]
  },
  {
   "cell_type": "code",
   "execution_count": 63,
   "metadata": {
    "collapsed": true
   },
   "outputs": [],
   "source": [
    "def get_rare_words(processed):\n",
    "    fin = []\n",
    "    for i, row in processed.iterrows():\n",
    "        fin.extend(row['description'])\n",
    "    count = Counter(fin)\n",
    "    return count\n",
    "\n",
    "counter_all = Counter()\n",
    "for i in range(1,11):\n",
    "    df = csv_to_df('metadata/metadata%d.csv'%(i))\n",
    "    processed = process_all(df)\n",
    "    rare = get_rare_words(processed)\n",
    "    counter_all += rare"
   ]
  },
  {
   "cell_type": "code",
   "execution_count": 11,
   "metadata": {},
   "outputs": [
    {
     "name": "stdout",
     "output_type": "stream",
     "text": [
      "[('life', 15917), ('book', 15651), ('ha', 15297), ('one', 14051), ('new', 13940), ('’', 13253), ('wa', 11994), ('de', 11750), ('world', 11615), ('story', 10775), ('time', 10179), ('work', 8836), ('first', 8165), ('year', 7972), ('la', 7450), ('love', 6339), ('woman', 6054), ('history', 5843), ('novel', 5821), ('man', 5682)]\n"
     ]
    }
   ],
   "source": [
    "print(counter_all.most_common(20))"
   ]
  },
  {
   "cell_type": "markdown",
   "metadata": {},
   "source": [
    "## Most popular words, grouped by rating"
   ]
  },
  {
   "cell_type": "code",
   "execution_count": 17,
   "metadata": {
    "collapsed": true
   },
   "outputs": [],
   "source": [
    "import matplotlib.pyplot as plt \n",
    "%matplotlib inline"
   ]
  },
  {
   "cell_type": "code",
   "execution_count": 55,
   "metadata": {
    "scrolled": false
   },
   "outputs": [
    {
     "data": {
      "image/png": "[encoded data removed]",
      "text/plain": [
       "<matplotlib.figure.Figure at 0x1a2f27eeb8>"
      ]
     },
     "metadata": {},
     "output_type": "display_data"
    }
   ],
   "source": [
    "for x in range(1,11):\n",
    "    df = sort_by_rating_count_csv('metadata/metadata%d.csv'%(x))\n",
    "    plt.hist(df['rating_count'])\n",
    "#     print(df['rating_count'].describe())"
   ]
  },
  {
   "cell_type": "code",
   "execution_count": 76,
   "metadata": {
    "collapsed": true
   },
   "outputs": [],
   "source": [
    "def get_rare_words_rating(processed):\n",
    "    R0_100k, R100k_200k,  R200k_300k,  R300k_400k, R400k_500k,  R500k_600k, R600k_700k, \\\n",
    "    R700k_800k, R800k_900k, R900k_1000k, R1000k_3000k, R3000kabove \\\n",
    "                = [], [], [], [], [], [], [], [], [], [], [], []\n",
    "    for i, row in processed.iterrows():\n",
    "        if (0 < row['rating_count'] < 100000): R0_100k.extend(row['description'])\n",
    "        elif (100000 < row['rating_count'] < 200000): R100k_200k.extend(row['description'])\n",
    "        elif (200000 < row['rating_count'] < 300000): R200k_300k.extend(row['description'])\n",
    "        elif (300000 < row['rating_count'] < 400000): R300k_400k.extend(row['description'])\n",
    "        elif (400000 < row['rating_count'] < 500000): R400k_500k.extend(row['description'])\n",
    "        elif (500000 < row['rating_count'] < 600000): R500k_600k.extend(row['description'])\n",
    "        elif (600000 < row['rating_count'] < 700000): R600k_700k.extend(row['description'])\n",
    "        elif (700000 < row['rating_count'] < 800000): R700k_800k.extend(row['description'])\n",
    "        elif (800000 < row['rating_count'] < 900000): R800k_900k.extend(row['description'])\n",
    "        elif (900000 < row['rating_count'] < 1000000): R900k_1000k.extend(row['description'])\n",
    "        elif (1000000 < row['rating_count'] < 3000000): R1000k_3000k.extend(row['description'])\n",
    "        elif (3000000 < row['rating_count']): R3000kabove.extend(row['description'])\n",
    "            \n",
    "    return Counter(R0_100k), Counter(R100k_200k), Counter(R200k_300k), Counter(R300k_400k), \\\n",
    "            Counter(R400k_500k), Counter(R500k_600k), Counter(R600k_700k), Counter(R700k_800k), \\\n",
    "            Counter(R800k_900k), Counter(R900k_1000k), Counter(R1000k_3000k), Counter(R3000kabove)"
   ]
  },
  {
   "cell_type": "code",
   "execution_count": 77,
   "metadata": {
    "collapsed": true,
    "scrolled": true
   },
   "outputs": [],
   "source": [
    "R0_100k, R100k_200k,  R200k_300k,  R300k_400k, R400k_500k,  R500k_600k, R600k_700k, \\\n",
    "    R700k_800k, R800k_900k, R900k_1000k, R1000k_3000k, R3000kabove \\\n",
    "        = Counter(), Counter(), Counter(), Counter(), Counter(), Counter(), Counter(), Counter(),\\\n",
    "            Counter(), Counter(), Counter(), Counter()\n",
    "for x in range(10):\n",
    "    df = sort_by_rating_count_csv('metadata/metadata%d.csv'%(x+1))\n",
    "    processed = process_all(df)\n",
    "    a, b, c, d, e, f, g, h, i, j, k, l = get_rare_words_rating(processed)\n",
    "    R0_100k += a\n",
    "    R100k_200k += b\n",
    "    R200k_300k += c\n",
    "    R300k_400k += d\n",
    "    R400k_500k += e\n",
    "    R500k_600k += f\n",
    "    R600k_700k += g\n",
    "    R700k_800k += h\n",
    "    R800k_900k += i\n",
    "    R900k_1000k += j\n",
    "    R1000k_3000k += k\n",
    "    R3000kabove += l"
   ]
  },
  {
   "cell_type": "code",
   "execution_count": 78,
   "metadata": {},
   "outputs": [
    {
     "name": "stdout",
     "output_type": "stream",
     "text": [
      "[('life', 14621), ('book', 14224), ('ha', 13747), ('new', 12870), ('one', 12587), ('’', 12178), ('wa', 10830), ('world', 10467), ('de', 9761), ('story', 9694)]\n",
      "[('de', 697), ('ha', 638), ('one', 469), ('life', 445), ('la', 415), ('new', 390), ('world', 388), ('’', 388), ('wa', 380), ('book', 357)]\n",
      "[('de', 273), ('one', 216), ('ha', 193), ('la', 175), ('’', 153), ('story', 152), ('world', 147), ('life', 144), ('new', 130), ('book', 120)]\n",
      "[('book', 162), ('de', 140), ('la', 100), ('life', 91), ('’', 84), ('world', 80), ('wa', 79), ('one', 74), ('story', 74), ('ha', 69)]\n",
      "[('ring', 168), ('one', 127), ('de', 115), ('ha', 107), ('edition', 90), ('lord', 88), ('book', 80), ('story', 73), ('frank', 69), ('que', 68)]\n",
      "[('life', 105), ('story', 97), ('world', 84), ('novel', 83), ('one', 72), ('ha', 63), ('edition', 60), ('’', 58), ('book', 54), ('new', 49)]\n",
      "[('de', 65), ('one', 62), ('la', 50), ('life', 34), ('classic', 33), ('year', 33), ('wild', 31), ('novel', 30), ('ha', 29), ('book', 28)]\n",
      "[('wa', 89), ('dorian', 85), ('’', 77), ('dracula', 76), ('book', 75), ('de', 70), ('world', 61), ('year', 57), ('la', 57), ('ha', 55)]\n",
      "[('’', 19), ('elinor', 18), ('edition', 15), ('love', 14), ('sense', 14), ('sensibility', 14), ('tale', 13), ('marianne', 13), ('de', 13), ('sister', 12)]\n",
      "[('de', 133), ('frankenstein', 90), ('life', 63), ('story', 54), ('le', 46), ('science', 33), ('ha', 32), ('der', 32), ('à', 31), ('wa', 30)]\n",
      "[('de', 214), ('one', 193), ('wa', 167), ('ha', 154), ('world', 135), ('la', 134), ('book', 130), ('love', 129), ('story', 127), ('’', 110)]\n",
      "[('harry', 64), ('first', 33), ('gatsby', 25), ('magical', 24), ('evil', 22), ('best', 20), ('story', 20), ('ever', 19), ('world', 19), ('within', 18)]\n"
     ]
    }
   ],
   "source": [
    "print(R0_100k.most_common(10))\n",
    "print(R100k_200k.most_common(10))\n",
    "print(R200k_300k.most_common(10))\n",
    "print(R300k_400k.most_common(10))\n",
    "print(R400k_500k.most_common(10))\n",
    "print(R500k_600k.most_common(10))\n",
    "print(R600k_700k.most_common(10))\n",
    "print(R700k_800k.most_common(10))\n",
    "print(R800k_900k.most_common(10))\n",
    "print(R900k_1000k.most_common(10))\n",
    "print(R1000k_3000k.most_common(10))\n",
    "print(R3000kabove.most_common(10))"
   ]
  },
  {
   "cell_type": "markdown",
   "metadata": {},
   "source": [
    "## Most popular words over time"
   ]
  },
  {
   "cell_type": "code",
   "execution_count": 18,
   "metadata": {},
   "outputs": [
    {
     "data": {
      "image/png": "[encoded data removed]",
      "text/plain": [
       "<matplotlib.figure.Figure at 0x1a265d0518>"
      ]
     },
     "metadata": {},
     "output_type": "display_data"
    }
   ],
   "source": [
    "# fig = plt.figure()\n",
    "for x in range(1,11):\n",
    "    df = sort_by_date_csv('metadata/metadata%d.csv'%(x))\n",
    "#     print(Counter(df[\"publication_date\"]))\n",
    "    plt.hist(df[\"publication_date\"], alpha=0.5, \\\n",
    "             bins=[1800,1900,1910,1920,1930,1940,1950,1960,1970,1980,1990,2000,2010,2020])\n",
    "#    df[\"publication_date\"].hist()\n",
    "#     ax = fig.add_subplot(df[\"publication_date\"])"
   ]
  },
  {
   "cell_type": "markdown",
   "metadata": {},
   "source": [
    "## Most popular words by rating for REVIEWS"
   ]
  },
  {
   "cell_type": "code",
   "execution_count": 119,
   "metadata": {
    "collapsed": true
   },
   "outputs": [],
   "source": [
    "def review_csv_to_df(path):\n",
    "    df = pd.read_csv(path)\n",
    "    df = df.dropna(axis=0)\n",
    "    return df"
   ]
  },
  {
   "cell_type": "code",
   "execution_count": 138,
   "metadata": {
    "collapsed": true
   },
   "outputs": [],
   "source": [
    "def review_process(text, lemmatizer=nltk.stem.wordnet.WordNetLemmatizer()):\n",
    "    text = text.lower()\n",
    "    text = text.replace(\"'s\", \"\")\n",
    "    text = text.replace(\"'\", \"\")\n",
    "    for char in text: \n",
    "        if (char in string.punctuation): text = text.replace(char, \" \")\n",
    "    words = nltk.word_tokenize(text)\n",
    "    words = [lemmatizer.lemmatize(word) for word in words]\n",
    "    filtered_words = [word for word in words if word not in stopwords]\n",
    "    return filtered_words\n",
    "\n",
    "def review_process_all(df, lemmatizer=nltk.stem.wordnet.WordNetLemmatizer()):\n",
    "    for i, row in df.iterrows():\n",
    "        original = row['text']\n",
    "        df.at[i, 'text'] = review_process(original)\n",
    "    return df\n",
    "\n",
    "def review_get_rare_words(processed):\n",
    "    one, two, three, four, five = [], [], [], [], []\n",
    "    for i, row in processed.iterrows():\n",
    "        if (row['rating'] == 1.0): one.extend(row['text'])\n",
    "        elif (row['rating'] == 2.0): two.extend(row['text'])\n",
    "        elif (row['rating'] == 3.0): three.extend(row['text'])\n",
    "        elif (row['rating'] == 4.0): four.extend(row['text'])\n",
    "        elif (row['rating'] == 5.0): five.extend(row['text'])\n",
    "    return Counter(one), Counter(two), Counter(three), Counter(four), Counter(five)"
   ]
  },
  {
   "cell_type": "code",
   "execution_count": 139,
   "metadata": {
    "collapsed": true
   },
   "outputs": [],
   "source": [
    "one, two, three, four, five = Counter(), Counter(), Counter(), Counter(), Counter()\n",
    "for i in range(1,3):\n",
    "    df = review_csv_to_df('reviews%d.csv'%(i))\n",
    "#     df = review_csv_to_df('reviews1.csv')\n",
    "    processed = review_process_all(df)\n",
    "    a, b, c, d, e = review_get_rare_words(processed)\n",
    "    one += a\n",
    "    two += b\n",
    "    three += c\n",
    "    four += d\n",
    "    five += e"
   ]
  },
  {
   "cell_type": "code",
   "execution_count": 141,
   "metadata": {},
   "outputs": [
    {
     "name": "stdout",
     "output_type": "stream",
     "text": [
      "rating one :   \n",
      "[('book', 24507), ('wa', 15510), ('read', 9576), ('like', 5836), ('one', 5778), ('really', 3641), ('reading', 3559), ('story', 3541), ('character', 3481), ('time', 3358), ('first', 3142), ('get', 2947), ('would', 2942), ('im', 2839), ('dont', 2711), ('page', 2652), ('didnt', 2583), ('’', 2370), ('much', 2370), ('author', 2369), ('good', 2358), ('ha', 2336), ('even', 2250), ('think', 2245), ('know', 2130), ('novel', 2090), ('people', 2081), ('could', 1984), ('ever', 1920), ('writing', 1917)]\n",
      "\n",
      "\n",
      "rating two :   \n",
      "[('book', 34378), ('wa', 27696), ('read', 14547), ('like', 9750), ('one', 9525), ('story', 8653), ('really', 7051), ('character', 5933), ('time', 5600), ('first', 5547), ('much', 5382), ('reading', 5313), ('good', 4929), ('didnt', 4658), ('’', 4624), ('would', 4545), ('ha', 4497), ('im', 4318), ('novel', 4297), ('get', 4217), ('think', 3958), ('interesting', 3723), ('author', 3585), ('dont', 3577), ('well', 3438), ('love', 3297), ('way', 3291), ('de', 3180), ('writing', 3167), ('know', 3112)]\n",
      "\n",
      "\n",
      "rating three :   \n",
      "[('book', 69248), ('wa', 55277), ('read', 36254), ('story', 23936), ('one', 21466), ('like', 18045), ('good', 14273), ('time', 14221), ('first', 13855), ('really', 13185), ('reading', 12033), ('’', 11455), ('character', 11396), ('much', 11211), ('ha', 10786), ('novel', 10575), ('interesting', 9815), ('de', 9645), ('would', 9215), ('life', 8630), ('well', 8470), ('get', 8372), ('think', 8202), ('year', 8000), ('little', 7961), ('im', 7938), ('love', 7871), ('3', 7845), ('star', 7589), ('way', 7246)]\n",
      "\n",
      "\n",
      "rating four :   \n",
      "[('book', 111506), ('wa', 77590), ('read', 60854), ('story', 38601), ('one', 36674), ('like', 24406), ('time', 23739), ('first', 22079), ('reading', 21221), ('really', 21113), ('good', 20196), ('’', 19973), ('de', 19535), ('ha', 19267), ('novel', 17834), ('character', 17218), ('life', 17048), ('great', 16288), ('love', 16101), ('year', 15300), ('much', 15289), ('well', 14946), ('la', 13866), ('would', 12922), ('e', 12362), ('think', 12128), ('way', 11952), ('que', 11873), ('enjoyed', 11596), ('و', 11370)]\n",
      "\n",
      "\n",
      "rating five :   \n",
      "[('book', 129811), ('read', 72841), ('wa', 71934), ('one', 45542), ('story', 34432), ('time', 30449), ('love', 24256), ('reading', 23633), ('like', 22459), ('first', 21904), ('’', 21648), ('ha', 21270), ('de', 19488), ('life', 19123), ('year', 18805), ('great', 18089), ('novel', 17535), ('really', 16484), ('much', 15432), ('character', 15120), ('loved', 13789), ('good', 13508), ('la', 13094), ('would', 12782), ('many', 12690), ('think', 12626), ('way', 12536), ('e', 12349), ('well', 12346), ('ive', 12217)]\n"
     ]
    }
   ],
   "source": [
    "print(\"rating one :   \")\n",
    "print(one.most_common(30))\n",
    "print(\"\\n\")\n",
    "print(\"rating two :   \")\n",
    "print(two.most_common(30))\n",
    "print(\"\\n\")\n",
    "print(\"rating three :   \")\n",
    "print(three.most_common(30))\n",
    "print(\"\\n\")\n",
    "print(\"rating four :   \")\n",
    "print(four.most_common(30))\n",
    "print(\"\\n\")\n",
    "print(\"rating five :   \")\n",
    "print(five.most_common(30))"
   ]
  },
  {
   "cell_type": "markdown",
   "metadata": {
    "collapsed": true
   },
   "source": [
    "## Most popular words over time"
   ]
  },
  {
   "cell_type": "code",
   "execution_count": 56,
   "metadata": {},
   "outputs": [],
   "source": [
    "def get_rare_words_time(processed):\n",
    "    t1800,t1900,t1950, t1960, t1970, t1980, t1990, t1995, t2000, \\\n",
    "    t2005,t2010, t2015, t2020  = [], [], [], [], [], [], [], [], [], [], [], [], []\n",
    "    for i, row in processed.iterrows():\n",
    "        \n",
    "        if (0 < int(row['publication_date']) <= 1800): t1800.extend(row['description'])\n",
    "        elif (1800 < int(row['publication_date']) <= 1900): t1900.extend(row['description'])\n",
    "        elif (1900 < int(row['publication_date']) <= 1950): t1950.extend(row['description'])\n",
    "        elif (1950 < int(row['publication_date']) <= 1960): t1960.extend(row['description'])\n",
    "        elif (1960 < int(row['publication_date']) <= 1970): t1970.extend(row['description'])\n",
    "        elif (1970 < int(row['publication_date']) <= 1980): t1980.extend(row['description'])\n",
    "        elif (1980 < int(row['publication_date']) <= 1990): t1990.extend(row['description'])\n",
    "        elif (1990 < int(row['publication_date']) <= 1995): t1995.extend(row['description'])\n",
    "        elif (1995 < int(row['publication_date']) <= 2000): t2000.extend(row['description'])\n",
    "        elif (2000 < int(row['publication_date']) <= 2005): t2005.extend(row['description'])\n",
    "        elif (2005 < int(row['publication_date']) <= 2010): t2010.extend(row['description'])\n",
    "        elif (2010 < int(row['publication_date']) <= 2015): t2015.extend(row['description'])\n",
    "        elif (2015 < int(row['publication_date']) <= 2020): t2020.extend(row['description'])\n",
    "        \n",
    "    return Counter(t1800), Counter(t1900), Counter(t1950), Counter(t1960), Counter(t1970), Counter(t1980), \\\n",
    "        Counter(t1990), Counter(t1995), Counter(t2000), Counter(t2005), Counter(t2010), Counter(t2015), Counter(t2020)"
   ]
  },
  {
   "cell_type": "code",
   "execution_count": 64,
   "metadata": {},
   "outputs": [],
   "source": [
    "t1800,t1900,t1950, t1960, t1970, t1980, t1990, t1995, \\\n",
    "t2000, t2005, t2010, t2015,t2020 \\\n",
    "= Counter(), Counter(), Counter(), \\\n",
    "Counter(), Counter(), Counter(), \\\n",
    "Counter(), Counter(), Counter(), Counter(), Counter(), \\\n",
    "Counter() , Counter()\n",
    "\n",
    "for x in range(10):\n",
    "    df = sort_by_date_csv('metadata/metadata%d.csv'%(x+1))\n",
    "    processed = process_all(df)\n",
    "    a, b, c, d, e, f, g, h, i, j, k, l, m = get_rare_words_time(processed)\n",
    "    t1800 += a\n",
    "    t1900 +=b \n",
    "    t1950 +=c\n",
    "    t1960 += d\n",
    "    t1970 += e\n",
    "    t1980 += f \n",
    "    t1990 += g\n",
    "    t1995 += h\n",
    "    t2000 += i \n",
    "    t2005 += j \n",
    "    t2010 += k\n",
    "    t2015 += l\n",
    "    t2020 += m"
   ]
  },
  {
   "cell_type": "code",
   "execution_count": 65,
   "metadata": {},
   "outputs": [
    {
     "name": "stdout",
     "output_type": "stream",
     "text": [
      "1800 and below :   \n",
      "[]\n",
      "\n",
      "\n",
      "1800-1900 :   \n",
      "[('soseki', 6), ('well', 5), ('book', 5), ('use', 3), ('old', 3), ('comedy', 3), ('form', 3), ('lead', 3), ('family', 3), ('institutions', 2), ('even', 2), ('cloud', 2), ('play', 2), ('revise', 2), ('first', 2), ('also', 2), ('successful', 2), ('genre', 2), ('ever', 2), ('man', 2), ('common', 2), ('time', 2), ('follow', 2), ('relate', 2), ('field', 2), ('school', 2), ('teachers', 2), ('call', 2), ('requisition', 2), ('sustain', 2)]\n",
      "\n",
      "\n",
      "1900-1950 :   \n",
      "[('book', 49), ('work', 32), ('edition', 30), ('life', 27), ('de', 26), ('one', 23), ('story', 22), ('first', 21), ('part', 21), ('library', 16), ('volumes', 16), ('la', 16), ('loeb', 15), ('great', 15), ('survive', 14), ('cover', 14), ('history', 13), ('classical', 13), ('conflict', 13), ('iv', 13), ('write', 12), ('begin', 12), ('new', 12), ('stories', 12), ('love', 12), ('v', 12), ('—', 12), ('fish', 11), ('come', 11), ('make', 11)]\n",
      "\n",
      "\n",
      "1950-1960 :   \n",
      "[('one', 48), ('life', 39), ('work', 36), ('write', 31), ('first', 29), ('new', 29), ('history', 27), ('’', 26), ('live', 25), ('world', 25), ('book', 25), ('play', 23), ('man', 22), ('love', 22), ('story', 21), ('become', 21), ('”', 20), ('—', 20), ('find', 20), ('american', 20), ('novel', 19), ('edition', 19), ('dream', 19), ('include', 18), ('nin', 18), ('well', 17), ('know', 17), ('character', 16), ('human', 16), ('two', 15)]\n",
      "\n",
      "\n",
      "1960-1970 :   \n",
      "[('•', 203), ('book', 91), ('work', 91), ('write', 88), ('life', 80), ('one', 78), ('first', 76), ('story', 73), ('time', 61), ('novel', 61), ('’', 60), ('vonnegut', 58), ('new', 57), ('man', 55), ('world', 55), ('edition', 53), ('kurt', 52), ('include', 46), ('study', 46), ('make', 46), ('modern', 44), ('great', 42), ('author', 42), ('character', 42), ('also', 39), ('essay', 38), ('short', 38), ('well', 37), ('help', 37), ('american', 36)]\n",
      "\n",
      "\n",
      "1970-1980 :   \n",
      "[('book', 267), ('’', 234), ('one', 231), ('•', 227), ('work', 204), ('·', 172), ('write', 167), ('life', 167), ('de', 166), ('new', 163), ('world', 152), ('story', 148), ('time', 141), ('first', 133), ('man', 118), ('find', 114), ('make', 109), ('love', 106), ('also', 97), ('history', 92), ('include', 92), ('great', 88), ('la', 88), ('edition', 86), ('two', 83), ('author', 82), ('years', 82), ('publish', 82), ('become', 77), ('novel', 77)]\n",
      "\n",
      "\n",
      "1980-1990 :   \n",
      "[('book', 821), ('one', 642), ('de', 618), ('new', 550), ('life', 524), ('time', 519), ('work', 518), ('’', 510), ('world', 489), ('first', 433), ('write', 387), ('make', 373), ('find', 316), ('love', 306), ('man', 302), ('include', 301), ('story', 299), ('also', 284), ('la', 284), ('author', 274), ('live', 271), ('years', 269), ('history', 263), ('know', 252), ('edition', 236), ('become', 222), ('american', 222), ('war', 221), ('well', 209), ('publish', 209)]\n",
      "\n",
      "\n",
      "1990-1995 :   \n",
      "[('book', 996), ('one', 782), ('new', 773), ('work', 734), ('life', 717), ('’', 704), ('world', 684), ('time', 665), ('•', 660), ('de', 608), ('first', 538), ('write', 527), ('make', 437), ('include', 436), ('story', 434), ('love', 397), ('author', 369), ('find', 364), ('man', 359), ('history', 350), ('live', 344), ('two', 343), ('american', 343), ('la', 332), ('also', 322), ('novel', 320), ('war', 317), ('know', 306), ('years', 297), ('stories', 295)]\n",
      "\n",
      "\n",
      "1995-2000 :   \n",
      "[('book', 2461), ('new', 2082), ('one', 2023), ('life', 2016), ('world', 1651), ('work', 1618), ('time', 1518), ('write', 1339), ('de', 1334), ('make', 1229), ('first', 1219), ('story', 1166), ('love', 1155), ('include', 1090), ('live', 1069), ('find', 1046), ('’', 1019), ('history', 885), ('also', 878), ('man', 874), ('take', 865), ('american', 846), ('years', 845), ('author', 840), ('know', 816), ('well', 798), ('novel', 784), ('war', 776), ('two', 744), ('come', 735)]\n",
      "\n",
      "\n",
      "2000 - 2005 :   \n",
      "[('book', 6204), ('new', 5712), ('’', 5358), ('one', 5241), ('life', 5013), ('world', 4304), ('work', 4002), ('time', 3991), ('make', 3468), ('include', 3296), ('write', 3254), ('de', 3215), ('first', 3163), ('find', 3006), ('love', 2794), ('story', 2702), ('live', 2573), ('author', 2387), ('take', 2322), ('know', 2271), ('history', 2263), ('also', 2227), ('war', 2071), ('man', 2039), ('years', 2033), ('come', 2015), ('american', 1995), ('two', 1955), ('well', 1936), ('people', 1878)]\n",
      "\n",
      "\n",
      "2005 - 2010 :   \n",
      "[('’', 3846), ('book', 3215), ('new', 3111), ('one', 2915), ('life', 2733), ('world', 2447), ('time', 2123), ('work', 2036), ('make', 1960), ('de', 1915), ('find', 1719), ('first', 1611), ('include', 1491), ('live', 1487), ('love', 1486), ('take', 1394), ('write', 1334), ('story', 1310), ('know', 1306), ('history', 1205), ('author', 1189), ('man', 1166), ('use', 1157), ('years', 1107), ('come', 1097), ('also', 1078), ('become', 1068), ('two', 1061), ('get', 1061), ('”', 1036)]\n",
      "\n",
      "\n",
      "2010 - 2015 :   \n",
      "[('de', 131), ('book', 113), ('one', 107), ('•', 96), ('new', 91), ('la', 83), ('life', 82), ('time', 77), ('’', 76), ('work', 75), ('story', 71), ('love', 70), ('first', 60), ('world', 59), ('make', 59), ('vonnegut', 58), ('include', 58), ('kurt', 53), ('author', 51), ('que', 51), ('write', 48), ('en', 45), ('also', 42), ('play', 42), ('man', 41), ('find', 41), ('live', 40), ('stories', 40), ('best', 40), ('history', 40)]\n",
      "\n",
      "\n",
      "2015 - 2020 :   \n",
      "[('de', 52), ('’', 30), ('time', 24), ('la', 24), ('new', 23), ('world', 23), ('work', 22), ('love', 22), ('write', 21), ('el', 21), ('en', 20), ('one', 19), ('life', 16), ('book', 16), ('author', 15), ('use', 14), ('mr', 14), ('que', 14), ('first', 13), ('three', 13), ('“', 13), ('”', 13), ('melville', 13), ('young', 12), ('story', 12), ('stories', 12), ('begin', 12), ('man', 11), ('experience', 11), ('find', 11)]\n",
      "\n",
      "\n"
     ]
    }
   ],
   "source": [
    "print(\"1800 and below :   \")\n",
    "print(t1800.most_common(30))\n",
    "print(\"\\n\")\n",
    "print(\"1800-1900 :   \")\n",
    "print(t1900.most_common(30))\n",
    "print(\"\\n\")\n",
    "print(\"1900-1950 :   \")\n",
    "print(t1950.most_common(30))\n",
    "print(\"\\n\")\n",
    "print(\"1950-1960 :   \")\n",
    "print(t1960.most_common(30))\n",
    "print(\"\\n\")\n",
    "print(\"1960-1970 :   \")\n",
    "print(t1970.most_common(30))\n",
    "print(\"\\n\")\n",
    "print(\"1970-1980 :   \")\n",
    "print(t1980.most_common(30))\n",
    "print(\"\\n\")\n",
    "print(\"1980-1990 :   \")\n",
    "print(t1990.most_common(30))\n",
    "print(\"\\n\")\n",
    "print(\"1990-1995 :   \")\n",
    "print(t1995.most_common(30))\n",
    "print(\"\\n\")\n",
    "print(\"1995-2000 :   \")\n",
    "print(t2000.most_common(30))\n",
    "print(\"\\n\")\n",
    "print(\"2000 - 2005 :   \")\n",
    "print(t2005.most_common(30))\n",
    "print(\"\\n\")\n",
    "print(\"2005 - 2010 :   \")\n",
    "print(t2010.most_common(30))\n",
    "print(\"\\n\")\n",
    "print(\"2010 - 2015 :   \")\n",
    "print(t2015.most_common(30))\n",
    "print(\"\\n\")\n",
    "print(\"2015 - 2020 :   \")\n",
    "print(t2020.most_common(30))\n",
    "print(\"\\n\")"
   ]
  },
  {
   "cell_type": "code",
   "execution_count": null,
   "metadata": {
    "collapsed": true
   },
   "outputs": [],
   "source": []
  }
 ],
 "metadata": {
  "kernelspec": {
   "display_name": "Python 3",
   "language": "python",
   "name": "python3"
  },
  "language_info": {
   "codemirror_mode": {
    "name": "ipython",
    "version": 3
   },
   "file_extension": ".py",
   "mimetype": "text/x-python",
   "name": "python",
   "nbconvert_exporter": "python",
   "pygments_lexer": "ipython3",
   "version": "3.6.3"
  }
 },
 "nbformat": 4,
 "nbformat_minor": 2
}
